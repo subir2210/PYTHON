{
 "cells": [
  {
   "cell_type": "code",
   "execution_count": null,
   "metadata": {},
   "outputs": [],
   "source": [
    "#If - elif - else statement"
   ]
  },
  {
   "cell_type": "code",
   "execution_count": null,
   "metadata": {},
   "outputs": [],
   "source": [
    "#W. A P. which takes one number from 0 to 9 from the user and prints it in the word. And if the word is not from 0 to 9 then\n",
    "#it should print that number is outside of the range and program should exit.\n",
    "# For exapmple:- \n",
    "# input = 1\n",
    "# output = one\n",
    "\n",
    "a = eval(input('Enter the number:'))\n",
    "b = range(a+1)\n",
    "if a in b:\n",
    "    if a <= 9:\n",
    "       print(a)\n",
    "    else:\n",
    "        print(a,'is outside of the range')\n",
    "\n",
    "\n"
   ]
  },
  {
   "cell_type": "code",
   "execution_count": null,
   "metadata": {},
   "outputs": [],
   "source": [
    "#W. A P. to implement calculator but the operation to be done and two numbers will be taken as input from user:-\n",
    "#Operation console should show below:-\n",
    "#     Please select any one operation from below:-\n",
    "#         * To add enter 1\n",
    "#         * to subtract enter 2\n",
    "#         * To multiply enter 3\n",
    "#         * To divide enter 4\n",
    "#         * To divide and find quotient enter 5\n",
    "#         * To divide and find remainder enter 6\n",
    "#         * To divide and find num1 to the power of num2 enter 7\n",
    "#         * To Come out of the program enter 8\n",
    "\n",
    "a = eval(input('Enter the number 1:'))\n",
    "b = eval(input('Enter the number 2:'))\n",
    "c = eval(input('Enter the operation:'))\n",
    "\n",
    "\n",
    "if   c == 1:\n",
    "         print(a+b)\n",
    "elif  c == 2:\n",
    "          print(a-b)\n",
    "elif c == 3:\n",
    "          print(a*b)\n",
    "elif c == 4:\n",
    "          print(a/b)\n",
    "elif c == 5:\n",
    "          print(a//b)\n",
    "elif c == 6:\n",
    "          print(a%b)\n",
    "elif c == 7:\n",
    "          print(a**b)\n",
    "elif c == 8:\n",
    "          print('program end')\n",
    "    \n",
    "    \n",
    "        \n"
   ]
  },
  {
   "cell_type": "code",
   "execution_count": 46,
   "metadata": {},
   "outputs": [
    {
     "name": "stdout",
     "output_type": "stream",
     "text": [
      "Enter a year: 1900\n",
      "1900 is not leap year\n"
     ]
    }
   ],
   "source": [
    "#W A P to check whether a year entered by user is an leap year or not?\n",
    "#Check with below input:-\n",
    "    #leap year:- 2012, 1968, 2004, 1200, 1600,2400\n",
    "    #Non-lear year:- 1971, 2006, 1700,1800,1900\n",
    "    \n",
    "a=int(input(\"Enter a year: \"))\n",
    "\n",
    "if a%4==0:\n",
    "    if a%400 == 0:\n",
    "        print(f\"{a} is leap Year\")\n",
    "    else:\n",
    "        print(f\"{a} is not leap year\")\n"
   ]
  },
  {
   "cell_type": "code",
   "execution_count": null,
   "metadata": {},
   "outputs": [],
   "source": [
    "#W A P which takes one number from the user and checks whether it is an even or odd number?, If it even then prints number is \n",
    "#even number else prints that number is odd number.\n",
    "\n",
    "a = eval(input('Enter the number:'))\n",
    "if a%2 == 0:\n",
    "    print(a,'is even number')\n",
    "else:\n",
    "    print(a,'is odd number')\n"
   ]
  },
  {
   "cell_type": "code",
   "execution_count": 4,
   "metadata": {},
   "outputs": [
    {
     "name": "stdout",
     "output_type": "stream",
     "text": [
      "Enter the number 1:3\n",
      "Enter the number 2:2\n",
      "num1 is greater than num2\n"
     ]
    }
   ],
   "source": [
    "#W A P which takes two numbers from the user and prints below output:-\n",
    "#     1. num1 is greater than num2 if num1 is greater than num2\n",
    "#     2. num1 is smaller than num2 if num1 is smaller than num2\n",
    "#     3. num1 is equal to num2 if num1 and num2 are equal\n",
    "\n",
    "#Note:- 1. Do this problem using if - else \n",
    "#       2. Do this using ternary operator\n",
    "\n",
    "a = eval(input('Enter the number 1:'))\n",
    "b = eval(input('Enter the number 2:'))\n",
    "if  a > b or a == b:\n",
    "    if a > b:\n",
    "        print('num1 is greater than num2')\n",
    "    else:\n",
    "        print('num1 is equal to num2')\n",
    "else:\n",
    "    print('num1 is smaller than num2') "
   ]
  },
  {
   "cell_type": "code",
   "execution_count": null,
   "metadata": {},
   "outputs": [],
   "source": [
    "#W A P which takes three numbers from the user and prints below output:-\n",
    "#     1. num1 is greater than num2 and num3 if num1 is greater than num2 and num3\n",
    "#     2. num2 is greater than num1 and num3 if num2 is greater than num1 and num3\n",
    "#     3. num3 is greater than num1 and num2 if num3 is greater than num1 and num2\n",
    "\n",
    "#Note:- 1. Do this problem using if - elif - else \n",
    "#       2. Do this using ternary operator\n",
    "\n",
    "n1 = eval(input('Enter the number 1:'))\n",
    "n2 = eval(input('Enter the number 2:'))\n",
    "n3 = eval(input('Enter the number 3:'))\n",
    "if   n1 > n2 and n1 > n3:\n",
    "    print('num1 is greater than num2 and num3')\n",
    "elif n2 > n1 and n2 > n3:\n",
    "    print('num2 is greater than num1 and num3')\n",
    "else:\n",
    "    print('num3 is greater than num2 and num3')\n"
   ]
  },
  {
   "cell_type": "code",
   "execution_count": 5,
   "metadata": {},
   "outputs": [],
   "source": [
    "#Loops - for loop, while loop"
   ]
  },
  {
   "cell_type": "code",
   "execution_count": 8,
   "metadata": {},
   "outputs": [
    {
     "name": "stdout",
     "output_type": "stream",
     "text": [
      "55\n"
     ]
    }
   ],
   "source": [
    "#Write a Python program to find the length of the my_str using loop:-\n",
    "\n",
    "#Input:- 'Write a Python program to find the length of the my_str'\n",
    "#Output:- 55\n",
    "\n",
    "a = 'Write a Python program to find the length of the my_str'\n",
    "ct = 0\n",
    "for i in a:\n",
    "    ct += 1\n",
    "print(ct)    \n",
    "    \n"
   ]
  },
  {
   "cell_type": "code",
   "execution_count": 10,
   "metadata": {},
   "outputs": [
    {
     "name": "stdout",
     "output_type": "stream",
     "text": [
      "9\n"
     ]
    }
   ],
   "source": [
    "#Write a Python program to find the total number of times letter 'p' is appeared in the below string using loop:-\n",
    "    \n",
    "#Input:- 'peter piper picked a peck of pickled peppers.'\n",
    "#Output:- 9\n",
    "\n",
    "a = 'peter piper picked a peck of pickled peppers.'\n",
    "ct = 0\n",
    "for i in a:\n",
    "    if i == 'p':\n",
    "       ct += 1\n",
    "print(ct)    "
   ]
  },
  {
   "cell_type": "code",
   "execution_count": 11,
   "metadata": {},
   "outputs": [
    {
     "name": "stdout",
     "output_type": "stream",
     "text": [
      "0\n",
      "6\n",
      "8\n",
      "12\n",
      "21\n",
      "29\n",
      "37\n",
      "39\n",
      "40\n"
     ]
    }
   ],
   "source": [
    "#Write a Python Program, to print all the indexes of all occurences of letter 'p' appeared in the string using loop:-\n",
    "    \n",
    "#Input:- 'peter piper picked a peck of pickled peppers.'\n",
    "#Output:- \n",
    "# 0\n",
    "# 6\n",
    "# 8\n",
    "# 12\n",
    "# 21\n",
    "# 29\n",
    "# 37\n",
    "# 39\n",
    "# 40\n",
    "\n",
    "a = 'peter piper picked a peck of pickled peppers.'\n",
    "for i in range(0,len(a)):\n",
    "    if a[i] == 'p':\n",
    "        print(i)\n",
    "    "
   ]
  },
  {
   "cell_type": "code",
   "execution_count": 21,
   "metadata": {},
   "outputs": [
    {
     "name": "stdout",
     "output_type": "stream",
     "text": [
      "['peter', 'piper', 'picked', 'a', 'peck', 'of', 'pickled', 'peppers']\n"
     ]
    }
   ],
   "source": [
    "#Write a python program to find below output using loop:-\n",
    "\n",
    "#Input:- 'peter piper picked a peck of pickled peppers.'\n",
    "#Output:- ['peter', 'piper', 'picked', 'a', 'peck', 'of', 'pickled', 'peppers']\n",
    "\n",
    "a = 'peter piper picked a peck of pickled peppers.'\n",
    "str1 = ''\n",
    "s = []\n",
    "for i in a:\n",
    "    if i == ' ' or i == '.':\n",
    "        s.append(str1)\n",
    "        str1 = ''\n",
    "    else:\n",
    "        str1 += i\n",
    "print(s)\n",
    "        \n",
    "\n"
   ]
  },
  {
   "cell_type": "code",
   "execution_count": 3,
   "metadata": {},
   "outputs": [
    {
     "name": "stdout",
     "output_type": "stream",
     "text": [
      "peppers pickled of peck a picked piper peter \n"
     ]
    }
   ],
   "source": [
    "#Write a python program to find below output using loop:-\n",
    "\n",
    "#Input:- 'peter piper picked a peck of pickled peppers.'\n",
    "#Output:- 'peppers pickled of peck a picked piper peter'\n",
    "\n",
    "a = 'peter piper picked a peck of pickled peppers.'\n",
    "lst = []\n",
    "s = ''\n",
    "for i in a:\n",
    "    if i == ' ' or i =='.':\n",
    "        lst.append(s)\n",
    "        s = ''\n",
    "    else:\n",
    "        s += i\n",
    "st = ''\n",
    "for i in range(-1, -(len(lst)+1), -1):\n",
    "        st = st  + lst[i] + ' '\n",
    "print(st)\n",
    "\n",
    "        \n",
    "    \n"
   ]
  },
  {
   "cell_type": "code",
   "execution_count": 27,
   "metadata": {},
   "outputs": [
    {
     "name": "stdout",
     "output_type": "stream",
     "text": [
      "sreppep delkcip fo kcep a dekcip repip retep\n"
     ]
    }
   ],
   "source": [
    "#Write a python program to find below output using loop:-\n",
    "\n",
    "#Input:- 'peter piper picked a peck of pickled peppers.'\n",
    "#Output:- 'sreppep delkcip fo kcep a dekcip repip retep'\n",
    "\n",
    "a = 'peter piper picked a peck of pickled peppers.'\n",
    "s = ''\n",
    "for i in a[-2::-1]:\n",
    "    s += i\n",
    "print(s)\n",
    "    "
   ]
  },
  {
   "cell_type": "code",
   "execution_count": 5,
   "metadata": {},
   "outputs": [
    {
     "name": "stdout",
     "output_type": "stream",
     "text": [
      "retep repip dekcip a kcep fo delkcip sreppep \n"
     ]
    }
   ],
   "source": [
    "#Write a python program to find below output using loop:-\n",
    "\n",
    "#Input:- 'peter piper picked a peck of pickled peppers.'\n",
    "#Output:- 'retep repip dekcip a kcep fo delkcip sreppep'\n",
    "\n",
    "\n",
    "a = 'peter piper picked a peck of pickled peppers.'\n",
    "s = ''\n",
    "f = ''\n",
    "b = ''\n",
    "for i in a[:len(a)]:\n",
    "    if i == ' ' or i == '.':\n",
    "        f = s[::-1] + ' '\n",
    "        b += f \n",
    "        s = ''\n",
    "    else:\n",
    "        s += i\n",
    "print(b)\n",
    "        "
   ]
  },
  {
   "cell_type": "code",
   "execution_count": 18,
   "metadata": {},
   "outputs": [
    {
     "name": "stdout",
     "output_type": "stream",
     "text": [
      "Peter Piper Picked A Peck Of Pickled Peppers \n"
     ]
    }
   ],
   "source": [
    "#Write a python program to find below output using loop:-\n",
    "\n",
    "#Input:- 'peter piper picked a peck of pickled peppers.'\n",
    "#Output:- 'Peter Piper Picked A Peck Of Pickled Peppers'\n",
    "\n",
    "a = 'peter piper picked a peck of pickled peppers.'\n",
    "s = ''\n",
    "b = ''\n",
    "f = ''\n",
    "for i in a:\n",
    "    if i == \" \" or i == '.':\n",
    "          b = s.title() + ' '\n",
    "          f += b\n",
    "          s = ''        \n",
    "    else:\n",
    "        s += i\n",
    "print(f)"
   ]
  },
  {
   "cell_type": "code",
   "execution_count": 32,
   "metadata": {},
   "outputs": [
    {
     "name": "stdout",
     "output_type": "stream",
     "text": [
      "Peter piper picked a peck of pickled peppers\n"
     ]
    }
   ],
   "source": [
    "#Write a python program to find below output using loop:-\n",
    "\n",
    "#Input:- 'Peter Piper Picked A Peck Of Pickled Peppers.'\n",
    "#Output:- 'Peter piper picked a peck of pickled peppers'\n",
    "\n",
    "a = 'Peter Piper Picked A Peck Of Pickled Peppers.'\n",
    "s =  ''\n",
    "b =  ''\n",
    "f =  ''\n",
    "for i  in range(0,len(a)-1):\n",
    "    if i == 0:\n",
    "       s = a[i].upper()\n",
    "       f += s       \n",
    "    else:\n",
    "        b = a[i].lower()\n",
    "        f += b\n",
    "print(f)  \n"
   ]
  },
  {
   "cell_type": "code",
   "execution_count": 18,
   "metadata": {},
   "outputs": [
    {
     "name": "stdout",
     "output_type": "stream",
     "text": [
      "29\n"
     ]
    }
   ],
   "source": [
    "#Write a python program to implement index method using loop. If sub_str is found in my_str then it will print the index\n",
    "# of first occurrence of first character of matching string in my_str:-\n",
    "\n",
    "#Input:- my_str = 'Peter Piper Picked A Peck Of Pickled Peppers.', sub_str = 'Pickl'\n",
    "#Output:- 29\n",
    "\n",
    "a = 'Peter Piper Picked A Peck Of Pickled Peppers.'\n",
    "b = 'Pickl'\n",
    "for i in range(0,len(a)):\n",
    "     if a[i] == b[0]:\n",
    "            if a[i+1] == b[1]:\n",
    "                if a[i+2] == b[2]:\n",
    "                     if a[i+3] == b[3]: \n",
    "                            if a[i+4] == b[4]:\n",
    "                                     print(i)    \n",
    "\n"
   ]
  },
  {
   "cell_type": "code",
   "execution_count": 18,
   "metadata": {},
   "outputs": [
    {
     "name": "stdout",
     "output_type": "stream",
     "text": [
      "Enter the sub string: Peck\n",
      "Enter the new sub string: Pack\n",
      "Peter Piper Picked A Pack Peck Of Pickled \n"
     ]
    }
   ],
   "source": [
    "#Write a python program to implement replace method using loop. If sub_str is found in my_str then it will replace the first \n",
    "#occurrence of sub_str with new_str else it will will print sub_str not found:-\n",
    "\n",
    "#Input:- my_str = 'Peter Piper Picked A Peck Of Pickled Peppers.', sub_str = 'Peck', new_str = 'Pack'\n",
    "#Output:- 'Peter Piper Picked A Pack Of Pickled Peppers.'\n",
    "\n",
    "\n",
    "my_str = 'Peter Piper Picked A Peck Of Pickled Peppers.'\n",
    "b = input('Enter the sub string: ')\n",
    "f = input('Enter the new sub string: ')\n",
    "c = ''\n",
    "d = ''\n",
    "ct = 0\n",
    "for i in my_str:\n",
    "    if  i != ' ':\n",
    "        c += i        \n",
    "        if c == b:\n",
    "             d += f + ' '\n",
    "             ct += 1\n",
    "    else:\n",
    "        d += c + ' '\n",
    "        c = ''\n",
    "if ct == 1:\n",
    "    print(d)\n",
    "else:\n",
    "    print('Substring not found')\n",
    "    \n",
    "    \n",
    "    \n",
    "    "
   ]
  },
  {
   "cell_type": "code",
   "execution_count": 2,
   "metadata": {},
   "outputs": [
    {
     "name": "stdout",
     "output_type": "stream",
     "text": [
      "********************Peck*****************\n"
     ]
    }
   ],
   "source": [
    "#Write a python program to find below output (implements rjust and ljust) using loop:-\n",
    "\n",
    "#Input:- 'Peter Piper Picked A Peck Of Pickled Peppers.', sub_str = 'Peck', \n",
    "#Output:- '*********************Peck********************'\n",
    "\n",
    "my_str = 'Peter Piper Picked A Peck Of Pickled Peppers.'\n",
    "b = 'Peck'\n",
    "c = ''\n",
    "d = ''\n",
    "for i in my_str:\n",
    "    if  i != ' ':\n",
    "        c += i       \n",
    "        if c == b:\n",
    "             d += b\n",
    "        else:\n",
    "            d += '*'\n",
    "    else:\n",
    "        c = ''\n",
    "print(d)"
   ]
  },
  {
   "cell_type": "code",
   "execution_count": 35,
   "metadata": {},
   "outputs": [
    {
     "name": "stdout",
     "output_type": "stream",
     "text": [
      "Enter the substring: is\n",
      "['This', 'is', 'Python class']\n"
     ]
    }
   ],
   "source": [
    "#Write a python program to find below output (implement partition and rpartition) using loop:-\n",
    "\n",
    "#Input:- 'This is Python class', sep = 'Peck', \n",
    "#Output:- ['This', 'is', 'Python class']\n",
    "\n",
    "s = 'This is Python class'\n",
    "a = input('Enter the substring: ')\n",
    "b = []\n",
    "c = ''\n",
    "ct = 0\n",
    "for i in range(0,len(s)):\n",
    "    if ct == 0:\n",
    "        c += s[i]\n",
    "        if c ==  a:\n",
    "           b.append(a)\n",
    "           c = ''\n",
    "           ct += 1\n",
    "        elif s[i] == ' ':\n",
    "           b.append(c[:len(c)-1])\n",
    "           c = '' \n",
    "    if ct >= 1:\n",
    "       c = s[i+1:]\n",
    "       b.append(c[1:len(c)])\n",
    "       break\n",
    "print(b)\n",
    "    \n"
   ]
  },
  {
   "cell_type": "code",
   "execution_count": 31,
   "metadata": {},
   "outputs": [
    {
     "name": "stdout",
     "output_type": "stream",
     "text": [
      "R{vjqp\n",
      "Rwvfql\n",
      "R{vfml\n"
     ]
    }
   ],
   "source": [
    "#Write a python program which takes one input string from user and encode it in below format:-\n",
    "#     1. #Input:- 'Python'\n",
    "       #Output:- 'R{vjqp'\n",
    "        \n",
    "my_str='Python'\n",
    "out_str=''\n",
    "for i in range (0,len(my_str)):\n",
    "    out_str=out_str+chr((ord(my_str[i])+2))\n",
    "print(out_str)     \n",
    "        \n",
    "        \n",
    "        \n",
    "\n",
    "#     2. #Input:- 'Python'\n",
    "       #Output:- 'Rwvfql'\n",
    "        \n",
    "a = 'Python'\n",
    "b = ''\n",
    "for j in range(0,len(a)):\n",
    "    if j%2 == 0:\n",
    "       b=b+chr((ord(a[j])+2))\n",
    "    else:\n",
    "       b=b+chr((ord(a[j])-2)) \n",
    "print(b)\n",
    "         \n",
    "         \n",
    "        \n",
    "#     3. #Input:- 'Python'\n",
    "       #Output:- 'R{vfml'\n",
    "        \n",
    "        \n",
    "c = 'Python'\n",
    "d = ''\n",
    "for h in range(0,len(c)):\n",
    "    if h  <= 2:\n",
    "       d=d+chr((ord(c[h])+2))\n",
    "    else:\n",
    "       d=d+chr((ord(c[h])-2)) \n",
    "print(d)    \n",
    "        \n",
    "        "
   ]
  },
  {
   "cell_type": "code",
   "execution_count": null,
   "metadata": {},
   "outputs": [],
   "source": []
  }
 ],
 "metadata": {
  "kernelspec": {
   "display_name": "Python 3",
   "language": "python",
   "name": "python3"
  },
  "language_info": {
   "codemirror_mode": {
    "name": "ipython",
    "version": 3
   },
   "file_extension": ".py",
   "mimetype": "text/x-python",
   "name": "python",
   "nbconvert_exporter": "python",
   "pygments_lexer": "ipython3",
   "version": "3.7.6"
  }
 },
 "nbformat": 4,
 "nbformat_minor": 2
}

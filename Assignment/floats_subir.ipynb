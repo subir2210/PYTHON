{
 "cells": [
  {
   "cell_type": "code",
   "execution_count": 9,
   "metadata": {},
   "outputs": [
    {
     "name": "stdout",
     "output_type": "stream",
     "text": [
      "Type is <class 'float'>\n",
      "ID is 101820880\n"
     ]
    }
   ],
   "source": [
    "#Declare a float value and store it in a variable. \n",
    "\n",
    "a = 10.20\n",
    "\n",
    "#Check the type and print the id of the same.\n",
    "\n",
    "print('Type is',type(a))\n",
    "print('ID is',id(a))"
   ]
  },
  {
   "cell_type": "code",
   "execution_count": 11,
   "metadata": {},
   "outputs": [
    {
     "name": "stdout",
     "output_type": "stream",
     "text": [
      "30.5\n",
      "-10.100000000000001\n",
      "207.06\n",
      "0.5024630541871921\n",
      "10.2\n",
      "0.0\n",
      "2.982520838862122e+20\n"
     ]
    }
   ],
   "source": [
    "#Arithmatic Operations on float\n",
    "#Take two different float values.\n",
    "# 10.20\n",
    "# 20.30\n",
    "#Store them in two different variables.\n",
    "a = 10.20\n",
    "b = 20.30\n",
    "#Do below operations on them:-\n",
    "    #Find sum of both numbers\n",
    "sum = a + b\n",
    "    #Find differce between them\n",
    "dif = a - b\n",
    "    #Find the product of both numbers.\n",
    "mul = a * b\n",
    "    #Find value after dividing first num with second number\n",
    "div = a/b    \n",
    "    #Find the remainder after dividing first number with second number\n",
    "mod = a%b\n",
    "    #Find the quotient after dividing first number with second number\n",
    "flr = a//b\n",
    "    #Find the result of first num to the power of second number.\n",
    "exp = a**b\n",
    "\n",
    "print(sum)\n",
    "print(dif)\n",
    "print(mul)\n",
    "print(div)\n",
    "print(mod)\n",
    "print(flr)\n",
    "print(exp)\n",
    "\n",
    "\n",
    "\n",
    "\n",
    "\n",
    "\n",
    "\n",
    "\n",
    "\n"
   ]
  },
  {
   "cell_type": "code",
   "execution_count": 13,
   "metadata": {},
   "outputs": [
    {
     "name": "stdout",
     "output_type": "stream",
     "text": [
      "False\n",
      "True\n",
      "False\n",
      "True\n"
     ]
    }
   ],
   "source": [
    "#Comparison Operators on float\n",
    "#Take two different float values.\n",
    "#Store them in two different variables.\n",
    "a = 10.20\n",
    "b = 20.30\n",
    "#Do below operations on them:-\n",
    "    #Compare these two numbers with below operator:-\n",
    "        #Greater than, '>'\n",
    "print(a > b)\n",
    "        #Smaller than, '<'\n",
    "print(a < b)\n",
    "        #Greater than or equal to, '>='\n",
    "print(a >= b)\n",
    "        #Less than or equal to, '<='\n",
    "print(a <= b)\n",
    "#Observe their output(return type should be boolean)\n",
    "\n",
    "\n",
    "\n",
    "\n",
    "\n",
    "\n",
    "\n",
    "\n"
   ]
  },
  {
   "cell_type": "code",
   "execution_count": 14,
   "metadata": {},
   "outputs": [
    {
     "name": "stdout",
     "output_type": "stream",
     "text": [
      "False\n",
      "True\n"
     ]
    }
   ],
   "source": [
    "#Equality Operator\n",
    "#Take two different float values.\n",
    "#Store them in two different variables.\n",
    "a = 10.20\n",
    "b = 20.30\n",
    "#Equuate them using equality operator (==, !=)\n",
    "print(a == b)\n",
    "print(a != b)\n",
    "#Observe the output(return type should be boolean)\n",
    "\n",
    "\n",
    "\n",
    "\n",
    "\n",
    "\n"
   ]
  },
  {
   "cell_type": "code",
   "execution_count": 15,
   "metadata": {},
   "outputs": [
    {
     "name": "stdout",
     "output_type": "stream",
     "text": [
      "20.3\n",
      "0.0\n",
      "0.0\n",
      "0.0\n",
      "10.2\n",
      "20.3\n",
      "20.3\n",
      "0.0\n",
      "False\n",
      "True\n"
     ]
    }
   ],
   "source": [
    "#Logical operators\n",
    "#Observe the output of below code\n",
    "#Cross check the output manually\n",
    "\n",
    "print(10.20 and 20.30)       #----------------------------------------->Output is 20.3\n",
    "print(0.0 and 20.30)         #----------------------------------------->Output is 0.0\n",
    "print(20.30 and 0.0)         #----------------------------------------->Output is 0.0\n",
    "print(0.0 and 0.0)           #----------------------------------------->Output is 0.0\n",
    "\n",
    "print(10.20 or 20.30)        #----------------------------------------->Output is 10.2\n",
    "print(0.0 or 20.30)          #----------------------------------------->Output is 20.3\n",
    "print(20.30 or 0.0)          #----------------------------------------->Output is 20.3\n",
    "print(0.0 or 0.0)            #----------------------------------------->Output is 0.0\n",
    "\n",
    "print(not 10.20)             #----------------------------------------->Output is False\n",
    "print(not 0.0)               #----------------------------------------->Output is True"
   ]
  },
  {
   "cell_type": "code",
   "execution_count": 19,
   "metadata": {},
   "outputs": [
    {
     "name": "stdout",
     "output_type": "stream",
     "text": [
      "False\n",
      "True\n"
     ]
    }
   ],
   "source": [
    "#What is the output of expression inside print statement. Cross check before running the program.\n",
    "a = 10.20\n",
    "b = 10.20\n",
    "print(a is b)          #True or False?\n",
    "print(a is not b)      #True or False?\n",
    "\n"
   ]
  },
  {
   "cell_type": "code",
   "execution_count": null,
   "metadata": {},
   "outputs": [],
   "source": [
    "#Bitwise operation is not applicable between instances of float.\n",
    "#Object reusability concept is not applicable on float values."
   ]
  },
  {
   "cell_type": "code",
   "execution_count": 17,
   "metadata": {},
   "outputs": [
    {
     "name": "stdout",
     "output_type": "stream",
     "text": [
      "True\n",
      "True\n",
      "True\n",
      "True\n",
      "True\n",
      "True\n"
     ]
    }
   ],
   "source": [
    "#Membership operation\n",
    "#in, not in are two membership operators and it returns boolean value\n",
    "\n",
    "print('2.7' in 'Python2.7.8')\n",
    "print(10.20 in [10,10.20,10+20j,'Python'])\n",
    "print(10.20 in (10,10.20,10+20j,'Python'))\n",
    "print(20.30 in  \n",
    "print(10 in range(20))"
   ]
  },
  {
   "cell_type": "code",
   "execution_count": null,
   "metadata": {},
   "outputs": [],
   "source": []
  }
 ],
 "metadata": {
  "kernelspec": {
   "display_name": "Python 3",
   "language": "python",
   "name": "python3"
  },
  "language_info": {
   "codemirror_mode": {
    "name": "ipython",
    "version": 3
   },
   "file_extension": ".py",
   "mimetype": "text/x-python",
   "name": "python",
   "nbconvert_exporter": "python",
   "pygments_lexer": "ipython3",
   "version": "3.7.6"
  }
 },
 "nbformat": 4,
 "nbformat_minor": 2
}

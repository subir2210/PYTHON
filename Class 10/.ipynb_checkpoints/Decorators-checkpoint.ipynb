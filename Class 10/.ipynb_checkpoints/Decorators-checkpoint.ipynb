{
 "cells": [
  {
   "cell_type": "code",
   "execution_count": null,
   "metadata": {},
   "outputs": [],
   "source": [
    "What is decorator?\n",
    "The person who does decoration. \n",
    "Decoration is adding something to make it more attractive and presentable.\n",
    "\n",
    "'Decorator is a callable python object which is used to modify a function or a class.'\n",
    "\n",
    "There are two types of decorators:-\n",
    "    1. Function decorators\n",
    "    2. Class decorators\n",
    "    \n",
    "Topics to know before decorators:-\n",
    "    1. Nested Function\n",
    "    2. A function can be passed as an arguments to another function\n",
    "    3. A function can return another function\n",
    "    4. Function name are reference\n",
    "    5. Function aliasing"
   ]
  },
  {
   "cell_type": "code",
   "execution_count": 20,
   "metadata": {},
   "outputs": [
    {
     "name": "stdout",
     "output_type": "stream",
     "text": [
      "We are into f1 function\n",
      "This f2 is inside f1\n",
      "2162508673816\n",
      "f2\n"
     ]
    }
   ],
   "source": [
    "#closure :- If a function returns another function then the outer is called function closure\n",
    "def f1():\n",
    "    print('We are into f1 function')\n",
    "    def f2():\n",
    "        print('This f2 is inside f1')\n",
    "        print(id(f2))\n",
    "    return f2\n",
    "\n",
    "b = f1    #b and f1 both are pointing to the same f1 function object\n",
    "a = f1()  #f1() function call which returns refernec of f2 function object and inturn a and f2 are both pointing to the f2 function object\n",
    "a()\n",
    "print(a.__name__)"
   ]
  },
  {
   "cell_type": "code",
   "execution_count": 18,
   "metadata": {},
   "outputs": [
    {
     "name": "stdout",
     "output_type": "stream",
     "text": [
      "[10, 12, 14, 16, 18]\n"
     ]
    }
   ],
   "source": [
    "#Passing one function as input to another function\n",
    "def is_even(num):\n",
    "    if num%2 == 0:\n",
    "        return True\n",
    "    else:\n",
    "        return False\n",
    "seq = list(range(10,20))\n",
    "\n",
    "new_lst = []\n",
    "def filter(is_even, seq):\n",
    "    for i in seq:\n",
    "        if is_even(i) == True:\n",
    "            new_lst.append(i)\n",
    "        else:\n",
    "            continue\n",
    "filter(is_even, seq)\n",
    "print(new_lst)"
   ]
  },
  {
   "cell_type": "code",
   "execution_count": 30,
   "metadata": {},
   "outputs": [
    {
     "name": "stdout",
     "output_type": "stream",
     "text": [
      "Can not divide by 0\n"
     ]
    }
   ],
   "source": [
    "#Decorator simple example\n",
    "def div_decor(f):\n",
    "    def wrapper_div(x,y):\n",
    "        if y == 0:\n",
    "            print('Can not divide by 0')\n",
    "        else:\n",
    "            div(x,y)\n",
    "    return wrapper_div\n",
    "\n",
    "def div(a,b):\n",
    "    return a/b\n",
    "\n",
    "div = div_decor(div)\n",
    "div(10,0)"
   ]
  },
  {
   "cell_type": "code",
   "execution_count": 31,
   "metadata": {},
   "outputs": [
    {
     "name": "stdout",
     "output_type": "stream",
     "text": [
      "Can not divide by 0\n"
     ]
    }
   ],
   "source": [
    "#Decorator simple example\n",
    "def div_decor(f):\n",
    "    def wrapper_div(x,y):\n",
    "        if y == 0:\n",
    "            print('Can not divide by 0')\n",
    "        else:\n",
    "            div(x,y)\n",
    "    return wrapper_div\n",
    "\n",
    "@div_decor\n",
    "def div(a,b):\n",
    "    return a/b\n",
    "\n",
    "\n",
    "div(10,0)"
   ]
  },
  {
   "cell_type": "code",
   "execution_count": 23,
   "metadata": {},
   "outputs": [
    {
     "name": "stdout",
     "output_type": "stream",
     "text": [
      "Enter the employee Name: xyz\n",
      "Enter the employee Salary: 98765\n",
      "The pf amount is:  78765\n"
     ]
    }
   ],
   "source": [
    "#Decorator example\n",
    "def d_emp_det(f):\n",
    "    def inner_emp_info():\n",
    "        ename, esal = f()\n",
    "        if esal > 20000:\n",
    "            pf_amt = esal - 20000\n",
    "            print('The pf amount is: ', pf_amt)\n",
    "    return inner_emp_info\n",
    "\n",
    "def employee_info():\n",
    "    ename = input('Enter the employee Name: ')\n",
    "    esal = int(input('Enter the employee Salary: '))\n",
    "    return ename, esal\n",
    "    #print(f\"Employee {ename}'s salary is {esal}\")\n",
    "\n",
    "employee_info = d_emp_det(employee_info)\n",
    "employee_info()"
   ]
  },
  {
   "cell_type": "code",
   "execution_count": 24,
   "metadata": {},
   "outputs": [
    {
     "name": "stdout",
     "output_type": "stream",
     "text": [
      "Enter the employee Name: abc\n",
      "Enter the employee Salary: 78654\n",
      "The pf amount is:  58654\n"
     ]
    }
   ],
   "source": [
    "#Decorator example\n",
    "def d_emp_det(f):\n",
    "    def inner_emp_info():\n",
    "        ename, esal = f()\n",
    "        if esal > 20000:\n",
    "            pf_amt = esal - 20000\n",
    "            print('The pf amount is: ', pf_amt)\n",
    "    return inner_emp_info\n",
    "\n",
    "@d_emp_det\n",
    "def employee_info():\n",
    "    ename = input('Enter the employee Name: ')\n",
    "    esal = int(input('Enter the employee Salary: '))\n",
    "    return ename, esal\n",
    "    #print(f\"Employee {ename}'s salary is {esal}\")\n",
    "\n",
    "employee_info()"
   ]
  },
  {
   "cell_type": "code",
   "execution_count": null,
   "metadata": {},
   "outputs": [],
   "source": [
    "#What if you return the function call\n",
    "def d_emp_det(f):\n",
    "    def inner_emp_info():\n",
    "        ename, esal = f()\n",
    "        if esal > 20000:\n",
    "            pf_amt = esal - 20000\n",
    "            print('The pf amount is: ', pf_amt)\n",
    "    return inner_emp_info\n",
    "\n",
    "@d_emp_det\n",
    "def employee_info():\n",
    "    ename = input('Enter the employee Name: ')\n",
    "    esal = int(input('Enter the employee Salary: '))\n",
    "    return ename, esal\n",
    "    #print(f\"Employee {ename}'s salary is {esal}\")\n",
    "\n",
    "employee_info()"
   ]
  },
  {
   "cell_type": "code",
   "execution_count": null,
   "metadata": {},
   "outputs": [],
   "source": [
    "#Decorators with parameter\n",
    "def d_emp_det(f):\n",
    "    def inner_emp_info(en, es):\n",
    "        e_name, e_sal = f(en,es)\n",
    "        if e_sal > 20000:\n",
    "            pf_amt = e_sal - 20000\n",
    "            print('The pf amount is: ', pf_amt)\n",
    "    return inner_emp_info\n",
    "\n",
    "@d_emp_det\n",
    "def employee_info(ename, esal):\n",
    "    return ename, esal\n",
    "@d_emp_det\n",
    "def manager_info(mname,msal):\n",
    "    return mname,msal\n",
    "    #print(f\"Employee {ename}'s salary is {esal}\")\n",
    "# ename = input('Enter the employee Name: ')\n",
    "# esal = int(input('Enter the employee Salary: '))\n",
    "employee_info('abhi', 65432)"
   ]
  },
  {
   "cell_type": "code",
   "execution_count": 9,
   "metadata": {},
   "outputs": [
    {
     "name": "stdout",
     "output_type": "stream",
     "text": [
      "Enter the employee Name: abhi\n",
      "Enter the employee\"s basic Salary: 20000\n",
      "Total Base salary for abhi is 20000\n",
      "\n",
      "Enter pf amount for abhi:- 2000\n",
      "Total salary including pf and base pay for abhi is 22000\n",
      "\n",
      "Enter HRA amount for abhi:- 5000\n",
      "Total salary including pf, base pay and HRA for abhi is 27000\n",
      "\n"
     ]
    }
   ],
   "source": [
    "#Multiple decorator\n",
    "def d_emp_tsal(fun):\n",
    "    def wrapper_tsal(en,eb):\n",
    "        e_b_p = fun(en,eb)\n",
    "        e_hra = int(input(f'Enter HRA amount for {en}:- '))\n",
    "        print(f'Total salary including pf, base pay and HRA for {en} is {e_b_p + e_hra}', end = '\\n\\n')\n",
    "        #return (e_b_p + e_hra)\n",
    "    return wrapper_tsal\n",
    "\n",
    "def d_emp_det(f):\n",
    "    def inner_emp_info(en, eb):\n",
    "        e_name, e_Bsal = f(en,eb)\n",
    "        e_pf = int(input(f'Enter pf amount for {e_name}:- '))\n",
    "        print(f'Total salary including pf and base pay for {e_name} is {e_Bsal+e_pf}', end = '\\n\\n')\n",
    "        return (e_Bsal+e_pf)\n",
    "    return inner_emp_info\n",
    "\n",
    "@d_emp_tsal\n",
    "@d_emp_det\n",
    "def employee_info(ename, ebase):\n",
    "    print(f'Total Base salary for {ename} is {ebase}', end = '\\n\\n')\n",
    "    return ename, ebase\n",
    "    \n",
    "ename = input('Enter the employee Name: ')\n",
    "ebase = int(input('Enter the employee\"s basic Salary: '))\n",
    "employee_info(ename, ebase)"
   ]
  },
  {
   "cell_type": "code",
   "execution_count": 13,
   "metadata": {},
   "outputs": [
    {
     "name": "stdout",
     "output_type": "stream",
     "text": [
      "Enter the employee Name: abhi\n",
      "Enter the employee\"s basic Salary: 20000\n",
      "Enter HRA amount for {ename}: 5000\n",
      "Total Base salary for abhi is 20000\n",
      "\n",
      "Enter pf amount for abhi:- 2000\n",
      "Total salary including pf, base pay and HRA for abhi is 27000\n",
      "\n"
     ]
    }
   ],
   "source": [
    "#Decorator with argument\n",
    "ename = input('Enter the employee Name: ')\n",
    "ebase = int(input('Enter the employee\"s basic Salary: '))\n",
    "hra_amt = int(input(f'Enter HRA amount for {ename}: '))\n",
    "\n",
    "def d_emp_tsal(hra):\n",
    "    def d_emp_det(f):\n",
    "        def inner_emp_info(en, eb):\n",
    "            e_name, e_Bsal = f(en,eb)\n",
    "            e_pf = int(input(f'Enter pf amount for {e_name}:- '))\n",
    "            print(f'Total salary including pf, base pay and HRA for {e_name} is {e_Bsal + e_pf + hra}', end = '\\n\\n')\n",
    "            #return (e_Bsal + e_pf + hra)\n",
    "        return inner_emp_info\n",
    "    return d_emp_det\n",
    "\n",
    "\n",
    "@d_emp_tsal(hra_amt)\n",
    "def employee_info(ename, ebase):\n",
    "    print(f'Total Base salary for {ename} is {ebase}', end = '\\n\\n')\n",
    "    return ename, ebase\n",
    "    \n",
    "\n",
    "employee_info(ename, ebase)"
   ]
  },
  {
   "cell_type": "code",
   "execution_count": 37,
   "metadata": {},
   "outputs": [
    {
     "name": "stdout",
     "output_type": "stream",
     "text": [
      "0\n",
      "64\n"
     ]
    }
   ],
   "source": [
    "#General decorator function which can be used for multiple functions\n",
    "class Area:\n",
    "     \n",
    "    def calc_area_two(self, l, w):\n",
    "        return l*w\n",
    "    \n",
    "    def calc_area_three(self, l, w, h):\n",
    "        return l*w*h\n",
    "\n",
    "a = Area()\n",
    "print(a.calc_area_two(4,0))\n",
    "print(a.calc_area_three(4,2,8))"
   ]
  },
  {
   "cell_type": "code",
   "execution_count": 50,
   "metadata": {},
   "outputs": [
    {
     "name": "stdout",
     "output_type": "stream",
     "text": [
      "There is some problem with calc_area_two function call\n",
      "There is some problem with calc_area_three function call\n"
     ]
    }
   ],
   "source": [
    "#General decorator function which can be used for multiple functions\n",
    "#total_area = 0\n",
    "def area_decor(func):\n",
    "    total_area = 1\n",
    "    def wrapper_area(*args):\n",
    "        nonlocal total_area\n",
    "        name_ref = args[0]\n",
    "        for var in args[1:]:\n",
    "            total_area = total_area * var\n",
    "        if total_area == 0:\n",
    "            return f'There is some problem with {func.__name__} function call'\n",
    "        else:\n",
    "            return f'Total area for function call {func.__name__} is {total_area} sq. unit'\n",
    "    return wrapper_area\n",
    "\n",
    "class Area:\n",
    "    @area_decor    \n",
    "    def calc_area_two(self, l, w):\n",
    "        return l*w\n",
    "    \n",
    "    @area_decor\n",
    "    def calc_area_three(self, l, w, h):\n",
    "        return l*w*h\n",
    "\n",
    "a = Area()\n",
    "print(a.calc_area_two(4,0))\n",
    "print(a.calc_area_three(4,0,8))"
   ]
  },
  {
   "cell_type": "code",
   "execution_count": 4,
   "metadata": {},
   "outputs": [
    {
     "name": "stdout",
     "output_type": "stream",
     "text": [
      "2256726900952\n",
      "Enter the mark for student: 500\n",
      "Enter the student name: abhi\n",
      "Enter the student ID: 101\n",
      "Student name is:  abhi\n",
      "Student ID is:  101\n",
      "Student mark is:  500\n"
     ]
    }
   ],
   "source": [
    "#General purpose decorator for a method defined in class\n",
    "def detail_decor(func):\n",
    "    def wrapper_detail(*args):\n",
    "        print(id(func))\n",
    "        name_ref = args[0]\n",
    "        if name_ref.p_type == 'Student':\n",
    "            name_ref.marks = input('Enter the mark for student: ')\n",
    "            func(name_ref)\n",
    "            print('Student mark is: ',name_ref.marks)\n",
    "            \n",
    "        elif name_ref.p_type == 'Teacher':\n",
    "            name_ref.sal = input('Enter the salary for teacher: ')\n",
    "            name_ref.func(name_ref)\n",
    "            \n",
    "    return wrapper_detail\n",
    "\n",
    "class Person_detail:\n",
    "    def __init__(self, p_type):\n",
    "        self.p_type = p_type\n",
    "    \n",
    "    @detail_decor\n",
    "    def st_detail(self):\n",
    "        self.st_name = input('Enter the student name: ')\n",
    "        self.st_ID = input('Enter the student ID: ')\n",
    "        print('Student name is: ',self.st_name)\n",
    "        print('Student ID is: ',self.st_ID)\n",
    "        \n",
    "        \n",
    "p_d = Person_detail('Student')\n",
    "#print(id(p_d.st_detail))\n",
    "p_d.st_detail()"
   ]
  },
  {
   "cell_type": "code",
   "execution_count": 11,
   "metadata": {},
   "outputs": [
    {
     "name": "stdout",
     "output_type": "stream",
     "text": [
      "['abc@gmail.com', 'xyz@gmail.com']\n",
      "abhi\n",
      "101\n"
     ]
    }
   ],
   "source": [
    "#General purpose decorator for a method defined in class\n",
    "def my_class_method(func):\n",
    "    def wrapper_method(*args):\n",
    "        cls = args[0]         \n",
    "        func(cls, *args[1:])\n",
    "    return wrapper_method\n",
    "\n",
    "class Sample:\n",
    "    email_lst = ['abc@gmail.com', 'xyz@gmail.com']\n",
    "    \n",
    "    @my_class_method\n",
    "    def method1(cls,name, id1):\n",
    "        print(cls.email_lst)\n",
    "        print(name)\n",
    "        print(id1)\n",
    "        \n",
    "#s = Sample()\n",
    "Sample.method1(Sample, 'abhi', 101)"
   ]
  },
  {
   "cell_type": "code",
   "execution_count": 13,
   "metadata": {},
   "outputs": [
    {
     "name": "stdout",
     "output_type": "stream",
     "text": [
      "We are calling an instance in function form\n"
     ]
    }
   ],
   "source": [
    "#class decorators - using on another function - When an instance is called in function form then __call__ method is executed\n",
    "class Sample:\n",
    "    def __init__(self, a):\n",
    "        self.a = a\n",
    "        \n",
    "    def __call__(self):\n",
    "        print('We are calling an instance in function form')\n",
    "        \n",
    "s = Sample(10)\n",
    "s()\n"
   ]
  },
  {
   "cell_type": "code",
   "execution_count": 35,
   "metadata": {
    "scrolled": true
   },
   "outputs": [
    {
     "name": "stdout",
     "output_type": "stream",
     "text": [
      "You can not divide the number by zero!!!\n",
      "You can not divide the number by zero!!!\n"
     ]
    }
   ],
   "source": [
    "#Simple example of general purpose class decorator\n",
    "import sys\n",
    "class My_Decorator:\n",
    "    def __init__(self, func):\n",
    "        self.func = func\n",
    "        \n",
    "    def __call__(self, *args, **kwargs):\n",
    "        for var in list(args[1:]):\n",
    "            if var == 0:\n",
    "                return 'You can not divide the number by zero!!!' \n",
    "                \n",
    "        else:\n",
    "            return self.func(*args, **kwargs)\n",
    "\n",
    "@My_Decorator\n",
    "def div_two_args(a,b):\n",
    "    return a/b\n",
    "\n",
    "@My_Decorator\n",
    "def div_three_args(a,b,c):\n",
    "    return a/b/c\n",
    "\n",
    "print(div_two_args(4,0))\n",
    "print(div_three_args(120,0,3))"
   ]
  },
  {
   "cell_type": "code",
   "execution_count": null,
   "metadata": {},
   "outputs": [],
   "source": [
    "#How classmethod and staticmethod are defind in python:-\n",
    "#Using Python:- https://docs.python.org/3/howto/descriptor.html#static-methods-and-class-methods\n",
    "#Using C:- https://hg.python.org/cpython/file/69b416cd1727/Objects/funcobject.c"
   ]
  }
 ],
 "metadata": {
  "kernelspec": {
   "display_name": "Python 3",
   "language": "python",
   "name": "python3"
  },
  "language_info": {
   "codemirror_mode": {
    "name": "ipython",
    "version": 3
   },
   "file_extension": ".py",
   "mimetype": "text/x-python",
   "name": "python",
   "nbconvert_exporter": "python",
   "pygments_lexer": "ipython3",
   "version": "3.7.4"
  }
 },
 "nbformat": 4,
 "nbformat_minor": 2
}

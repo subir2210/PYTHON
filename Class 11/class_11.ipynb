{
 "cells": [
  {
   "cell_type": "code",
   "execution_count": 8,
   "metadata": {},
   "outputs": [],
   "source": [
    "# File Handling\n",
    "# read, write, append\n",
    "\n",
    "# r+ - read and write mode - writing is extra feature, rest all will be followed from read mode\n",
    "\n",
    "# f = open('f1.py', 'r+')\n",
    "# f.close()\n",
    "\n",
    "# f = open('f1.txt','r')\n",
    "# print(f.read())\n",
    "# f.write('\\n\\nHello Python')\n",
    "# f.close()\n",
    "\n",
    "\n",
    "# f = open('f1.txt', 'r+')\n",
    "# print(f.read())\n",
    "# f.write('\\n\\nHello Python')\n",
    "# f.seek(0)\n",
    "# print('\\n\\n\\n')\n",
    "# print(f.read())\n",
    "# f.close()\n",
    "\n",
    "\n"
   ]
  },
  {
   "cell_type": "code",
   "execution_count": 13,
   "metadata": {},
   "outputs": [
    {
     "name": "stdout",
     "output_type": "stream",
     "text": [
      "\n"
     ]
    }
   ],
   "source": [
    "# w+ - write and read - reading is extra feature, rest all will be followed from write mode\n",
    "\n",
    "# f = open('f1.py', 'w+')\n",
    "# # print(f.read())\n",
    "# f.write('''Lorem Ipsum is simply dummy text of the printing and typesetting industry. \n",
    "# Lorem Ipsum has been the industry's standard dummy text ever since the 1500s, when an unknown printer took a galley of type and scrambled it to make a type specimen book. \n",
    "# It has survived not only five centuries, but also the leap into electronic typesetting, remaining essentially unchanged. \n",
    "# It was popularised in the 1960s with the release of Letraset sheets containing Lorem Ipsum passages, and more recently with desktop publishing software like Aldus PageMaker including versions of Lorem Ipsum.''')\n",
    "# # f.seek(150)\n",
    "# print(f.read())\n",
    "# f.close()\n",
    "\n",
    "# f = open('f1.txt', 'w+')\n",
    "# print(f.read())\n",
    "# f.close()\n"
   ]
  },
  {
   "cell_type": "code",
   "execution_count": 20,
   "metadata": {},
   "outputs": [
    {
     "name": "stdout",
     "output_type": "stream",
     "text": [
      "\n",
      "and scrambled it to make a type specimen book. \n",
      "It has survived not only five centuries, but also the leap into electronic typesetting, remaining essentially unchanged. \n",
      "It was popularised in the 1960s with the release of Letraset sheets containing Lorem Ipsum passages, and more recently with desktop publishing software like Aldus PageMaker including versions of Lorem Ipsum.\n",
      "\n",
      "Hello Python\n"
     ]
    }
   ],
   "source": [
    "# a+ - append and read - reading is extra feature, rest all will be followed from append mode\n",
    "\n",
    "# f = open('f2.py', 'a+')\n",
    "# # print(f.read())\n",
    "# a = '''Lorem Ipsum is simply dummy text of the printing and typesetting industry. \n",
    "# Lorem Ipsum has been the industry's standard dummy text ever since the 1500s, when an unknown printer took a galley of type and scrambled it to make a type specimen book. \n",
    "# It has survived not only five centuries, but also the leap into electronic typesetting, remaining essentially unchanged. \n",
    "# It was popularised in the 1960s with the release of Letraset sheets containing Lorem Ipsum passages, and more recently with desktop publishing software like Aldus PageMaker including versions of Lorem Ipsum.'''\n",
    "# f.write(a)\n",
    "# f.seek(0)\n",
    "# # f.append()\n",
    "# print(f.read(len(a)))\n",
    "# f.close()\n",
    "\n",
    "# f = open('f1.py', 'a+')\n",
    "# print(f.read())\n",
    "# f.write('\\n\\nHello Python')\n",
    "# f.seek(200)\n",
    "# print(f.read())\n",
    "# f.close()\n",
    "\n",
    "\n",
    "\n"
   ]
  },
  {
   "cell_type": "code",
   "execution_count": 34,
   "metadata": {},
   "outputs": [
    {
     "name": "stdout",
     "output_type": "stream",
     "text": [
      "It has survived not only five centuries, but also the leap into electronic typesetting, remaining essentially unchanged. \n",
      "\n"
     ]
    }
   ],
   "source": [
    "# for reading - read(), read(num_of_char), readline(), readlines()\n",
    "# # read() - reads the whole content of the file and returns string\n",
    "# read(n) - reads first n characters from the begining and returns in the string format\n",
    "# readline() - reads a single line from the file and returns in the string format\n",
    "# readlines() - reads all lines from the file and returns a list of string wherer every string is a line\n",
    "\n",
    "# f = open('f1.py', 'r+')\n",
    "# print(f.read(150))\n",
    "# f.close()\n",
    "\n",
    "\n",
    "f = open('f1.py', 'r+')\n",
    "for i in range(len(f.readlines())):\n",
    "    if i == 2:\n",
    "        f.seek(0)\n",
    "        print(f.readlines()[2])\n",
    "# print(f.readline())\n",
    "# print(f.readline())\n",
    "# print(f.readline())\n",
    "f.close()\n",
    "\n",
    "\n",
    "# f = open('f1.py', 'r+')\n",
    "# for i in f.readlines():\n",
    "#     print(i)\n",
    "# f.close()\n",
    "\n",
    "# f = open('f1.py', 'r+')\n",
    "# print(f.readlines())\n",
    "# #     print(i)\n",
    "# f.close()\n"
   ]
  },
  {
   "cell_type": "code",
   "execution_count": null,
   "metadata": {},
   "outputs": [],
   "source": [
    "# write methods - write(), writelines()\n",
    "# write('str') - takes one string as an argument and writes the string to the file\n",
    "# writelines(['string of lines\\n', '2nd line\\n'])\n",
    "\n",
    "# Binary file - images, video, pdf - rb, wb,ab, r+b, w+b, a+b"
   ]
  },
  {
   "cell_type": "code",
   "execution_count": 35,
   "metadata": {},
   "outputs": [
    {
     "name": "stdout",
     "output_type": "stream",
     "text": [
      "6\n",
      "93\n",
      "495\n"
     ]
    }
   ],
   "source": [
    "# and give me no of characters, no of lines and no of word into the file\n",
    "\n",
    "# download one image into your location whereever you are writing the code. - download.jpg\n",
    "# open this download.jpg file and copy the content into new.jpg\n",
    "# close both the files.\n",
    "\n",
    "\n",
    "# f = open('f1.py', 'r+')\n",
    "# lst = f.readlines()\n",
    "# l_count = 0\n",
    "# w_count = 0\n",
    "# c_count = 0\n",
    "# for i in lst:\n",
    "#     l_count += 1\n",
    "#     w_count += len(i.split())\n",
    "#     for j in i.split():\n",
    "#         c_count += len(j)\n",
    "# print(l_count)\n",
    "# print(w_count)\n",
    "# print(c_count)\n",
    "# f.close()        "
   ]
  },
  {
   "cell_type": "code",
   "execution_count": null,
   "metadata": {},
   "outputs": [],
   "source": [
    "# with statement\n",
    "# with open('f1.py','r') as f:\n",
    "#     stat1\n",
    "#     stat2\n",
    "#     stat3\n",
    "#     stat4\n",
    "    "
   ]
  },
  {
   "cell_type": "markdown",
   "metadata": {},
   "source": [
    "# Regular Expression"
   ]
  },
  {
   "cell_type": "code",
   "execution_count": null,
   "metadata": {},
   "outputs": [],
   "source": [
    "# Rgeular Expression\n",
    "1. A regular expression is a string which contains:-\n",
    "    - Special Symbol\n",
    "    - Characters to find and\n",
    "    - extract the information needed by us from the given data.\n",
    "\n",
    "2. Regular Expression helps us:-\n",
    "    - to search \n",
    "    - to match\n",
    "    - to find and\n",
    "    - to split information as per our requirements.\n",
    "    \n",
    "3. It is also called regex.\n",
    "\n",
    "4. Python provides 're' module which stands for regular expression.\n",
    "\n",
    "5. This module contains methods like:-\n",
    "    - search()\n",
    "    - match()\n",
    "    - findall()\n",
    "    - split() etc.\n",
    "    \n",
    "5. You need to import 're' module if you want to use these methods for above mentioned operations.\n",
    "\n",
    "6. A simple regular expression should be written as a raw string because:-\n",
    "    - if we will use normal string then escape sequence like '\\n' will be treated as new line.\n",
    "    - But this is not our requirement. Any escape sequence may have a different meaning in regex.\n",
    "    - You may use normal string but in that case you have to use extra back slash. But it is not recommended.\n",
    "\n",
    "7. A regular expression looks like as r'm\\w\\w'. Let's interpret it:-\n",
    "    - 'r' says that regex should be raw string.\n",
    "    - 'm' says that the word or string we are looking for should start with m.\n",
    "    - '\\w' says that after 'm' we may have any alphanumeric character after m.\n",
    "    - The word or string we are looking for has length 3.\n",
    "    \n",
    "8. The basic operations we can do on a regular expression and corresponding method are:-\n",
    "    - Matching string - re.match(regex, str)\n",
    "    - Searching for string - re.search(regex, str)\n",
    "    - Finding all string - re.findall(regex, str)\n",
    "    - Splitting a string into pieces - re.split(regex, str)\n",
    "    - Replacing a string - re.sub(regex, new_string, str)\n",
    "    \n",
    "9. ways of writing regular expression:-\n",
    "    1. Without compilation:-\n",
    "        - import re\n",
    "        - str = 'cat mat bat rat man mad'\n",
    "        - res = re.search(r'm\\w\\w', str)\n",
    "        - print(res.group())\n",
    "        \n",
    "10. The method used in regular expression are:-\n",
    "    1. Matching string - re.match(regex, str)\n",
    "        - Does the search in the begining of the string.\n",
    "        - If it is found then returns an object with resultant string.\n",
    "        - If it is not found then it returns None.\n",
    "        - We need to use group() method to access the string from returned object.\n",
    "        Example:-\n",
    "        - import re\n",
    "        - str = 'cat mat bat rat'\n",
    "        - res = re.match(r'c\\w\\w', str)\n",
    "        - print(res.group())\n",
    "        \n",
    "    2. Searching for string - re.search(regex, str):-\n",
    "        - Does the search from the begining to the end of the string.\n",
    "        - And returns first occurence of matching string.\n",
    "        - If it is not found then it returns None.\n",
    "        - We need to use group() method to access the string from returned object.\n",
    "        Exampple:-\n",
    "        - import re\n",
    "        - str = 'cat mat bat rat'\n",
    "        - res = re.search(r'r\\w\\w', str)\n",
    "        - print(res.group())\n",
    "        \n",
    "        \n",
    "    3. Finding all string - re.findall(regex, str):-\n",
    "        - Does the search from the begining to the end of the string.\n",
    "        - And returns all occurences of matching string in the form of a list object.\n",
    "        - If it is not found then it returns empty list.\n",
    "        - We need to run the for loop to access the string from returned list object.\n",
    "        Example:-\n",
    "        - import re\n",
    "        - str = 'cat mat bat ratman'\n",
    "        - res = re.findall(r'\\A\\bm\\w\\w\\b', str)\n",
    "        - print(res)\n",
    "        \n",
    "    4. Splitting a string into pieces - re.split(regex, str):-\n",
    "        - It splits the string according to the regular expression.\n",
    "        - It returns the resultant pieces as a list.\n",
    "        - If there are no resultant pieces then it returns an empty list.\n",
    "        - We need to run the for loop to access the string from returned list object.\n",
    "        \n",
    "    5. Replacing a string - re.sub(regex, new_string, str):-\n",
    "        - The sub() method substitutes existing string with new string.\n",
    "        - It returns the main string after substitution.\n",
    "        \n",
    "11. Sequence characters in regular expression:-\n",
    "    1. \\d - any digit from 0 to 9\n",
    "    2. \\D - any non-digit\n",
    "    3. \\s - white space e.g.:- \\t,\\n,\\r,\\v,\\f\n",
    "    4. \\S - non white space character\n",
    "    5. \\w - any alphanumeric character e.g.:- (A to Z, a to z, 0 to 9)\n",
    "    6. \\W - any non alphanumeric character\n",
    "    7. \\b - represents a space around words\n",
    "    8. \\A - matches only at the start of the string\n",
    "    9. \\Z - matches only at the end of the string\n",
    "    \n",
    "12. Characters represents more than one character to be matched in the string is called Quantifiers.\n",
    "    1. + - represents 1 or more repetitions of the preceding regex exp\n",
    "    2. * - 0 or more repetitions of the preceding regex exp\n",
    "    3. ? - 0 or 1 repetitions of the preceding regex exp\n",
    "    4. {m} - exactly m occurences\n",
    "    5. {m,n} - from m to n. m defaults to 0 n to infinity.\n",
    "    \n",
    "13. Special Characters in regex:-\n",
    "    1. \\ - Escape special character\n",
    "    2. . - matches any character except new line\n",
    "    3. ^ - matches begining of the string\n",
    "    4. $ - matches ending of a string\n",
    "    5. [...] - Denotes set of possible charcaters. e.g. [6p-t]matches any characters from 6,p,q,r,s or t.\n",
    "    6. [^...] - Matches every characters except the ones inside brackets. e.g [^6p-t]matches every characters\n",
    "    except 6,p,q,r,s or t.\n",
    "    7. (...) - Matches the regular expression inside the parenthesis and the result can be captured.\n",
    "    8. R|S - Matches the regex either R or S."
   ]
  },
  {
   "cell_type": "code",
   "execution_count": 36,
   "metadata": {},
   "outputs": [
    {
     "name": "stdout",
     "output_type": "stream",
     "text": [
      "This is Python \\nclass\n"
     ]
    }
   ],
   "source": [
    "# reg = r'This is Python90 \\nclass'\n",
    "# print(reg)"
   ]
  },
  {
   "cell_type": "code",
   "execution_count": 38,
   "metadata": {},
   "outputs": [
    {
     "name": "stdout",
     "output_type": "stream",
     "text": [
      "This is Python \n",
      "class\n"
     ]
    }
   ],
   "source": [
    "# n_str = '''This is Python \\nclass'''\n",
    "# print(n_str)"
   ]
  },
  {
   "cell_type": "code",
   "execution_count": 54,
   "metadata": {},
   "outputs": [],
   "source": [
    "# import re\n",
    "# str = 'ma9a cat bat rat'\n",
    "# res = re.match(r'c\\w\\w\\w', str)\n",
    "# print(res.group())\n"
   ]
  },
  {
   "cell_type": "code",
   "execution_count": 53,
   "metadata": {},
   "outputs": [],
   "source": [
    "# import re\n",
    "# str = 'ma9a mat bat rat cat'\n",
    "# res = re.search(r'c\\w\\w', str)\n",
    "# print(res.group())"
   ]
  },
  {
   "cell_type": "code",
   "execution_count": 55,
   "metadata": {},
   "outputs": [
    {
     "name": "stdout",
     "output_type": "stream",
     "text": [
      "['ma9', 'mat', 'mad', 'man']\n"
     ]
    }
   ],
   "source": [
    "# import re\n",
    "# str = 'ma9a mat bat mad rat cat man'\n",
    "# res = re.findall(r'm\\w\\w', str)\n",
    "# print(res)"
   ]
  },
  {
   "cell_type": "code",
   "execution_count": 57,
   "metadata": {},
   "outputs": [
    {
     "name": "stdout",
     "output_type": "stream",
     "text": [
      "['ma9a mat ', ' mad ', ' cat man']\n"
     ]
    }
   ],
   "source": [
    "# import re\n",
    "# str = 'ma9a mat bat mad bad cat man'\n",
    "# res = re.split(r'b\\w\\w', str)\n",
    "# print(res)"
   ]
  },
  {
   "cell_type": "code",
   "execution_count": 61,
   "metadata": {},
   "outputs": [
    {
     "name": "stdout",
     "output_type": "stream",
     "text": [
      "ma9a mat car mad car cat man\n"
     ]
    }
   ],
   "source": [
    "# import re\n",
    "# str = 'ma9a mat bat mad bad cat man'\n",
    "# res = re.sub(r'b\\w\\w','car', str)\n",
    "# print(res)"
   ]
  },
  {
   "cell_type": "code",
   "execution_count": 2,
   "metadata": {},
   "outputs": [
    {
     "name": "stdout",
     "output_type": "stream",
     "text": [
      "['make ^ manmade manhattan m nk']\n"
     ]
    }
   ],
   "source": [
    "s = 'cat mat bat rat man m98 m9n make ^ manmade manhattan m nk' \n",
    "# ['mat', 'man', 'm98', 'm9n', 'make', 'manmade', 'manhattan', 'm9']\n",
    "import re\n",
    "reg = r'm\\D+\\Z'\n",
    "res = re.findall(reg, s)\n",
    "print(res)"
   ]
  },
  {
   "cell_type": "code",
   "execution_count": 71,
   "metadata": {},
   "outputs": [
    {
     "name": "stdout",
     "output_type": "stream",
     "text": [
      "['mat mat bat rat man m']\n"
     ]
    }
   ],
   "source": [
    "s = 'mat mat bat rat man m98 m9n make ^ manmade manhattan m9 m' \n",
    "# ['mat', 'man', 'm98', 'm9n', 'make', 'manmade', 'manhattan', 'm9']\n",
    "reg = r'\\Am\\D*'\n",
    "res = re.findall(reg, s)\n",
    "print(res)"
   ]
  },
  {
   "cell_type": "code",
   "execution_count": 88,
   "metadata": {},
   "outputs": [
    {
     "name": "stdout",
     "output_type": "stream",
     "text": [
      "['peter', 'giper']\n"
     ]
    }
   ],
   "source": [
    "str = \"peter giper picked a peck of pickled peppers\"\n",
    "print(re.findall(r'\\b\\w{5}\\b',str))"
   ]
  },
  {
   "cell_type": "code",
   "execution_count": 86,
   "metadata": {},
   "outputs": [
    {
     "name": "stdout",
     "output_type": "stream",
     "text": [
      "['peter', 'giper', 'peck']\n"
     ]
    }
   ],
   "source": [
    "str = \"peter giper picked a peck of pickled peppers\"\n",
    "print(re.findall(r'\\b\\w{4,5}\\b',str))"
   ]
  },
  {
   "cell_type": "code",
   "execution_count": 3,
   "metadata": {},
   "outputs": [
    {
     "name": "stdout",
     "output_type": "stream",
     "text": [
      "['peter', 'picked', 'peck', 'pickled', 'peppers', 'p', 'p90yt', 'pyt', 'pick', 'put']\n"
     ]
    }
   ],
   "source": [
    "str = \"peter giper picked a peck of pickled peppers p p90yt pyt pick put\"\n",
    "reg = r'\\bp\\w*\\b'\n",
    "print(re.findall(reg,str))"
   ]
  },
  {
   "cell_type": "code",
   "execution_count": 98,
   "metadata": {},
   "outputs": [
    {
     "name": "stdout",
     "output_type": "stream",
     "text": [
      "['@gmail.com', '@yahoo.com', '@rediffmail.in']\n"
     ]
    }
   ],
   "source": [
    "email = 'abc@gmail.com xyz@yahoo.com mno@Hotmail.com ghi@rediffmail.in'\n",
    "reg = r'@[a-z]+.com|@[a-z]+.in'\n",
    "print(re.findall(reg, email))"
   ]
  },
  {
   "cell_type": "code",
   "execution_count": 99,
   "metadata": {},
   "outputs": [
    {
     "name": "stdout",
     "output_type": "stream",
     "text": [
      "30\n",
      "variable is not defined\n",
      "10\n",
      "20\n"
     ]
    }
   ],
   "source": [
    "# Exception Handling in Python\n",
    "# A way to handle the runtime error\n",
    "# Compile time error - syntax, indentation\n",
    "# Run time error - name error, type error\n",
    "a = 10\n",
    "b = 20\n",
    "c = a+b\n",
    "print(c)\n",
    "try:\n",
    "    print(d)\n",
    "except NameError, ZeroDivisionError:\n",
    "    print('variable is not defined')\n",
    "print(a)\n",
    "print(b)"
   ]
  },
  {
   "cell_type": "code",
   "execution_count": 110,
   "metadata": {},
   "outputs": [
    {
     "name": "stdout",
     "output_type": "stream",
     "text": [
      "Enter first Number: 10\n",
      "Enter second Number: 0\n",
      "Can ot divide by zero\n",
      "0\n",
      "10\n"
     ]
    }
   ],
   "source": [
    "a = int(input('Enter first Number: '))\n",
    "b = int(input('Enter second Number: '))\n",
    "try:\n",
    "    print(a/b)\n",
    "except ZeroDivisionError:\n",
    "    print('Can ot divide by zero')\n",
    "print(b)\n",
    "print(a)"
   ]
  },
  {
   "cell_type": "code",
   "execution_count": null,
   "metadata": {},
   "outputs": [],
   "source": [
    "a = int(input('Enter first Number: '))\n",
    "b = int(input('Enter second Number: '))\n",
    "try:\n",
    "    print(a/b)\n",
    "except FileNotFoundError:\n",
    "    print('Can ot divide by zero')\n",
    "print(b)\n",
    "print(a)"
   ]
  },
  {
   "cell_type": "code",
   "execution_count": null,
   "metadata": {},
   "outputs": [],
   "source": [
    "a = int(input('Enter first Number: '))\n",
    "b = int(input('Enter second Number: '))\n",
    "try:\n",
    "    print(a/b)\n",
    "except:\n",
    "    print('Can ot divide by zero')\n",
    "print(b)\n",
    "print(a)"
   ]
  },
  {
   "cell_type": "code",
   "execution_count": 112,
   "metadata": {},
   "outputs": [
    {
     "name": "stdout",
     "output_type": "stream",
     "text": [
      "Enter first Number: 10\n",
      "Enter second Number: 0\n",
      "some arithmetic error happened\n",
      "0\n",
      "10\n"
     ]
    }
   ],
   "source": [
    "a = int(input('Enter first Number: '))\n",
    "b = int(input('Enter second Number: '))\n",
    "try:\n",
    "    print(a/b)\n",
    "except ArithmeticError:\n",
    "    print('some arithmetic error happened')\n",
    "except ZeroDivisionError:\n",
    "    print('Division by zero is not possible')\n",
    "print(b)\n",
    "print(a)"
   ]
  },
  {
   "cell_type": "code",
   "execution_count": 119,
   "metadata": {},
   "outputs": [
    {
     "name": "stdout",
     "output_type": "stream",
     "text": [
      "Enter first Number: p\n",
      "Only number are allowed\n",
      "Only numbers are allowed\n",
      "0\n",
      "p\n"
     ]
    }
   ],
   "source": [
    "try:\n",
    "    a = int(input('Enter first Number: '))\n",
    "    b = int(input('Enter second Number: '))\n",
    "except ValueError:\n",
    "    print('Only number are allowed')\n",
    "\n",
    "try:\n",
    "    print(a/b)\n",
    "except ZeroDivisionError:\n",
    "    print('Division by zero is not possible')\n",
    "except TypeError:\n",
    "    print('Only numbers are allowed')\n",
    "except ArithmeticError:\n",
    "    print('some arithmetic error happened')\n",
    "\n",
    "\n",
    "print(b)\n",
    "print(a)"
   ]
  },
  {
   "cell_type": "code",
   "execution_count": null,
   "metadata": {},
   "outputs": [],
   "source": [
    "try:\n",
    "    a = int(input('Enter first Number: '))\n",
    "    b = int(input('Enter second Number: '))\n",
    "except ValueError:\n",
    "    print('Only number are allowed')\n",
    "\n",
    "try:\n",
    "    print(a/b)\n",
    "except (ZeroDivisionError, TypeError, ArithmeticError) as e:\n",
    "    print('some error occured', e)\n",
    "\n",
    "\n",
    "\n",
    "print(b)\n",
    "print(a)"
   ]
  },
  {
   "cell_type": "code",
   "execution_count": 122,
   "metadata": {},
   "outputs": [
    {
     "name": "stdout",
     "output_type": "stream",
     "text": [
      "Enter first Number: p\n",
      "Enter second Number: 0\n",
      "some error occured unsupported operand type(s) for /: 'str' and 'int'\n",
      "0\n",
      "p\n"
     ]
    }
   ],
   "source": [
    "\n",
    "a = input('Enter first Number: ')\n",
    "b = int(input('Enter second Number: '))\n",
    "\n",
    "\n",
    "try:\n",
    "    print(a/b)\n",
    "except (ZeroDivisionError, TypeError, ArithmeticError) as e:\n",
    "    print('some error occured', e)\n",
    "\n",
    "\n",
    "\n",
    "print(b)\n",
    "print(a)"
   ]
  },
  {
   "cell_type": "code",
   "execution_count": 124,
   "metadata": {},
   "outputs": [
    {
     "ename": "SyntaxError",
     "evalue": "default 'except:' must be last (<ipython-input-124-5a88dbfea786>, line 10)",
     "output_type": "error",
     "traceback": [
      "\u001b[0;36m  File \u001b[0;32m\"<ipython-input-124-5a88dbfea786>\"\u001b[0;36m, line \u001b[0;32m10\u001b[0m\n\u001b[0;31m    except ZeroDivisionError:\u001b[0m\n\u001b[0m                       ^\u001b[0m\n\u001b[0;31mSyntaxError\u001b[0m\u001b[0;31m:\u001b[0m default 'except:' must be last\n"
     ]
    }
   ],
   "source": [
    "a = input('Enter first Number: ')\n",
    "b = int(input('Enter second Number: '))\n",
    "\n",
    "\n",
    "try:\n",
    "    print(a/b)\n",
    "except ZeroDivisionError:\n",
    "    print('Division by zero is not possible')\n",
    "except ArithmeticError:\n",
    "    print('some arithmetic error happened')\n",
    "except:\n",
    "    print('some other error has arised')\n",
    "\n",
    "print(b)\n",
    "print(a)"
   ]
  },
  {
   "cell_type": "code",
   "execution_count": 128,
   "metadata": {},
   "outputs": [
    {
     "name": "stdout",
     "output_type": "stream",
     "text": [
      "Enter first Number: 10\n",
      "Enter second Number: 0\n",
      "Division by zero is not possible\n",
      "Executing Finally\n"
     ]
    }
   ],
   "source": [
    "a = int(input('Enter first Number: '))\n",
    "b = int(input('Enter second Number: '))\n",
    "\n",
    "\n",
    "try:\n",
    "    print(a/b)\n",
    "except ZeroDivisionError:\n",
    "    print('Division by zero is not possible')\n",
    "except ArithmeticError:\n",
    "    print('some arithmetic error happened')\n",
    "except:\n",
    "    print('some other error has arised')\n",
    "finally:\n",
    "    print('Executing Finally')\n",
    "    del a\n",
    "    del b"
   ]
  },
  {
   "cell_type": "code",
   "execution_count": 130,
   "metadata": {},
   "outputs": [
    {
     "name": "stdout",
     "output_type": "stream",
     "text": [
      "Enter an amount you want to withdraw: 40000\n",
      "You may withdraw this amount\n"
     ]
    }
   ],
   "source": [
    "# raise is to raise user defined exception\n",
    "class large_amount_exception(Exception):\n",
    "    def __init__(self, msg):\n",
    "        self.msg = msg\n",
    "\n",
    "        \n",
    "withdraw_amt = int(input('Enter an amount you want to withdraw: '))\n",
    "if withdraw_amt>49999:\n",
    "    raise large_amount_exception('It is quite large amount to withdraw')\n",
    "else:\n",
    "    print('You may withdraw this amount')"
   ]
  },
  {
   "cell_type": "code",
   "execution_count": null,
   "metadata": {},
   "outputs": [],
   "source": [
    "7-8"
   ]
  },
  {
   "cell_type": "code",
   "execution_count": null,
   "metadata": {},
   "outputs": [],
   "source": []
  },
  {
   "cell_type": "code",
   "execution_count": null,
   "metadata": {},
   "outputs": [],
   "source": []
  },
  {
   "cell_type": "code",
   "execution_count": null,
   "metadata": {},
   "outputs": [],
   "source": []
  },
  {
   "cell_type": "code",
   "execution_count": null,
   "metadata": {},
   "outputs": [],
   "source": []
  },
  {
   "cell_type": "code",
   "execution_count": null,
   "metadata": {},
   "outputs": [],
   "source": []
  }
 ],
 "metadata": {
  "kernelspec": {
   "display_name": "Python 3",
   "language": "python",
   "name": "python3"
  },
  "language_info": {
   "codemirror_mode": {
    "name": "ipython",
    "version": 3
   },
   "file_extension": ".py",
   "mimetype": "text/x-python",
   "name": "python",
   "nbconvert_exporter": "python",
   "pygments_lexer": "ipython3",
   "version": "3.7.6"
  }
 },
 "nbformat": 4,
 "nbformat_minor": 2
}

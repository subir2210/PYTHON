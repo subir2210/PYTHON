{
 "cells": [
  {
   "cell_type": "code",
   "execution_count": 4,
   "metadata": {},
   "outputs": [
    {
     "name": "stdout",
     "output_type": "stream",
     "text": [
      "Enter a number: 8\n",
      "Weird1\n"
     ]
    }
   ],
   "source": [
    "n = int(input('Enter a number: '))\n",
    "if n%2 == 1:\n",
    "    print('Weird')\n",
    "elif n%2 == 0 and n in range(2,6):\n",
    "    print('Not Weird1')\n",
    "elif n%2 == 0 and n in range(6,21):\n",
    "    print('Weird1')\n",
    "elif n%2 == 0 and n>20:\n",
    "    print('Not weird')\n"
   ]
  },
  {
   "cell_type": "code",
   "execution_count": null,
   "metadata": {},
   "outputs": [],
   "source": [
    "# cond1 and cond2\n",
    "# if n == 0 and n<5"
   ]
  },
  {
   "cell_type": "code",
   "execution_count": 1,
   "metadata": {},
   "outputs": [
    {
     "name": "stdout",
     "output_type": "stream",
     "text": [
      "[]\n",
      "<class 'list'>\n"
     ]
    }
   ],
   "source": [
    "# Creating an empty list\n",
    "lst = []\n",
    "lst = list()\n",
    "print(lst)\n",
    "print(type(lst))"
   ]
  },
  {
   "cell_type": "code",
   "execution_count": null,
   "metadata": {},
   "outputs": [],
   "source": [
    "# Creating a list with single element\n",
    "lst = [10]\n",
    "print(type(lst))"
   ]
  },
  {
   "cell_type": "code",
   "execution_count": 67,
   "metadata": {},
   "outputs": [
    {
     "data": {
      "text/plain": [
       "slice(None, [10, 20, 30, 10.2, (10+20j), 'Python', [1000, 2000, 30, 40, [5000, 6000]], (10, 20, 30), {10, 20, 30}], None)"
      ]
     },
     "execution_count": 67,
     "metadata": {},
     "output_type": "execute_result"
    }
   ],
   "source": [
    "# Element of list are seperated by comma and kept inside square bracket\n",
    "# List is a sequence - Indexing, slicing, memebership operation, \n",
    "\n",
    "lst = [10,20,30,10.20, 10+20j, 'Python', [1000,2000,30,40, [5000,6000]], (10,20,30), {10,20,30}]\n",
    "# print(10 in lst)\n",
    "# print('Python' in lst)\n",
    "# print(1000 in lst[6])\n",
    "# print(lst[6:])\n",
    "# print(5000 in lst[6][-1])\n",
    "# print(lst[6][1])\n",
    "# lst[6][2:4]\n",
    "# slice(lst)"
   ]
  },
  {
   "cell_type": "code",
   "execution_count": 43,
   "metadata": {},
   "outputs": [
    {
     "name": "stdout",
     "output_type": "stream",
     "text": [
      "['This', 'is', 'Python', 'class', 'at', 'Learnbay']\n"
     ]
    }
   ],
   "source": [
    "# How to create a list\n",
    "# List is a collection of heterogeneous elements\n",
    "lst = [10,20,30,10.20, 10+20j, 'Python', [10,20,30,40], (10,20,30), {10,20,30}]\n",
    "\n",
    "\n",
    "# using list() - takes only sequnces\n",
    "# lst = list(range(10))\n",
    "# lst\n",
    "\n",
    "# lst = list((10,20,30,40))\n",
    "# lst\n",
    "\n",
    "# lst = list({10,20,30,40, 50})\n",
    "# lst\n",
    "\n",
    "# lst = list('Python', 'class')\n",
    "# lst\n",
    "\n",
    "\n",
    "# lst = list('[10,20,30,40]')\n",
    "# lst\n",
    "\n",
    "# Using eval() function\n",
    "# lst = eval(input('Enter a list: '))\n",
    "# type(lst)\n",
    "\n",
    "# a = int(input('Enetr a number: '))\n",
    "# print(a, type(a))\n",
    "\n",
    "# lst = list(input('Enter a list: '))\n",
    "# print(lst, type(lst))\n",
    "\n",
    "# int('P')\n",
    "\n",
    "# s = 'This is Python class at Learnbay'\n",
    "# print(s.split())"
   ]
  },
  {
   "cell_type": "code",
   "execution_count": 131,
   "metadata": {},
   "outputs": [
    {
     "name": "stdout",
     "output_type": "stream",
     "text": [
      "4689635144 4689635144\n",
      "4689635144 4689296136\n",
      "False\n",
      "[10, 20, 30, 40] [100, 20, 30, 40]\n",
      "4689635144 4689461064\n",
      "False\n",
      "[10, 20, 30, 10] [10, 20, 30, 10]\n"
     ]
    }
   ],
   "source": [
    "# print(dir(list))\n",
    "\n",
    "# 'copy',  \n",
    "\n",
    "lst = [10,20,30,10.20, 10+20j, 'Python', [10,20,30,40], (10,20,30), {10,20,30}]\n",
    "# print(id(lst))\n",
    "# if you want to add something at the end of the list asan element\n",
    "# lst.append([5000])  # Returns None\n",
    "# print(lst)\n",
    "\n",
    "\n",
    "# Adding an ellement at a specific postion\n",
    "# print(lst.insert(6, {1:100, 2:200, 'a':'Python'}))\n",
    "# print(lst)\n",
    "\n",
    "lst1 = [1000, 2000,3000,4000]\n",
    "# lst2 = lst+lst1\n",
    "# print(lst)\n",
    "# print(lst1)\n",
    "# print(lst2)\n",
    "# print(lst.extend(lst1[1:]))\n",
    "# print(lst)\n",
    "# print(lst1)\n",
    "\n",
    "\n",
    "# [10,20,30] < [10,20,3]\n",
    "\n",
    "\n",
    "# Remove an element from alist\n",
    "# 'pop', 'remove', clear()\n",
    "# print(lst.pop())\n",
    "# print(lst.pop(2))\n",
    "# print(lst)\n",
    "\n",
    "# print(lst.remove(10+20j))\n",
    "# print(lst)\n",
    "\n",
    "# print(lst.clear())\n",
    "# print(lst)\n",
    "\n",
    "# del lst\n",
    "# print(lst)\n",
    "\n",
    "#pop is like extracting a specific list element out into a new variable? with out modifying the original list value.\n",
    "# a = lst.pop()\n",
    "# print(list(a))\n",
    "\n",
    "# count(), index()\n",
    "a = [10,20,100,10,200,10,30,10,100,20,10]\n",
    "# print(a.count(10))\n",
    "# print(a.index(100,-4))\n",
    "\n",
    "# 'reverse', 'sort'\n",
    "# lst.reverse()\n",
    "# print(lst)\n",
    "\n",
    "# a.sort(reverse = True)   # Default soring is ascending order\n",
    "# print(a)\n",
    "\n",
    "# lst = [10,20,30,10.20, 10+20j, 'Python', [10,20,30,40], (10,20,30), {10,20,30}]\n",
    "# print(lst.sort())\n",
    "\n",
    "# b = list('Python Class')\n",
    "# print(b)\n",
    "# print(b.sort())\n",
    "# print(b)\n",
    "\n",
    "\n",
    "# Shallow copy and aliasing\n",
    "# lst = [10,20,30,40]\n",
    "# lst1 = lst        # Aliasing\n",
    "# print(id(lst), id(lst1))\n",
    "# # lst1[0] = 100\n",
    "# # print(lst, lst1)\n",
    "# a=[10,20,30]\n",
    "# b=a\n",
    "# a.append(10)\n",
    "# print(a,b)\n",
    "\n",
    "# # Create a shallow copy - using slicing or copy\n",
    "# lst2 = lst[:]\n",
    "# print(id(lst), id(lst2))\n",
    "# print(lst is lst2)\n",
    "# lst2[0] = 100\n",
    "# print(lst, lst2)\n",
    "\n",
    "# lst3 = lst.copy()\n",
    "# print(id(lst), id(lst3))\n",
    "# print(lst is lst3)\n",
    "\n",
    "\n",
    "# print(id(lst))"
   ]
  },
  {
   "cell_type": "code",
   "execution_count": 28,
   "metadata": {},
   "outputs": [
    {
     "name": "stdout",
     "output_type": "stream",
     "text": [
      "[10 20 30]\n",
      "int64\n"
     ]
    }
   ],
   "source": [
    "# import array\n",
    "# b = list(range(10))\n",
    "# a = array.array(b)\n",
    "# a\n",
    "# import numpy as np\n",
    "# b = [10,20,30, 'Python']\n",
    "# a = np.array(b)\n",
    "# print(a)\n",
    "# print(a.dtype)"
   ]
  },
  {
   "cell_type": "code",
   "execution_count": 27,
   "metadata": {},
   "outputs": [],
   "source": [
    "# pow(2,3)\n",
    "# print(dir(__builtins__))\n",
    "\n",
    "# int8, uint8, int16, uint16, int32, uint32, int64, uint64, float\n",
    "# short int8\n",
    "# int int32\n",
    "# long int64"
   ]
  },
  {
   "cell_type": "code",
   "execution_count": 30,
   "metadata": {},
   "outputs": [
    {
     "data": {
      "text/plain": [
       "2.0"
      ]
     },
     "execution_count": 30,
     "metadata": {},
     "output_type": "execute_result"
    }
   ],
   "source": [
    "# import math as m\n",
    "# # print(dir(math))\n",
    "# m"
   ]
  },
  {
   "cell_type": "code",
   "execution_count": null,
   "metadata": {},
   "outputs": [],
   "source": [
    "# from math import *"
   ]
  },
  {
   "cell_type": "code",
   "execution_count": 46,
   "metadata": {},
   "outputs": [],
   "source": [
    "# for i in '[10,20,30,40]':\n",
    "#     print(i)"
   ]
  },
  {
   "cell_type": "code",
   "execution_count": 133,
   "metadata": {},
   "outputs": [
    {
     "name": "stdout",
     "output_type": "stream",
     "text": [
      "True\n",
      "False\n",
      "False\n"
     ]
    }
   ],
   "source": [
    "# a = 10\n",
    "# b = 10\n",
    "# print(a is b)\n",
    "# a = 1000\n",
    "# b = 1000\n",
    "# print(a is b)\n",
    "\n",
    "# lst = [10,20,30,40]\n",
    "# lst1 = [10,20,30,40]\n",
    "# print(lst is lst1)"
   ]
  },
  {
   "cell_type": "markdown",
   "metadata": {},
   "source": [
    "# Tuple"
   ]
  },
  {
   "cell_type": "code",
   "execution_count": null,
   "metadata": {},
   "outputs": [],
   "source": [
    "# Tuple is similar like list, only difference is list is mutable whereas tuple is immutable\n",
    "# Small brackets are optional, indexing, slicing, memebership. "
   ]
  },
  {
   "cell_type": "code",
   "execution_count": 135,
   "metadata": {},
   "outputs": [
    {
     "name": "stdout",
     "output_type": "stream",
     "text": [
      "() <class 'tuple'>\n",
      "() <class 'tuple'>\n"
     ]
    }
   ],
   "source": [
    "# Creating an empty tuple\n",
    "# a = ()\n",
    "# print(a, type(a))\n",
    "# b = tuple()\n",
    "# print(b, type(b))"
   ]
  },
  {
   "cell_type": "code",
   "execution_count": 139,
   "metadata": {},
   "outputs": [
    {
     "name": "stdout",
     "output_type": "stream",
     "text": [
      "(10, 20, 30) <class 'tuple'>\n",
      "(10,) <class 'tuple'>\n"
     ]
    }
   ],
   "source": [
    "a = 10,20,30\n",
    "print(a, type(a))\n",
    "\n",
    "# Create a tuple with single element\n",
    "# b = 10\n",
    "# print(b, type(b))\n",
    "\n",
    "# c = (10)\n",
    "# print(c, type(c))\n",
    "\n",
    "# d = 10,\n",
    "# print(d, type(d))"
   ]
  },
  {
   "cell_type": "code",
   "execution_count": 157,
   "metadata": {},
   "outputs": [
    {
     "name": "stdout",
     "output_type": "stream",
     "text": [
      "('[', '1', '0', ',', '2', '0', ',', '3', '0', ']') <class 'tuple'>\n"
     ]
    }
   ],
   "source": [
    "# a = 10,10.20,10+20j,'Python', [10,20,30], (10,20,30), {10,20,30}\n",
    "# print(a, type(a))\n",
    "# print(id(a))\n",
    "# a[4][0] = 100\n",
    "# print(a)\n",
    "# print(id(a))\n",
    "# a[0] = 100\n",
    "\n",
    "# a = tuple(range(10))\n",
    "# print(a, type(a))\n",
    "\n",
    "# a = tuple([10,20,30])\n",
    "# print(a, type(a))\n",
    "\n",
    "# b = eval(input('Enter a tuple: '))\n",
    "# print(b, type(b))"
   ]
  },
  {
   "cell_type": "code",
   "execution_count": 152,
   "metadata": {},
   "outputs": [
    {
     "name": "stdout",
     "output_type": "stream",
     "text": [
      "['__add__', '__class__', '__contains__', '__delattr__', '__dir__', '__doc__', '__eq__', '__format__', '__ge__', '__getattribute__', '__getitem__', '__getnewargs__', '__gt__', '__hash__', '__init__', '__init_subclass__', '__iter__', '__le__', '__len__', '__lt__', '__mul__', '__ne__', '__new__', '__reduce__', '__reduce_ex__', '__repr__', '__rmul__', '__setattr__', '__sizeof__', '__str__', '__subclasshook__', 'count', 'index']\n"
     ]
    }
   ],
   "source": [
    "print(dir(tuple))\n",
    "# 'count', 'index'\n",
    "# a = 10,20,30\n",
    "# a.__add__()"
   ]
  },
  {
   "cell_type": "code",
   "execution_count": 162,
   "metadata": {},
   "outputs": [
    {
     "name": "stdout",
     "output_type": "stream",
     "text": [
      "10\n",
      "20\n",
      "30\n",
      "40\n",
      "50\n"
     ]
    }
   ],
   "source": [
    "# Tuple packing and unpacking\n",
    "# a = 10\n",
    "# b = 20\n",
    "# c = 30\n",
    "# d = 40\n",
    "# tpl = a,b,c,d    # Tuple packing\n",
    "# print(tpl, type(tpl))\n",
    "\n",
    "# Tuple unpacking\n",
    "# tpl = 10,20,30,40,50\n",
    "# a,b,c,d, e = tpl\n",
    "# print(a)\n",
    "# print(b)\n",
    "# print(c)\n",
    "# print(d)\n",
    "# print(e)"
   ]
  },
  {
   "cell_type": "code",
   "execution_count": 174,
   "metadata": {},
   "outputs": [
    {
     "name": "stdout",
     "output_type": "stream",
     "text": [
      "4580768760 4518154176\n",
      "(10, 20, 30, 40, {1: 1000, 2: 200, 3: 300}) (10, 20, 30, 40, {1: 1000, 2: 200, 3: 300})\n",
      "4518283808 4518283808\n"
     ]
    }
   ],
   "source": [
    "# tpl = 10,20,30,40,{1:100, 2:200, 3:300}\n",
    "# a,b,c,d,e = tpl\n",
    "# # print(e[1])\n",
    "\n",
    "# tpl2 = a,b,c,d,e\n",
    "# print(id(tpl), id(tpl2))\n",
    "# # print(tpl == tpl2)\n",
    "# tpl2[-1][1] = 1000\n",
    "# print(tpl, tpl2)\n",
    "# print(id(tpl[-1]), id(tpl2[-1]))      # Deepcopy\n",
    "\n",
    "# print(id(tpl[-1]))\n",
    "# print(id(e))\n",
    "\n",
    "# e[1] = 1000\n",
    "# print(tpl\n",
    "\n",
    "\n",
    "\n"
   ]
  },
  {
   "cell_type": "markdown",
   "metadata": {},
   "source": [
    "# Dictionary"
   ]
  },
  {
   "cell_type": "code",
   "execution_count": null,
   "metadata": {},
   "outputs": [],
   "source": [
    "# key, value, item - key value pair, every item should be separated by comma\n",
    "# Value is mapped with a key, sep between key and value is :,\n",
    "# Key should be only immutable type, and value can be anything\n",
    "# Dictionary is not a seq, indeing, slicing is not allowed, not an ordered collection\n",
    "# Duplicate key are not allowed\n",
    "# {}"
   ]
  },
  {
   "cell_type": "code",
   "execution_count": 179,
   "metadata": {},
   "outputs": [
    {
     "data": {
      "text/plain": [
       "{1: 100, 2: 1000, '1': 1000}"
      ]
     },
     "execution_count": 179,
     "metadata": {},
     "output_type": "execute_result"
    }
   ],
   "source": [
    "# d = {1:100, 2:200, 3:300}\n",
    "d = {1:100, 2:1000, '1':1000}\n",
    "d"
   ]
  },
  {
   "cell_type": "code",
   "execution_count": 181,
   "metadata": {},
   "outputs": [
    {
     "name": "stdout",
     "output_type": "stream",
     "text": [
      "{} <class 'dict'>\n",
      "{} <class 'dict'>\n"
     ]
    }
   ],
   "source": [
    "# Creating an empty\n",
    "d = {}\n",
    "print(d, type(d))\n",
    "d = dict()\n",
    "print(d, type(d))"
   ]
  },
  {
   "cell_type": "code",
   "execution_count": 3,
   "metadata": {},
   "outputs": [
    {
     "name": "stdout",
     "output_type": "stream",
     "text": [
      "{1: 1000, 2: 2000, 3: 3000}\n"
     ]
    },
    {
     "data": {
      "text/plain": [
       "{1: 100, 2: 200, 3: 300}"
      ]
     },
     "execution_count": 3,
     "metadata": {},
     "output_type": "execute_result"
    }
   ],
   "source": [
    "# s = set()\n",
    "# Creating a dictionary with multiple key value pair\n",
    "# d = {1:100, 'abc':200, 3:300}\n",
    "# print(d)\n",
    "# print(d['abc'])\n",
    "# d['abc'] = 2000\n",
    "# print(d)\n",
    "# d['xyz'] = 1000\n",
    "# print(d)\n",
    "\n",
    "d = dict([[1,1000],[2,2000],[3,3000]])\n",
    "print(d)\n",
    "\n",
    "# d = dict(([1,1000],[2,2000],[3,3000]))\n",
    "# print(d)\n",
    "\n",
    "l1=[1,2,3,4]\n",
    "l2=[100,200,300]\n",
    "dict(zip(l1,l2))\n",
    "\n",
    "\n",
    "# d1 = {1:100, 2:200}\n",
    "# d2 = {3:300, 4:400}\n",
    "# print(d1.update(d2))\n",
    "# print(d1)\n"
   ]
  },
  {
   "cell_type": "code",
   "execution_count": 200,
   "metadata": {},
   "outputs": [],
   "source": [
    "# print(dir(dict))\n",
    "#'fromkeys', "
   ]
  },
  {
   "cell_type": "code",
   "execution_count": 4,
   "metadata": {},
   "outputs": [
    {
     "name": "stdout",
     "output_type": "stream",
     "text": [
      "dict_values([100, 200, 300, 400])\n"
     ]
    }
   ],
   "source": [
    "d = {1:100, 2:200, 3:300, 4:400}\n",
    "# print(d[4])\n",
    "# d[5] = 500\n",
    "# print(d)\n",
    "# d[7] = 3000\n",
    "# print(d)\n",
    "\n",
    "# get(). setdefault()\n",
    "# print(d.get(2, 'None1'))\n",
    "# print(d.get(7, 'This key is not present in the dictionary'))\n",
    "# print(d)\n",
    "\n",
    "# print(d.setdefault(2, 'None1'))\n",
    "# print(d.setdefault(7, 'This key is not present in the dictionary'))\n",
    "# print(d)\n",
    "\n",
    "# d1 = {10:1000, 20:2000, 30:3000}\n",
    "# print(d.update(d1))\n",
    "# print(d)\n",
    "\n",
    "\n",
    "# 'pop', 'popitem'\n",
    "# print(d.pop(7,'This is key is not present'))\n",
    "# print(d)\n",
    "\n",
    "# print(d.popitem())\n",
    "# print(d)\n",
    "\n",
    "#  'items', 'keys', values'\n",
    "# print(d.keys())\n",
    "# for i in d.keys():\n",
    "#     print(i)\n",
    "\n",
    "print(d.values())\n",
    "# print(d.items())\n",
    "\n",
    "# 'clear', 'copy', \n",
    "# print(d.clear())\n",
    "# print(d)\n",
    "\n",
    "# d = {1:100, 2:200, 3:300}\n",
    "# d1 = d.copy()   # Shallow copy\n",
    "# print(d is d1)\n",
    "\n",
    "# fromkeys\n",
    "\n",
    "# print(d5.fromkeys([1,'2','3','4'], None))\n",
    "\n",
    "# deepcopy - nested object\n",
    "lst = [10,20,30, [100,200,300]]\n",
    "# lst1 = lst[:]\n",
    "# print(lst is lst1)\n",
    "# print(lst[-1] is lst1[-1])\n",
    "# lst1[-1][0] = 1000\n",
    "# print(lst)\n",
    "# print(lst1)\n",
    "# from copy import deepcopy\n",
    "# lst1 = deepcopy(lst)\n",
    "# print(lst is lst1)\n",
    "# print(lst[-1] is lst1[-1])\n",
    "# lst1[-1][0] = 1000\n",
    "# print(lst)\n",
    "# print(lst1)\n",
    "\n",
    "\n",
    "\n",
    "\n",
    "\n",
    "\n",
    "\n",
    "\n",
    "\n",
    "\n",
    "\n",
    "\n",
    "\n",
    "\n"
   ]
  },
  {
   "cell_type": "code",
   "execution_count": 245,
   "metadata": {},
   "outputs": [
    {
     "name": "stdout",
     "output_type": "stream",
     "text": [
      "{1: None, 2: None, 3: None, 4: None}\n"
     ]
    }
   ],
   "source": [
    "d5 = {}\n",
    "d5 = d5.fromkeys([1,2,3,4])\n",
    "print(d5)"
   ]
  },
  {
   "cell_type": "code",
   "execution_count": null,
   "metadata": {},
   "outputs": [],
   "source": [
    "# Fundamental - int, float complex, string, Boolean, None\n",
    "# Derived - List, tuple, dictioanry, set, frozenset(), range(), bytes, bytearray"
   ]
  },
  {
   "cell_type": "code",
   "execution_count": null,
   "metadata": {},
   "outputs": [],
   "source": [
    "# Function"
   ]
  },
  {
   "cell_type": "code",
   "execution_count": null,
   "metadata": {},
   "outputs": [],
   "source": []
  },
  {
   "cell_type": "code",
   "execution_count": null,
   "metadata": {},
   "outputs": [],
   "source": []
  },
  {
   "cell_type": "code",
   "execution_count": null,
   "metadata": {},
   "outputs": [],
   "source": []
  },
  {
   "cell_type": "code",
   "execution_count": null,
   "metadata": {},
   "outputs": [],
   "source": []
  },
  {
   "cell_type": "code",
   "execution_count": null,
   "metadata": {},
   "outputs": [],
   "source": []
  }
 ],
 "metadata": {
  "kernelspec": {
   "display_name": "Python 3",
   "language": "python",
   "name": "python3"
  },
  "language_info": {
   "codemirror_mode": {
    "name": "ipython",
    "version": 3
   },
   "file_extension": ".py",
   "mimetype": "text/x-python",
   "name": "python",
   "nbconvert_exporter": "python",
   "pygments_lexer": "ipython3",
   "version": "3.7.6"
  }
 },
 "nbformat": 4,
 "nbformat_minor": 2
}

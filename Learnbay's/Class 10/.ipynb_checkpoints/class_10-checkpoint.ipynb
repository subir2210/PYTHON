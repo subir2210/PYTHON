{
 "cells": [
  {
   "cell_type": "code",
   "execution_count": 9,
   "metadata": {},
   "outputs": [],
   "source": [
    "# print(10, end = '\\n\\n\\n')\n",
    "# print(20, end = '\\n\\n\\n')\n",
    "# print(30, end = '\\n\\n\\n')\n",
    "# sample = {1:\n",
    "#          {1:100}:\n",
    "#          }"
   ]
  },
  {
   "cell_type": "code",
   "execution_count": 24,
   "metadata": {},
   "outputs": [
    {
     "name": "stdout",
     "output_type": "stream",
     "text": [
      "Inside outer f1 function\n",
      "Inside Inner function\n",
      "Inside Inner function\n",
      "Innermost function\n"
     ]
    }
   ],
   "source": [
    "# closure - function which returns inner function as output\n",
    "def f1():\n",
    "    print('Inside outer f1 function')\n",
    "    def inner():\n",
    "        print('Inside Inner function')\n",
    "        def inner1():\n",
    "            print('Innermost function')\n",
    "        return inner1\n",
    "    b = inner()\n",
    "    return inner\n",
    "a = f1()\n",
    "\n",
    "a()\n",
    "# a[1]()\n"
   ]
  },
  {
   "cell_type": "code",
   "execution_count": 17,
   "metadata": {},
   "outputs": [
    {
     "name": "stdout",
     "output_type": "stream",
     "text": [
      "This is f1 function\n"
     ]
    },
    {
     "data": {
      "text/plain": [
       "30"
      ]
     },
     "execution_count": 17,
     "metadata": {},
     "output_type": "execute_result"
    }
   ],
   "source": [
    "# Functiona aliasing\n",
    "# def f1(a,b):\n",
    "#     print('This is f1 function')\n",
    "#     return a+b\n",
    "\n",
    "# # a = f1(10,20)\n",
    "# # print(a)\n",
    "# a = f1       # Function Aliasing\n",
    "# # print(a)\n",
    "# # print(f1)\n",
    "# b = a(10,20)\n",
    "# print(b)"
   ]
  },
  {
   "cell_type": "code",
   "execution_count": 14,
   "metadata": {},
   "outputs": [
    {
     "name": "stdout",
     "output_type": "stream",
     "text": [
      "[10, 12, 14, 16, 18]\n"
     ]
    }
   ],
   "source": [
    "# Passing function as an argument to another function\n",
    "\n",
    "seq = [10,11,12,13,14,15,16,17,18,19]\n",
    "def filter_seq(a, b):\n",
    "    return [i for i in b if a(i) == True]\n",
    "def is_even(num):\n",
    "    return True if num%2 == 0 else False\n",
    "\n",
    "print(filter_seq(is_even, seq))\n",
    "\n",
    "# x,y = 10,20\n",
    "# f1(10,20)"
   ]
  },
  {
   "cell_type": "code",
   "execution_count": 30,
   "metadata": {},
   "outputs": [
    {
     "name": "stdout",
     "output_type": "stream",
     "text": [
      "[0, 2, 4, 6, 8]\n"
     ]
    }
   ],
   "source": [
    "# l = []\n",
    "# for i in range(10):\n",
    "#     if i%2 == 0:\n",
    "#         l.append(i)\n",
    "# print(l)\n",
    "\n",
    "\n",
    "l = [i for i in range(10) if i%2 == 0]\n",
    "print(l)"
   ]
  },
  {
   "cell_type": "code",
   "execution_count": 3,
   "metadata": {},
   "outputs": [
    {
     "ename": "SyntaxError",
     "evalue": "invalid syntax (<ipython-input-3-1b1f6a9b2927>, line 14)",
     "output_type": "error",
     "traceback": [
      "\u001b[0;36m  File \u001b[0;32m\"<ipython-input-3-1b1f6a9b2927>\"\u001b[0;36m, line \u001b[0;32m14\u001b[0m\n\u001b[0;31m    a = 100\u001b[0m\n\u001b[0m    ^\u001b[0m\n\u001b[0;31mSyntaxError\u001b[0m\u001b[0;31m:\u001b[0m invalid syntax\n"
     ]
    }
   ],
   "source": [
    "# Decorator - a function used to decorate an existing function - takes one existing function as input and returns \n",
    "# existing function with added funtionality\n",
    "# Old car analogy - servicing guy(extra functionality) - same old car with added features\n",
    "\n",
    "def decorator(func):\n",
    "    def inner(name, phone):\n",
    "        email = input('Enter email: ')\n",
    "        print(email)\n",
    "        func(name,phone)\n",
    "    return inner\n",
    "\n",
    "\n",
    "@decorator\n",
    "def existing_function(name, phone):\n",
    "    print(name)\n",
    "    print(phone)\n",
    "    \n",
    "\n",
    "existing_function('ABC', 9876543210)\n",
    "\n",
    "\n",
    "\n",
    "\n",
    "\n",
    "\n",
    "\n",
    "\n",
    "\n",
    "\n"
   ]
  },
  {
   "cell_type": "code",
   "execution_count": null,
   "metadata": {},
   "outputs": [],
   "source": [
    "def decorator_existing(func):\n",
    "    def inner(name, phone):\n",
    "        email = input('Enter email: ')\n",
    "        print(email)\n",
    "        func(name,phone)\n",
    "    return inner\n",
    "\n",
    "\n",
    "\n",
    "def existing_function(name, phone):\n",
    "    print(name)\n",
    "    print(phone)\n",
    "    \n",
    "\n",
    "\n",
    "\n",
    "existing_function = decorator(existing_function)\n",
    "existing_function('ABC', 9876543210)"
   ]
  },
  {
   "cell_type": "code",
   "execution_count": null,
   "metadata": {},
   "outputs": [],
   "source": [
    "# @classmethid\n",
    "# @staticmethod\n",
    "# @property"
   ]
  },
  {
   "cell_type": "code",
   "execution_count": null,
   "metadata": {},
   "outputs": [],
   "source": [
    "\n"
   ]
  },
  {
   "cell_type": "code",
   "execution_count": null,
   "metadata": {},
   "outputs": [],
   "source": [
    "#Exception Handling, Regular expression, # Generator, tuple comprehension, dictionary comprehension"
   ]
  },
  {
   "cell_type": "code",
   "execution_count": 45,
   "metadata": {},
   "outputs": [
    {
     "name": "stdout",
     "output_type": "stream",
     "text": [
      "145\n"
     ]
    }
   ],
   "source": [
    "# Anonymous function, filter function, map, reduce, File handling\n",
    "\n",
    "# Anonymous function - a function without name - lambda function\n",
    "# syntax - lambda var:expr\n",
    "# lst = [10,20,30]\n",
    "# a = lambda l,num : l*num\n",
    "# print(a(lst, 3))\n",
    "\n",
    "# filter - filetrs a seq based on the anonymous function you write\n",
    "# syntax - filter(func, seq)- filter object - seq\n",
    "seq = [10,11,12,13,14,15,16,17,18,19]\n",
    "# print(list(filter(lambda num:num%2==0, seq)))\n",
    "# print(list(range(10)))\n",
    "\n",
    "\n",
    "# map - map(func, seq) - map object\n",
    "# lst = [10,11,12,13,14,15,16,17,18,19]\n",
    "# print(list(map(lambda num:seq[num], range(0,len(seq), 2))))\n",
    "# list(map(lambda num:num%2, lst))\n",
    "# \n",
    "\n",
    "# Reduce - reduces a whole seq to a single value - \n",
    "# from functools import reduce\n",
    "# print(reduce(lambda x,y:x*y, seq))\n"
   ]
  },
  {
   "cell_type": "code",
   "execution_count": 31,
   "metadata": {},
   "outputs": [],
   "source": [
    "# import keyword\n",
    "# print(keyword.kwlist)\n",
    "\n",
    "# print(dir(__builtins__))"
   ]
  },
  {
   "cell_type": "code",
   "execution_count": 58,
   "metadata": {},
   "outputs": [
    {
     "name": "stdout",
     "output_type": "stream",
     "text": [
      "253\n"
     ]
    }
   ],
   "source": [
    "# File Handling\n",
    "# Text file\n",
    "# binary file\n",
    "\n",
    "\n",
    "\n",
    "# Text File\n",
    "# f = open('File_name','mode')\n",
    "# f.close()\n",
    "\n",
    "# Type of modes - r, w, a, r+ - read and write, w+ - write and read, a+ - append and read\n",
    "\n",
    "# read mode - \n",
    "# opening a file in read mode - f = open('f1.txt', 'r')\n",
    "# If file is existing then cursor will be placed at the begining of the file\n",
    "# If file isn't existing then you will get FileNotFoundError\n",
    "\n",
    "# f = open('\\\\Users⁩\\⁨vigneshkarthick⁩\\⁨Desktop⁩\\f2.py', 'r')\n",
    "# print(f.tell())\n",
    "# print(f.read())\n",
    "# f.close()\n",
    "\n",
    "\n",
    "# Write mode\n",
    "# opening a file in write mode - f = open('f1.txt', 'w')\n",
    "# If file is existing then content will be deleted and cursor will be placed in the begining of the file\n",
    "# If file isn't existing then it will create a file with this name\n",
    "# f = open('f1.py', 'w')\n",
    "# print(f.tell())\n",
    "# f.close()\n",
    "\n",
    "\n",
    "#append mode\n",
    "# opening a file in append mode - f = open('f1.txt', 'wa')\n",
    "# If file is existing then content will not be deleted and cursor will be placed at the end of the file\n",
    "# If file isn't existing then it will create a file with this name\n",
    "\n",
    "f = open('f1.py', 'a')\n",
    "print(f.tell())\n",
    "f.close()\n",
    "\n",
    "\n",
    "\n",
    "\n",
    "\n",
    "\n",
    "\n",
    "\n",
    "\n",
    "\n",
    "\n"
   ]
  },
  {
   "cell_type": "code",
   "execution_count": null,
   "metadata": {},
   "outputs": [],
   "source": [
    "with "
   ]
  },
  {
   "cell_type": "code",
   "execution_count": null,
   "metadata": {},
   "outputs": [],
   "source": []
  },
  {
   "cell_type": "code",
   "execution_count": null,
   "metadata": {},
   "outputs": [],
   "source": []
  },
  {
   "cell_type": "code",
   "execution_count": null,
   "metadata": {},
   "outputs": [],
   "source": []
  },
  {
   "cell_type": "code",
   "execution_count": null,
   "metadata": {},
   "outputs": [],
   "source": []
  },
  {
   "cell_type": "code",
   "execution_count": null,
   "metadata": {},
   "outputs": [],
   "source": []
  },
  {
   "cell_type": "code",
   "execution_count": null,
   "metadata": {},
   "outputs": [],
   "source": []
  },
  {
   "cell_type": "code",
   "execution_count": null,
   "metadata": {},
   "outputs": [],
   "source": []
  },
  {
   "cell_type": "code",
   "execution_count": null,
   "metadata": {},
   "outputs": [],
   "source": []
  }
 ],
 "metadata": {
  "kernelspec": {
   "display_name": "Python 3",
   "language": "python",
   "name": "python3"
  }
 },
 "nbformat": 4,
 "nbformat_minor": 2
}

{
 "cells": [
  {
   "cell_type": "code",
   "execution_count": 21,
   "metadata": {},
   "outputs": [
    {
     "name": "stdout",
     "output_type": "stream",
     "text": [
      "90\n"
     ]
    }
   ],
   "source": [
    "# f = open(\"demo.txt\", \"r+\")\n",
    "# ct = 0\n",
    "# for i in f.read():\n",
    "#      ct += 1\n",
    "# print(ct)\n",
    "# f.close()\n",
    "\n",
    "\n",
    "# f = open(\"demo.txt\", \"r+\")\n",
    "# ct3 = 0\n",
    "# for i in f.readlines():\n",
    "#         ct3 += 1\n",
    "# print(ct3)\n",
    "\n",
    "\n",
    "f = open(\"demo.txt\", \"r+\")\n",
    "ct3 = 0\n",
    "for i in f.read():\n",
    "        if  i == ' ':\n",
    "            ct3 += 1\n",
    "print(ct3)\n",
    "     "
   ]
  },
  {
   "cell_type": "code",
   "execution_count": null,
   "metadata": {},
   "outputs": [],
   "source": []
  }
 ],
 "metadata": {
  "kernelspec": {
   "display_name": "Python 3",
   "language": "python",
   "name": "python3"
  },
  "language_info": {
   "codemirror_mode": {
    "name": "ipython",
    "version": 3
   },
   "file_extension": ".py",
   "mimetype": "text/x-python",
   "name": "python",
   "nbconvert_exporter": "python",
   "pygments_lexer": "ipython3",
   "version": "3.7.6"
  }
 },
 "nbformat": 4,
 "nbformat_minor": 4
}

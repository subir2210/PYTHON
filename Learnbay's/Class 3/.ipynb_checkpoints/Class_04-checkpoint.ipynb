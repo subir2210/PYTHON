{
 "cells": [
  {
   "cell_type": "markdown",
   "metadata": {},
   "source": [
    "### Flavours of Python\n",
    "    - CPython - Python is written in C. To run the C application using PVM\n",
    "    - Jpythoh - Python is written in Java. To run the Java application using PVM\n",
    "    - Iron Python - Python is written in .Net. To run the .Net application using PVM\n",
    "    - Ruby Python - Python is written in Ruby. To run the Ruby application using PVM\n",
    "    - PyPi - Python implementation using Python. JIT compiler. To improve the performance.\n",
    "    - Stackless - To achieve concurrency\n",
    "    - Aanconda - To handle big data."
   ]
  },
  {
   "cell_type": "markdown",
   "metadata": {},
   "source": [
    "### Garbage collection - gc module - it runs time to time - check that object with reference count 0\n",
    "    - combination of reference counting and cycle-detecting garbage collector\n",
    "    - import gc"
   ]
  },
  {
   "cell_type": "code",
   "execution_count": 5,
   "metadata": {},
   "outputs": [
    {
     "name": "stdout",
     "output_type": "stream",
     "text": [
      "True\n",
      "False\n",
      "True\n"
     ]
    }
   ],
   "source": [
    "import gc\n",
    "a = 10\n",
    "b = 10\n",
    "# print(dir(gc))\n",
    "# del a\n",
    "# del b\n",
    "print(gc.isenabled())\n",
    "gc.disable()\n",
    "print(gc.isenabled())\n",
    "gc.enable()\n",
    "print(gc.isenabled())"
   ]
  },
  {
   "cell_type": "markdown",
   "metadata": {},
   "source": [
    "# print(dir(gc))\n",
    "### Components of a python program\n",
    "    - Literals\n",
    "    - Constants\n",
    "    - variables\n",
    "    - Identifiers \n",
    "    - Reserved words\n",
    "    - Expressions\n",
    "    - Statements\n",
    "    - commnents\n",
    "    - Suites, Blocks and Indentation"
   ]
  },
  {
   "cell_type": "code",
   "execution_count": 9,
   "metadata": {},
   "outputs": [],
   "source": [
    "# Literals - \n",
    "a = 15\n",
    "# 15 is literal. Integer Literal subset of Numerical literal\n",
    "\n",
    "a = 10.20\n",
    "# 10.20 is float literal\n",
    "\n",
    "a = 10+20j\n",
    "# 10+20j is complex literal\n",
    "\n",
    "a = 'Python'\n",
    "# 'Python' - String literal\n",
    "\n",
    "a = True\n",
    "# True is called boolean literal\n",
    "\n",
    "x = 0b1010  # Binary literal\n",
    "b = 0o12    # Octal\n",
    "c = 0xfc98  # Hexadecimal\n"
   ]
  },
  {
   "cell_type": "code",
   "execution_count": 17,
   "metadata": {},
   "outputs": [
    {
     "name": "stdout",
     "output_type": "stream",
     "text": [
      "True\n",
      "a\n"
     ]
    },
    {
     "ename": "NameError",
     "evalue": "name 'sqrt' is not defined",
     "output_type": "error",
     "traceback": [
      "\u001b[0;31m---------------------------------------------------------------------------\u001b[0m",
      "\u001b[0;31mNameError\u001b[0m                                 Traceback (most recent call last)",
      "\u001b[0;32m<ipython-input-17-37635114252c>\u001b[0m in \u001b[0;36m<module>\u001b[0;34m\u001b[0m\n\u001b[1;32m      6\u001b[0m \u001b[0;31m# print(bin(1987))\u001b[0m\u001b[0;34m\u001b[0m\u001b[0;34m\u001b[0m\u001b[0;34m\u001b[0m\u001b[0m\n\u001b[1;32m      7\u001b[0m \u001b[0;34m\u001b[0m\u001b[0m\n\u001b[0;32m----> 8\u001b[0;31m \u001b[0msqrt\u001b[0m\u001b[0;34m(\u001b[0m\u001b[0;36m4\u001b[0m\u001b[0;34m)\u001b[0m\u001b[0;34m\u001b[0m\u001b[0;34m\u001b[0m\u001b[0m\n\u001b[0m",
      "\u001b[0;31mNameError\u001b[0m: name 'sqrt' is not defined"
     ]
    }
   ],
   "source": [
    "# ok thanks!what if it is with out ' '?\n",
    "print(a)\n",
    "print('a')\n",
    "# print(z)\n",
    "# print(bin(10))\n",
    "# print(bin(1987))\n",
    "\n",
    "# sqrt(4)"
   ]
  },
  {
   "cell_type": "code",
   "execution_count": 28,
   "metadata": {},
   "outputs": [],
   "source": [
    "# Identifier - name given to variable, function, class, module or object - PEP8\n",
    "# num = 100            # Varaible\n",
    "\n",
    "# MAX_NUM = 100        # Constant\n",
    "# print(type(MAX_NUM))\n",
    "# MAX_NUM = 200\n",
    "\n",
    "# def f1():            # Function name\n",
    "#     pass\n",
    "\n",
    "# class MyFirstClass:  # class name\n",
    "#     pass\n",
    "\n",
    "# obj = MyFirstClass() # Object name\n",
    "\n",
    "# import gc            # gc is a name for a module\n",
    "\n",
    "# Allowed characters in Identifier - A to Z, a to z, 0-9, _\n",
    "# Not allod - Special charcters\n",
    "# Rules:-\n",
    "#     - Identifier should not start witha number - \n",
    "# num1 = 100\n",
    "# n1um = 100\n",
    "# print(num1, n1um)\n",
    "# 1num = 100\n",
    "\n",
    "#     - Identifiers are case sensitive\n",
    "# Num = 100\n",
    "# num = 200\n",
    "# print(Num, num)\n",
    "\n",
    "#     - Never use reserved words as identifier\n",
    "# import keyword\n",
    "# print(keyword.kwlist)\n",
    "# for = 100\n",
    "# For = 100\n",
    "\n",
    "#     - Not recommended to take lengthy identifier.\n",
    "# akbsckbakdvbdskjgbkvjdsbcvhskdbvksdbv = 100\n",
    "# print()\n",
    "\n",
    "#     - Importance of (_) in your identifier\n",
    "# _abc --> private - You can not use it outside of a module\n",
    "# __abc --> strongly private - You can access it outside of the class\n",
    "# __abc__ --> language defined special identifier"
   ]
  },
  {
   "cell_type": "code",
   "execution_count": 53,
   "metadata": {},
   "outputs": [],
   "source": [
    "# def f1():\n",
    "#     pass\n",
    "\n",
    "\n",
    "# class MyFirstClass:\n",
    "#     _num = 100\n",
    "#     Num1 = 200\n",
    "#     __NUM= 300\n",
    "#     def __f1(self):\n",
    "#         print(_num)\n",
    "#         print(__NUM)\n",
    "        \n",
    "#     def f2(self):\n",
    "#         print(Num)\n",
    "#         print(_num)\n",
    "#         print(__NUM)\n",
    "        \n",
    "# obj = MyFirstClass()\n",
    "# print(obj._num)\n",
    "# print(obj.Num1)\n",
    "# print(obj.__NUM)\n",
    "# print(__name__)\n",
    "# __name__ = 100\n",
    "# print(__name__)\n",
    "# print(dir(__builtins__))\n",
    "# __builtins__ = 100\n",
    "# print(dir(__builtins__))\n",
    "# __xyz__\n",
    "# __ge__"
   ]
  },
  {
   "cell_type": "code",
   "execution_count": 41,
   "metadata": {},
   "outputs": [],
   "source": [
    "# import this"
   ]
  },
  {
   "cell_type": "code",
   "execution_count": 55,
   "metadata": {},
   "outputs": [],
   "source": [
    "# print(__name__)\n"
   ]
  },
  {
   "cell_type": "markdown",
   "metadata": {},
   "source": [
    "# Reserved Words"
   ]
  },
  {
   "cell_type": "code",
   "execution_count": 2,
   "metadata": {},
   "outputs": [
    {
     "name": "stdout",
     "output_type": "stream",
     "text": [
      "['False', 'None', 'True', 'and', 'as', 'assert', 'async', 'await', 'break', 'class', 'continue', 'def', 'del', 'elif', 'else', 'except', 'finally', 'for', 'from', 'global', 'if', 'import', 'in', 'is', 'lambda', 'nonlocal', 'not', 'or', 'pass', 'raise', 'return', 'try', 'while', 'with', 'yield']\n"
     ]
    }
   ],
   "source": [
    "'''\n",
    "import keyword\n",
    "print(keyword.kwlist)\n",
    "'''"
   ]
  },
  {
   "cell_type": "code",
   "execution_count": null,
   "metadata": {},
   "outputs": [],
   "source": [
    "'''\n",
    "# Reserved Words :-\n",
    "    1. Reserved Literals - 'False', 'None', 'True'\n",
    "    2. Keyword\n",
    "'''"
   ]
  },
  {
   "cell_type": "code",
   "execution_count": 5,
   "metadata": {},
   "outputs": [
    {
     "data": {
      "text/plain": [
       "False"
      ]
     },
     "execution_count": 5,
     "metadata": {},
     "output_type": "execute_result"
    }
   ],
   "source": [
    "# None\n",
    "# True\n",
    "# False"
   ]
  },
  {
   "cell_type": "code",
   "execution_count": 11,
   "metadata": {},
   "outputs": [],
   "source": [
    "# for \n",
    "if 10<20:\n",
    "    pass"
   ]
  },
  {
   "cell_type": "markdown",
   "metadata": {},
   "source": [
    "# Comments"
   ]
  },
  {
   "cell_type": "markdown",
   "metadata": {},
   "source": [
    "# This program adds two numbers\n",
    "a = 100\n",
    "b = 200\n",
    "# c stores the result of sum of a and b\n",
    "c = a+b"
   ]
  },
  {
   "cell_type": "markdown",
   "metadata": {},
   "source": [
    "# Expression & Statements in Python"
   ]
  },
  {
   "cell_type": "code",
   "execution_count": 12,
   "metadata": {},
   "outputs": [
    {
     "name": "stdout",
     "output_type": "stream",
     "text": [
      "30\n"
     ]
    }
   ],
   "source": [
    "a = 10+20;\n",
    "b = 10\n",
    "print(10+20)"
   ]
  },
  {
   "cell_type": "code",
   "execution_count": null,
   "metadata": {},
   "outputs": [],
   "source": [
    "if 10<20:\n",
    "    pass"
   ]
  },
  {
   "cell_type": "code",
   "execution_count": null,
   "metadata": {},
   "outputs": [],
   "source": [
    "for i in range(10):\n",
    "    pass"
   ]
  },
  {
   "cell_type": "markdown",
   "metadata": {},
   "source": [
    "# Blocks/suites & indentation"
   ]
  },
  {
   "cell_type": "code",
   "execution_count": null,
   "metadata": {},
   "outputs": [],
   "source": [
    "# x = 1000\n",
    "# y = 200\n",
    "# if x<y:\n",
    "#     a = 10\n",
    "#     b = 20\n",
    "#     c = a+b\n",
    "#     print(c)\n",
    "# else:\n",
    "#     a = 20\n",
    "#     b = 10\n",
    "#     c = a-b\n",
    "#     print(c)"
   ]
  },
  {
   "cell_type": "code",
   "execution_count": null,
   "metadata": {},
   "outputs": [],
   "source": [
    "year = int(input('Enter an year to check leap year: '))\n",
    "if year%4 == 0:\n",
    "    if year%100 == 0:\n",
    "        if year%400 == 0:\n",
    "            print('Leap year')\n",
    "        else:\n",
    "            print('Not a leap year')\n",
    "    else:\n",
    "        print('Leap Year')\n",
    "else:\n",
    "    print('Not a leap year')\n",
    "  "
   ]
  },
  {
   "cell_type": "markdown",
   "metadata": {},
   "source": [
    "# Escape Sequence"
   ]
  },
  {
   "cell_type": "code",
   "execution_count": null,
   "metadata": {},
   "outputs": [],
   "source": [
    "\n",
    "# \\\n",
    "# Using this you may write a single line string into multi line string.\n",
    "# \\\\\n",
    "# To print \\\n",
    "# \\n\n",
    "# new line\n",
    "# \\t\n",
    "# Horizontal tab\n",
    "# \\v\n",
    "# Vertical tab\n",
    "# \\'\n",
    "# To consider single quote(‘) as string character\n",
    "# \\\"\n",
    "# To consider double quote(\") as string character"
   ]
  },
  {
   "cell_type": "code",
   "execution_count": 35,
   "metadata": {},
   "outputs": [
    {
     "name": "stdout",
     "output_type": "stream",
     "text": [
      "This is Python's class\n",
      "This is \"Python\" class\n"
     ]
    }
   ],
   "source": [
    "# a = 'This is Python class'\n",
    "# b = \"This \\\n",
    "# is \\\n",
    "# Python \\\n",
    "# class\"\n",
    "# # print(a)\n",
    "# # print(b)\n",
    "\n",
    "# a = 'Blocks \\\\nSuites are same.'\n",
    "# print(a, '\\v', b)\n",
    "\n",
    "\n",
    "# a = 'This is Python\\'s class'\n",
    "# print(a)\n",
    "\n",
    "# b = \"This is \\\"Python\\\" class\"\n",
    "# print(b)\n",
    "\n",
    "# c = 'This is Python\\'s & \\\"Java\\\" class'\n",
    "\n"
   ]
  },
  {
   "cell_type": "markdown",
   "metadata": {},
   "source": [
    "# Data Types in Python"
   ]
  },
  {
   "cell_type": "code",
   "execution_count": null,
   "metadata": {},
   "outputs": [],
   "source": [
    "# Fundamental - int, float, complex, booelean, string - Sequence, None\n",
    "# Derived - (List, tuple, range, bytes, bytearrays) - sequence, (set, frozen set, dictionary) - mapping"
   ]
  },
  {
   "cell_type": "code",
   "execution_count": null,
   "metadata": {},
   "outputs": [],
   "source": [
    "# NUmbers in Python\n",
    "#     - integer\n",
    "#     - float\n",
    "#     - complex"
   ]
  },
  {
   "cell_type": "markdown",
   "metadata": {},
   "source": [
    "# Integers"
   ]
  },
  {
   "cell_type": "code",
   "execution_count": 49,
   "metadata": {},
   "outputs": [
    {
     "name": "stdout",
     "output_type": "stream",
     "text": [
      "64649\n",
      "0xfc89\n"
     ]
    }
   ],
   "source": [
    "# Any whole number in python withourt decimal point - int\n",
    "# int - -64000+ to 64000+\n",
    "# short - 0-128\n",
    "# long - \n",
    "\n",
    "# import sys\n",
    "# a = 10\n",
    "# print(sys.getsizeof(a))\n",
    "# print(a,type(a))\n",
    "# a = 1000000000000000000000000000000000000000000000000000000000000000000000\n",
    "# print(sys.getsizeof(a))\n",
    "# print(a, type(a))\n",
    "\n",
    "# Integer value can be represented in decimal, binary, octal, hexadecimal\n",
    "# Decimal - base - 10, allowed digits are - 0-9, no prefix required - int()\n",
    "# a = 19\n",
    "\n",
    "# Binary - base - 2, allowed digits are - 0 and 1, prefix reqired 0b, 0B - bin(x) - where x can be binary, decimal, octal or hexadecimal\n",
    "# a = 0B10100\n",
    "# print(a)\n",
    "# print(bin(a))\n",
    "\n",
    "# Octal - base - 8, allowed digits are - 0-7, prefix - 0o/0O - oct(x)\n",
    "# a = 0o7653\n",
    "# print(a)\n",
    "# print(oct(4011))\n",
    "\n",
    "# Hexadecimal - base - 16, allowed - 0-9 and a-f or A to F - prefix - 0x/ 0X hex()\n",
    "a = 0xfc89\n",
    "print(a)\n",
    "print(hex(a))\n",
    "\n",
    "# Only integers value can be represented in binary/octal/hexadecimal form\n"
   ]
  },
  {
   "cell_type": "markdown",
   "metadata": {},
   "source": [
    "# float"
   ]
  },
  {
   "cell_type": "code",
   "execution_count": 64,
   "metadata": {},
   "outputs": [
    {
     "name": "stdout",
     "output_type": "stream",
     "text": [
      "1234567899.0\n",
      "24\n",
      "1.23456789e+54\n",
      "24\n"
     ]
    }
   ],
   "source": [
    "# a = 10.20\n",
    "# print(type(a))\n",
    "# a = 10.202387542836587168765782587236857269576328756\n",
    "# print(type(a))\n",
    "# Float can be represented only in decimal\n",
    "# Exponential format is there for float value\n",
    "a = 1234567899.000000000000000000000000000000000000000000000\n",
    "print(a)\n",
    "print(sys.getsizeof(a))\n",
    "a = 123456789.0e46\n",
    "print(a)\n",
    "print(sys.getsizeof(a))"
   ]
  },
  {
   "cell_type": "markdown",
   "metadata": {},
   "source": [
    "# Complex"
   ]
  },
  {
   "cell_type": "code",
   "execution_count": 73,
   "metadata": {},
   "outputs": [
    {
     "name": "stdout",
     "output_type": "stream",
     "text": [
      "(5+10j)\n"
     ]
    },
    {
     "ename": "TypeError",
     "evalue": "can't mod complex numbers.",
     "output_type": "error",
     "traceback": [
      "\u001b[0;31m---------------------------------------------------------------------------\u001b[0m",
      "\u001b[0;31mTypeError\u001b[0m                                 Traceback (most recent call last)",
      "\u001b[0;32m<ipython-input-73-95fb8f2000fc>\u001b[0m in \u001b[0;36m<module>\u001b[0;34m\u001b[0m\n\u001b[1;32m      5\u001b[0m \u001b[0;31m# a = 0b1010 + 20.30j\u001b[0m\u001b[0;34m\u001b[0m\u001b[0;34m\u001b[0m\u001b[0;34m\u001b[0m\u001b[0m\n\u001b[1;32m      6\u001b[0m \u001b[0mprint\u001b[0m\u001b[0;34m(\u001b[0m\u001b[0;34m(\u001b[0m\u001b[0;36m10\u001b[0m\u001b[0;34m+\u001b[0m\u001b[0;36m20j\u001b[0m\u001b[0;34m)\u001b[0m\u001b[0;34m/\u001b[0m\u001b[0;36m2\u001b[0m\u001b[0;34m)\u001b[0m\u001b[0;34m\u001b[0m\u001b[0;34m\u001b[0m\u001b[0m\n\u001b[0;32m----> 7\u001b[0;31m \u001b[0mprint\u001b[0m\u001b[0;34m(\u001b[0m\u001b[0;34m(\u001b[0m\u001b[0;36m10\u001b[0m\u001b[0;34m+\u001b[0m\u001b[0;36m20j\u001b[0m\u001b[0;34m)\u001b[0m\u001b[0;34m%\u001b[0m\u001b[0;36m2\u001b[0m\u001b[0;34m)\u001b[0m\u001b[0;34m\u001b[0m\u001b[0;34m\u001b[0m\u001b[0m\n\u001b[0m",
      "\u001b[0;31mTypeError\u001b[0m: can't mod complex numbers."
     ]
    }
   ],
   "source": [
    "# a = x+yj - x real - can be any representation of number, y is imaginary - should always be in decimal format, j = square root of -1\n",
    "# a = 10+20j\n",
    "# print(a.real)\n",
    "# print(a.imag)\n",
    "# a = 0b1010 + 20.30j\n",
    "print((10+20j)/2)\n",
    "print((10+20j)%2)"
   ]
  },
  {
   "cell_type": "code",
   "execution_count": 71,
   "metadata": {},
   "outputs": [
    {
     "ename": "ValueError",
     "evalue": "math domain error",
     "output_type": "error",
     "traceback": [
      "\u001b[0;31m---------------------------------------------------------------------------\u001b[0m",
      "\u001b[0;31mValueError\u001b[0m                                Traceback (most recent call last)",
      "\u001b[0;32m<ipython-input-71-73a7f890d671>\u001b[0m in \u001b[0;36m<module>\u001b[0;34m\u001b[0m\n\u001b[1;32m      1\u001b[0m \u001b[0;32mimport\u001b[0m \u001b[0mmath\u001b[0m\u001b[0;34m\u001b[0m\u001b[0;34m\u001b[0m\u001b[0m\n\u001b[1;32m      2\u001b[0m \u001b[0mmath\u001b[0m\u001b[0;34m.\u001b[0m\u001b[0msqrt\u001b[0m\u001b[0;34m(\u001b[0m\u001b[0;36m2\u001b[0m\u001b[0;34m)\u001b[0m\u001b[0;34m\u001b[0m\u001b[0;34m\u001b[0m\u001b[0m\n\u001b[0;32m----> 3\u001b[0;31m \u001b[0mmath\u001b[0m\u001b[0;34m.\u001b[0m\u001b[0msqrt\u001b[0m\u001b[0;34m(\u001b[0m\u001b[0;34m-\u001b[0m\u001b[0;36m1\u001b[0m\u001b[0;34m)\u001b[0m\u001b[0;34m\u001b[0m\u001b[0;34m\u001b[0m\u001b[0m\n\u001b[0m",
      "\u001b[0;31mValueError\u001b[0m: math domain error"
     ]
    }
   ],
   "source": [
    "import math\n",
    "math.sqrt(2)\n",
    "# math.sqrt(-1)"
   ]
  },
  {
   "cell_type": "markdown",
   "metadata": {},
   "source": [
    "# Boolean"
   ]
  },
  {
   "cell_type": "code",
   "execution_count": null,
   "metadata": {},
   "outputs": [],
   "source": [
    "# Boolean - True, False\n",
    "# True - 1\n",
    "# False = 0\n",
    "\n",
    "# Opposite case:- apart from 0, 0.0, 0+0j everyting is True"
   ]
  },
  {
   "cell_type": "code",
   "execution_count": 83,
   "metadata": {},
   "outputs": [
    {
     "name": "stdout",
     "output_type": "stream",
     "text": [
      "False\n",
      "True\n",
      "True\n"
     ]
    }
   ],
   "source": [
    "# print(bool(0))\n",
    "# print(bool(0.0000000))\n",
    "# print(bool(0.00000001))\n",
    "# print(bool(-10))\n",
    "# print(bool(0+0j))\n",
    "# print(bool(0+0.01j))\n",
    "\n",
    "print(bool(''))\n",
    "print(bool(' '))\n",
    "print(bool('a'))"
   ]
  },
  {
   "cell_type": "markdown",
   "metadata": {},
   "source": [
    "# Strings"
   ]
  },
  {
   "cell_type": "code",
   "execution_count": 87,
   "metadata": {},
   "outputs": [
    {
     "name": "stdout",
     "output_type": "stream",
     "text": [
      "This is Python's class\n",
      "This is \"Python\" class\n",
      "This is Python's & \"Java\" class\n",
      "This\n",
      "is \n",
      "Python\n",
      "class\n"
     ]
    }
   ],
   "source": [
    "# Combination of characters kept inside single/double/triple quotation.\n",
    "a = 'This is Python class'\n",
    "\n",
    "b = \"This is Python class\"\n",
    "\n",
    "c = '''This is Python class'''\n",
    "\n",
    "d = \"\"\"This is Python class\"\"\"\n",
    "\n",
    "a = \"This is Python's class\"\n",
    "# print(a)\n",
    "\n",
    "b = 'This is \"Python\" class'\n",
    "# print(b)\n",
    "\n",
    "c = '''This is Python's & \"Java\" class'''\n",
    "# print(c)\n",
    "\n",
    "# To write multi line commets we use triple quotation\n",
    "# To write multi line strings we may use tiple quotation\n",
    "\n",
    "a = 'This\\\n",
    "is \\\n",
    "Python\\\n",
    "class'\n",
    "print(a)"
   ]
  },
  {
   "cell_type": "code",
   "execution_count": 88,
   "metadata": {},
   "outputs": [
    {
     "name": "stdout",
     "output_type": "stream",
     "text": [
      "this is python's class\n"
     ]
    }
   ],
   "source": [
    "a = \"this is python's class\"\n",
    "print(a)"
   ]
  }
 ],
 "metadata": {
  "kernelspec": {
   "display_name": "Python 3",
   "language": "python",
   "name": "python3"
  },
  "language_info": {
   "codemirror_mode": {
    "name": "ipython",
    "version": 3
   },
   "file_extension": ".py",
   "mimetype": "text/x-python",
   "name": "python",
   "nbconvert_exporter": "python",
   "pygments_lexer": "ipython3",
   "version": "3.7.3"
  }
 },
 "nbformat": 4,
 "nbformat_minor": 2
}

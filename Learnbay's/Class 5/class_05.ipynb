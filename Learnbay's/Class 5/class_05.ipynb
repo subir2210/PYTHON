{
 "cells": [
  {
   "cell_type": "code",
   "execution_count": null,
   "metadata": {},
   "outputs": [],
   "source": [
    "# SC - BC- Interpreter - MC - O/P\n",
    "# SC - BC - JIT Compiler - MC - \n",
    "# a = 10\n",
    "# b = 10\n",
    "# a = 20\n",
    "# b = 30\n",
    "\n",
    "# if, for, function, method, class\n",
    "\n",
    "# Block - Suite\n",
    "# a = 10\n",
    "# b = 20\n",
    "# c = a+b\n",
    "# print(c)\n",
    "# if a>b:\n",
    "#     d = b-s\n",
    "#     print(d)\n",
    "# m = a*b"
   ]
  },
  {
   "cell_type": "markdown",
   "metadata": {},
   "source": [
    "# Operation on strings - Sequence\n",
    "    - Indexing\n",
    "    - Slicing\n",
    "    - Concatenation\n",
    "    - Repetition"
   ]
  },
  {
   "cell_type": "code",
   "execution_count": 40,
   "metadata": {},
   "outputs": [
    {
     "name": "stdout",
     "output_type": "stream",
     "text": [
      "si yhncas\n"
     ]
    }
   ],
   "source": [
    "a = 'This is Python class.'\n",
    "# Element of a sequence is a smallest single unit - and every element is having a fix index\n",
    "# Python supports both positive and negative indexing\n",
    "# Positive indexing always stars from 0 and from left hand side\n",
    "# Negative indexing always stars from -1 and from right hand side\n",
    "# eg\n",
    "# -6-5 -4 -3 -2 -1 \n",
    "# P  y  t  h  o  n\n",
    "# 0  1  2  3  4  5\n",
    "# Using indexing you may access only one element at a time\n",
    "# print('Python'[2])\n",
    "# print('Python'[-1])\n",
    "# print('Python'[5])\n",
    "# print('Python'[0])\n",
    "# print('Python'[-6])\n",
    "\n",
    "# Indexing and length of a string or sequence are two different concepts\n",
    "# Indexing - Indexing from 0 and in this you do not count the no of element\n",
    "# Length - Then you count the no of elemnts in the string - counting begins from 1\n",
    "# Index of last element will be [len(str)-1]\n",
    "# Index of first element will be [-len(str)]\n",
    "\n",
    "# a = 'This is Python class.'\n",
    "# print(a[0])\n",
    "# print(a[len(a)-1])\n",
    "# print(a[-len(a)])\n",
    "# print(a)\n",
    "\n",
    "a = 'This is Python class.'\n",
    "# Slicing - a[start:stop:step] - a[:stop] - a[start:] - a[::] - a[start:stop]\n",
    "# Step - +ve - do the slicing from left to right, - -Ve - do the slicing from right to left\n",
    "# Step - 1 - it will consider every element in o/p, - 2 - it will consider every 2nd element in th eo/p\n",
    "# print(a[8:14:1])\n",
    "# print(a[8:14]) # If you don't mention the step value then defaut value is +1\n",
    "# print(a[::])   # If you do not mention - 1. start - 0 default val, 2. stop - len(a) default, 3. \n",
    "# print(a[0:len(a):1])\n",
    "# print(a[::1])\n",
    "\n",
    "# print(a[:14])\n",
    "# print(a[8:])\n",
    "\n",
    "# print(a[::-1])       # if you mention your step value as -1 - 1. start - -1 default val, stop - -(len(a)+1) default\n",
    "# print(a[-1:-(len(a)+1):-1])\n",
    "# print(a[-8:])\n",
    "# print(a[-8::-1])\n",
    "# print(a[-8:-14:1])\n",
    "# print(a[1:len(a)+1:-1])\n",
    "\n",
    "# print 'Python' is reverse order but your start and stop value should be positive index\n",
    "# print(a[13:7:-1])\n",
    "\n",
    "# print(a[3::2])\n",
    "# print(a[::3])\n",
    "# print(a[::-2])\n",
    "# print(a[::-3])\n",
    "\n",
    "# print(a[3:100:2])"
   ]
  },
  {
   "cell_type": "code",
   "execution_count": 53,
   "metadata": {},
   "outputs": [
    {
     "name": "stdout",
     "output_type": "stream",
     "text": [
      "LearnbayPython\n",
      "LearnbayLearnbayLearnbay\n",
      "LearnbayLearnbayLearnbayLearnbay\n",
      "102010201020102010201020102010201020102010201020102010201020102010201020102010201020102010201020102010201020102010201020\n",
      "a a a a a a a a a a \n"
     ]
    }
   ],
   "source": [
    "# Concatenation - + In this case both the operands should be string\n",
    "# Repetition - * In this case one operand should be string and another operand should be integer\n",
    "a = 'Learnbay'\n",
    "b = 'Python'\n",
    "print(a+b)\n",
    "x = '10'\n",
    "y = '20'\n",
    "z = 30\n",
    "# print(x+y)\n",
    "# print(x+y+z)\n",
    "\n",
    "print(a*3)\n",
    "print(4*a)\n",
    "# print(a*2.3)\n",
    "# print(a*b)\n",
    "print((x+y)*z)\n",
    "\n",
    "# print(a**z)\n",
    "a = 'a '*10\n",
    "print(a)"
   ]
  },
  {
   "cell_type": "markdown",
   "metadata": {},
   "source": [
    "# Type casting or type conversion"
   ]
  },
  {
   "cell_type": "code",
   "execution_count": null,
   "metadata": {},
   "outputs": [],
   "source": [
    "# int(), float(), complex(), str(), bool()"
   ]
  },
  {
   "cell_type": "code",
   "execution_count": 82,
   "metadata": {},
   "outputs": [
    {
     "name": "stdout",
     "output_type": "stream",
     "text": [
      "10\n",
      "True\n"
     ]
    }
   ],
   "source": [
    "# print(int(10))\n",
    "# print(int('10'))\n",
    "# print(int(10.20))\n",
    "# print(int(True))\n",
    "# print(int(0b1010))\n",
    "# print(int(0o107))\n",
    "# print(int(0xfc98))\n",
    "\n",
    "\n",
    "# print(int('10.20'))\n",
    "# print(int(10+20j))\n",
    "# print(int('0b1010'))\n",
    "# print(int('True'))\n",
    "# print(int('a'))\n",
    "# a = '10.20'\n",
    "# int(a)\n",
    "\n",
    "\n",
    "# Float\n",
    "# print(float(10))\n",
    "# print(float('10'))\n",
    "# print(float(10.20))\n",
    "# print(float('10.20'))\n",
    "# print(float(True))\n",
    "# print(float(0b1010))\n",
    "# print(float(0o107))\n",
    "# print(float(0xfc98))\n",
    "\n",
    "# print(float(10+20j))\n",
    "# print(float('0b1010'))\n",
    "# print(float('True'))\n",
    "# print(float('a'))\n",
    "\n",
    "# complex(x), complex(x,y)\n",
    "\n",
    "#complex(x)\n",
    "# complex(1)\n",
    "# print(complex(True))\n",
    "# print(complex(0b1010))\n",
    "# print(complex(10.20))\n",
    "# print(complex('10.20'))\n",
    "# print(complex('a'))\n",
    "\n",
    "# complex(x,y)\n",
    "# print(complex(10,20))\n",
    "# print(complex(10.20, 20.30))\n",
    "# print(complex(True, False))\n",
    "# print(complex(0b1010, 0o176))\n",
    "# a = 0b1010 + 0o176j\n",
    "# print(complex('0b1010', '0o176'))\n",
    "# print(complex(10, 20.30))\n",
    "\n",
    "\n",
    "# str()\n",
    "# print(str(10))\n",
    "# print(str(True))"
   ]
  },
  {
   "cell_type": "code",
   "execution_count": 91,
   "metadata": {},
   "outputs": [
    {
     "name": "stdout",
     "output_type": "stream",
     "text": [
      "10\n"
     ]
    }
   ],
   "source": [
    "# a=10.2\n",
    "# c=hex(int(a))\n",
    "# print(c)\n",
    "# b=int(float(c))\n",
    "# a = 0xa\n",
    "# print(a)\n",
    "# str(float('0xa'))"
   ]
  },
  {
   "cell_type": "markdown",
   "metadata": {},
   "source": [
    "# Mutability and Immutability"
   ]
  },
  {
   "cell_type": "code",
   "execution_count": 110,
   "metadata": {},
   "outputs": [
    {
     "name": "stdout",
     "output_type": "stream",
     "text": [
      "4545497272\n",
      "4599601136\n",
      "[10, 20, 30, 'Pythonclass']\n"
     ]
    }
   ],
   "source": [
    "# Mutable - Modifiable - List, set, dictionary, byte arrays\n",
    "# Immutable - Not modifiable - All fundamental data type - tuple, frozen set, range, bytes\n",
    "# The concept of immutability says that if you would try to modify the existing object then instead of making the changes to existing object     \n",
    "# PVM creates a new object for those which are immutable\n",
    "# Object creation is cheap\n",
    "\n",
    "\n",
    "# a = 10\n",
    "# print(a)\n",
    "# print(id(a))\n",
    "\n",
    "# a = a+1\n",
    "# print(a)\n",
    "# print(id(a))\n",
    "\n",
    "# s = 'Python'\n",
    "# a = 'Python'\n",
    "# print(id(s))\n",
    "# # s[0] = 'J'\n",
    "# s = 'J'+s[1:]\n",
    "# print(s)\n",
    "# print(id(s))\n",
    "# print(a)\n",
    "\n",
    "# l = [10,20,30]\n",
    "# print(l)\n",
    "# print(id(l))\n",
    "# l[0] = 100\n",
    "# print(l)\n",
    "# print(id(l))\n",
    "\n",
    "# # l = l + [200]\n",
    "# # print(l)\n",
    "# # print(id(l))\n",
    "# l.append(200)\n",
    "# print(l)\n",
    "# print(id(l))\n",
    "\n",
    "# l = [10,20,30, 'Python']\n",
    "# # print(id(l))\n",
    "# print(id(l[-1]))\n",
    "# l[-1] = l[-1] + 'class'\n",
    "# print(id(l[-1]))\n",
    "# print(l)\n",
    "# print(id(l))\n",
    "\n",
    "\n",
    "\n"
   ]
  },
  {
   "cell_type": "markdown",
   "metadata": {},
   "source": [
    "# Object Reusability"
   ]
  },
  {
   "cell_type": "code",
   "execution_count": 123,
   "metadata": {},
   "outputs": [
    {
     "name": "stdout",
     "output_type": "stream",
     "text": [
      "4542688736\n",
      "4542688736\n"
     ]
    }
   ],
   "source": [
    "# You may reuse the existing obejct\n",
    "# The objects which are getting used frequently are created at run time\n",
    "# int - 0-256\n",
    "# bool - True and False\n",
    "# string - A to Z and a to z\n",
    "# None\n",
    "\n",
    "# Float, complex, derived data type not there\n",
    "\n",
    "# a = 10\n",
    "# b = 10\n",
    "# print(id(a))\n",
    "# print(id(b))\n",
    "\n",
    "\n",
    "# a = 256\n",
    "# b = 256\n",
    "# print(id(a))\n",
    "# print(id(b))\n",
    "\n",
    "# 0 and 1 - Infinite\n",
    "\n",
    "# a = 'Python'\n",
    "# b = 'Python'\n",
    "# print(id(a))\n",
    "# print(id(b))\n",
    "\n",
    "# a = 'abc'*1000\n",
    "# b = 'abc'*1000\n",
    "# print(id(a))\n",
    "# print(id(b))\n",
    "\n",
    "\n",
    "# a = 'This is Python class'\n",
    "# b = 'This is Python class'\n",
    "# print(id(a))\n",
    "# print(id(b))\n",
    "\n",
    "# a = True\n",
    "# b = True\n",
    "# print(id(a))\n",
    "# print(id(b))"
   ]
  },
  {
   "cell_type": "code",
   "execution_count": 3,
   "metadata": {},
   "outputs": [],
   "source": [
    "# help(), dir(), type(), id(), print(), input(), ord(), chr()\n",
    "# help()\n",
    "# help(object)\n",
    "# print(help())\n",
    "# help(10)\n",
    "# print(help())"
   ]
  },
  {
   "cell_type": "code",
   "execution_count": 4,
   "metadata": {},
   "outputs": [],
   "source": [
    "class MyFirstClass:\n",
    "    '''This calss is my first class and it does not takes any argument.\n",
    "    class int(object)\n",
    " |  int([x]) -> integer\n",
    " |  int(x, base=10) -> integer\n",
    " |  \n",
    " |  Convert a number or string to an integer, or return 0 if no arguments\n",
    " |  are given.  If x is a number, return x.__int__().  For floating point\n",
    " |  numbers, this truncates towards zero.\n",
    " |  \n",
    " |  If x is not a number or if base is given, then x must be a string,\n",
    " |  bytes, or bytearray instance representing an integer literal in the\n",
    " |  given base.  The literal can be preceded by '+' or '-' and be surrounded\n",
    " |  by whitespace.  The base defaults to 10.  Valid bases are 0 and 2-36.\n",
    " |  Base 0 means to interpret the base from the string as an integer literal.\n",
    " |  >>> int('0b100', base=0)\n",
    " |  4\n",
    " |  \n",
    " |  Methods defined here:\n",
    " |  \n",
    " |  __abs__(self, /)\n",
    " |      abs(self)\n",
    " |  \n",
    " |  __add__(self, value, /)\n",
    " |      Return self+value.\n",
    " |  \n",
    " |  __and__(self, value, /)\n",
    " |      Return self&value.\n",
    " |  \n",
    " |  __bool__(self, /)\n",
    " |      self != 0\n",
    " |  \n",
    " |  __ceil__(...)\n",
    " |      Ceiling of an Integral returns itself.\n",
    " |  \n",
    " |  __divmod__(self, value, /)\n",
    " |      Return divmod(self, value).\n",
    " |  \n",
    " |  __eq__(self, value, /)\n",
    " |      Return self==value.\n",
    " |  \n",
    " |  __float__(self, /)\n",
    " |      float(self)\n",
    " |  \n",
    " |  __floor__(...)\n",
    " |      Flooring an Integral returns itself.\n",
    " |  \n",
    " |  __floordiv__(self, value, /)\n",
    " |      Return self//value.\n",
    " |  \n",
    " |  __format__(self, format_spec, /)\n",
    " |      Default object formatter.\n",
    " |  \n",
    " |  __ge__(self, value, /)\n",
    " |      Return self>=value.\n",
    " |  \n",
    " |  __getattribute__(self, name, /)\n",
    " |      Return getattr(self, name).\n",
    " |  \n",
    " |  __getnewargs__(self, /)\n",
    " |  \n",
    " |  __gt__(self, value, /)\n",
    " |      Return self>value.\n",
    " |  \n",
    " |  __hash__(self, /)\n",
    " |      Return hash(self).\n",
    " |  \n",
    " |  __index__(self, /)\n",
    " |      Return self converted to an integer, if self is suitable for use as an index into a list.\n",
    " |  \n",
    " |  __int__(self, /)\n",
    " |      int(self)\n",
    " |  \n",
    " |  __invert__(self, /)\n",
    " |      ~self\n",
    " |  \n",
    " |  __le__(self, value, /)\n",
    " |      Return self<=value.\n",
    " |  \n",
    " |  __lshift__(self, value, /)\n",
    " |      Return self<<value.\n",
    " |  \n",
    " |  __lt__(self, value, /)\n",
    " |      Return self<value.\n",
    " |  \n",
    " |  __mod__(self, value, /)\n",
    " |      Return self%value.\n",
    " |  \n",
    " |  __mul__(self, value, /)\n",
    " |      Return self*value.\n",
    " |  \n",
    " |  __ne__(self, value, /)\n",
    " |      Return self!=value.\n",
    " |  '''\n",
    "    pass\n",
    "\n",
    "# obj = MyFirstClass()\n",
    "# print(obj.__doc__)"
   ]
  },
  {
   "cell_type": "code",
   "execution_count": 10,
   "metadata": {},
   "outputs": [],
   "source": [
    "# print(dir())\n",
    "# print(dir(object))\n",
    "\n",
    "# print(dir(__builtins__))\n",
    "\n",
    "# import math\n",
    "# print(math.sqrt(4))"
   ]
  },
  {
   "cell_type": "code",
   "execution_count": 13,
   "metadata": {},
   "outputs": [
    {
     "name": "stdout",
     "output_type": "stream",
     "text": [
      "4414775808 4470482288\n"
     ]
    }
   ],
   "source": [
    "# a = 100\n",
    "# b = 10.20\n",
    "# print(type(a))\n",
    "# print(id(b))\n",
    "# print(id(a), id(b))"
   ]
  },
  {
   "cell_type": "code",
   "execution_count": 17,
   "metadata": {},
   "outputs": [
    {
     "name": "stdout",
     "output_type": "stream",
     "text": [
      "A\n",
      "=\n",
      "*\n"
     ]
    }
   ],
   "source": [
    "# ord - ordinal, chr - charcater - only one args - only one charcter\n",
    "# print(ord('A'))\n",
    "# print(ord('='))\n",
    "# print(ord('*'))\n",
    "\n",
    "# print(chr(65))\n",
    "# print(chr(61))\n",
    "# print(chr(42))\n",
    "\n",
    "# input :- Python\n",
    "#          Ravjqp"
   ]
  },
  {
   "cell_type": "code",
   "execution_count": 19,
   "metadata": {},
   "outputs": [
    {
     "name": "stdout",
     "output_type": "stream",
     "text": [
      "Enter the first number: 100\n",
      "Enter the second number: 200\n",
      "300\n"
     ]
    }
   ],
   "source": [
    "# input() - converys everyting to string by default\n",
    "\n",
    "a = eval(input('Enter the first number: '))\n",
    "b = int(input('Enter the second number: '))\n",
    "c = a+b\n",
    "print(c)"
   ]
  },
  {
   "cell_type": "code",
   "execution_count": 23,
   "metadata": {},
   "outputs": [
    {
     "name": "stdout",
     "output_type": "stream",
     "text": [
      "30\n",
      "<class 'int'>\n"
     ]
    }
   ],
   "source": [
    "# eval() - evaluates a expression but it takes the expression in the string format\n",
    "print(10+20)\n",
    "print(type(eval('10+20')))"
   ]
  },
  {
   "cell_type": "code",
   "execution_count": 28,
   "metadata": {},
   "outputs": [
    {
     "name": "stdout",
     "output_type": "stream",
     "text": [
      "Enter a list: 10+20\n",
      "Enter a string: [10,20,30] + [200]\n",
      "30\n"
     ]
    },
    {
     "ename": "TypeError",
     "evalue": "'int' object is not subscriptable",
     "output_type": "error",
     "traceback": [
      "\u001b[0;31m---------------------------------------------------------------------------\u001b[0m",
      "\u001b[0;31mTypeError\u001b[0m                                 Traceback (most recent call last)",
      "\u001b[0;32m<ipython-input-28-1224724e8430>\u001b[0m in \u001b[0;36m<module>\u001b[0;34m\u001b[0m\n\u001b[1;32m      2\u001b[0m \u001b[0mb\u001b[0m \u001b[0;34m=\u001b[0m \u001b[0minput\u001b[0m\u001b[0;34m(\u001b[0m\u001b[0;34m'Enter a string: '\u001b[0m\u001b[0;34m)\u001b[0m\u001b[0;34m\u001b[0m\u001b[0;34m\u001b[0m\u001b[0m\n\u001b[1;32m      3\u001b[0m \u001b[0mprint\u001b[0m\u001b[0;34m(\u001b[0m\u001b[0ma\u001b[0m\u001b[0;34m)\u001b[0m\u001b[0;34m\u001b[0m\u001b[0;34m\u001b[0m\u001b[0m\n\u001b[0;32m----> 4\u001b[0;31m \u001b[0mprint\u001b[0m\u001b[0;34m(\u001b[0m\u001b[0ma\u001b[0m\u001b[0;34m[\u001b[0m\u001b[0;36m0\u001b[0m\u001b[0;34m]\u001b[0m\u001b[0;34m,\u001b[0m \u001b[0ma\u001b[0m\u001b[0;34m[\u001b[0m\u001b[0;34m-\u001b[0m\u001b[0;36m1\u001b[0m\u001b[0;34m]\u001b[0m\u001b[0;34m,\u001b[0m \u001b[0ma\u001b[0m\u001b[0;34m[\u001b[0m\u001b[0;36m1\u001b[0m\u001b[0;34m]\u001b[0m\u001b[0;34m,\u001b[0m \u001b[0ma\u001b[0m\u001b[0;34m[\u001b[0m\u001b[0;36m2\u001b[0m\u001b[0;34m]\u001b[0m\u001b[0;34m)\u001b[0m\u001b[0;34m\u001b[0m\u001b[0;34m\u001b[0m\u001b[0m\n\u001b[0m\u001b[1;32m      5\u001b[0m \u001b[0mprint\u001b[0m\u001b[0;34m(\u001b[0m\u001b[0mb\u001b[0m\u001b[0;34m)\u001b[0m\u001b[0;34m\u001b[0m\u001b[0;34m\u001b[0m\u001b[0m\n",
      "\u001b[0;31mTypeError\u001b[0m: 'int' object is not subscriptable"
     ]
    }
   ],
   "source": [
    "# a = eval(input('Enter a list: '))\n",
    "# b = input('Enter a string: ')\n",
    "# print(a)\n",
    "# print(a[0], a[-1], a[1], a[2])\n",
    "# print(b)"
   ]
  },
  {
   "cell_type": "code",
   "execution_count": 46,
   "metadata": {},
   "outputs": [
    {
     "name": "stdout",
     "output_type": "stream",
     "text": [
      "The sum of [10, 20, 30] and [200, 300, 400] is [10, 20, 30, 200, 300, 400]\n",
      "The sum of [10, 20, 30] and [200, 300, 400] is [10, 20, 30, 200, 300, 400]\n"
     ]
    }
   ],
   "source": [
    "#print(a,b,c,d, sep = ' ', end = '\\n')\n",
    "a,b,c,d = 10,20,30,40\n",
    "# print(a,b,c,d, sep = '=')\n",
    "# print(a, end = '\\t')\n",
    "# print(b, end = '\\n')\n",
    "# print(c, end = '\\v')\n",
    "# print(d, end = '\\t')\n",
    "\n",
    "# Output formatting\n",
    "a = [10,20,30]\n",
    "b = [200,300,400]\n",
    "c = a+b\n",
    "print('The sum of {} and {} is {}'.format(a,b,c))\n",
    "print(f'The sum of {a} and {b} is {c}')\n",
    "\n",
    "# The sum of 10 and 20 is 30"
   ]
  },
  {
   "cell_type": "code",
   "execution_count": 44,
   "metadata": {},
   "outputs": [
    {
     "name": "stdout",
     "output_type": "stream",
     "text": [
      "['__add__', '__class__', '__contains__', '__delattr__', '__dir__', '__doc__', '__eq__', '__format__', '__ge__', '__getattribute__', '__getitem__', '__getnewargs__', '__gt__', '__hash__', '__init__', '__init_subclass__', '__iter__', '__le__', '__len__', '__lt__', '__mod__', '__mul__', '__ne__', '__new__', '__reduce__', '__reduce_ex__', '__repr__', '__rmod__', '__rmul__', '__setattr__', '__sizeof__', '__str__', '__subclasshook__', 'capitalize', 'casefold', 'center', 'count', 'encode', 'endswith', 'expandtabs', 'find', 'format', 'format_map', 'index', 'isalnum', 'isalpha', 'isascii', 'isdecimal', 'isdigit', 'isidentifier', 'islower', 'isnumeric', 'isprintable', 'isspace', 'istitle', 'isupper', 'join', 'ljust', 'lower', 'lstrip', 'maketrans', 'partition', 'replace', 'rfind', 'rindex', 'rjust', 'rpartition', 'rsplit', 'rstrip', 'split', 'splitlines', 'startswith', 'strip', 'swapcase', 'title', 'translate', 'upper', 'zfill']\n"
     ]
    }
   ],
   "source": [
    "print(dir(str))\n",
    "\n",
    "\n",
    "# Function - function Without class\n",
    "# Method - function inside class"
   ]
  },
  {
   "cell_type": "code",
   "execution_count": null,
   "metadata": {},
   "outputs": [],
   "source": []
  },
  {
   "cell_type": "code",
   "execution_count": null,
   "metadata": {},
   "outputs": [],
   "source": []
  },
  {
   "cell_type": "code",
   "execution_count": null,
   "metadata": {},
   "outputs": [],
   "source": []
  },
  {
   "cell_type": "code",
   "execution_count": null,
   "metadata": {},
   "outputs": [],
   "source": []
  },
  {
   "cell_type": "code",
   "execution_count": null,
   "metadata": {},
   "outputs": [],
   "source": []
  },
  {
   "cell_type": "code",
   "execution_count": null,
   "metadata": {},
   "outputs": [],
   "source": []
  }
 ],
 "metadata": {
  "kernelspec": {
   "display_name": "Python 3",
   "language": "python",
   "name": "python3"
  },
  "language_info": {
   "codemirror_mode": {
    "name": "ipython",
    "version": 3
   },
   "file_extension": ".py",
   "mimetype": "text/x-python",
   "name": "python",
   "nbconvert_exporter": "python",
   "pygments_lexer": "ipython3",
   "version": "3.7.3"
  }
 },
 "nbformat": 4,
 "nbformat_minor": 2
}

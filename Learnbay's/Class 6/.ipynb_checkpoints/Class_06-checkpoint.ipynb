{
 "cells": [
  {
   "cell_type": "code",
   "execution_count": 1,
   "metadata": {},
   "outputs": [],
   "source": [
    "# range?\n",
    "# print()\n",
    "# str = 'a'"
   ]
  },
  {
   "cell_type": "markdown",
   "metadata": {},
   "source": [
    "### Derived Data types\n",
    "    1. List\n",
    "    2. Tuple\n",
    "    3. range\n",
    "    4. bytes\n",
    "    5. BYtearrays\n",
    "    6. Set\n",
    "    7. Frozen set\n",
    "    8. Dictionary"
   ]
  },
  {
   "cell_type": "code",
   "execution_count": 23,
   "metadata": {},
   "outputs": [
    {
     "name": "stdout",
     "output_type": "stream",
     "text": [
      "[10, (10+20j), 20, 30] 4431905672\n",
      "[100, (10+20j), 20, 30] 4431905672\n",
      "[100, (10+20j), 20, 30, (10+20j)] 4431905672\n"
     ]
    },
    {
     "ename": "ValueError",
     "evalue": "list.remove(x): x not in list",
     "output_type": "error",
     "traceback": [
      "\u001b[0;31m---------------------------------------------------------------------------\u001b[0m",
      "\u001b[0;31mValueError\u001b[0m                                Traceback (most recent call last)",
      "\u001b[0;32m<ipython-input-23-35706ef7afc8>\u001b[0m in \u001b[0;36m<module>\u001b[0;34m\u001b[0m\n\u001b[1;32m     18\u001b[0m \u001b[0mprint\u001b[0m\u001b[0;34m(\u001b[0m\u001b[0ma\u001b[0m\u001b[0;34m,\u001b[0m \u001b[0mid\u001b[0m\u001b[0;34m(\u001b[0m\u001b[0ma\u001b[0m\u001b[0;34m)\u001b[0m\u001b[0;34m)\u001b[0m\u001b[0;34m\u001b[0m\u001b[0;34m\u001b[0m\u001b[0m\n\u001b[1;32m     19\u001b[0m \u001b[0;34m\u001b[0m\u001b[0m\n\u001b[0;32m---> 20\u001b[0;31m \u001b[0ma\u001b[0m\u001b[0;34m.\u001b[0m\u001b[0mremove\u001b[0m\u001b[0;34m(\u001b[0m\u001b[0;36m20j\u001b[0m\u001b[0;34m)\u001b[0m\u001b[0;34m\u001b[0m\u001b[0;34m\u001b[0m\u001b[0m\n\u001b[0m\u001b[1;32m     21\u001b[0m \u001b[0mprint\u001b[0m\u001b[0;34m(\u001b[0m\u001b[0ma\u001b[0m\u001b[0;34m,\u001b[0m \u001b[0mid\u001b[0m\u001b[0;34m(\u001b[0m\u001b[0ma\u001b[0m\u001b[0;34m)\u001b[0m\u001b[0;34m)\u001b[0m\u001b[0;34m\u001b[0m\u001b[0;34m\u001b[0m\u001b[0m\n",
      "\u001b[0;31mValueError\u001b[0m: list.remove(x): x not in list"
     ]
    }
   ],
   "source": [
    "# List - Sequnece - Indexing, slicing, Ordered collection of elements, elements kept inside square beackets sepearted by comma\n",
    "# List duplicates are allowed, Heterogeneous elements, Mutable\n",
    "# lst = ['Python']\n",
    "# print(type(lst))\n",
    "# lst = [10,10.20,10+20j, 'Python', None, [10,20,30],10,'Python' ,(10,20,30), {10,20,30}, {1:200,2:300}, range(10)]\n",
    "# print(lst[0])\n",
    "# print(lst[-1])\n",
    "\n",
    "# print(lst[3:6])\n",
    "# print(lst)\n",
    "\n",
    "a = [10,10+20j, 20,30]\n",
    "print(a, id(a))\n",
    "a[0] = 100\n",
    "print(a, id(a))\n",
    "\n",
    "a.append(10+20j)\n",
    "print(a, id(a))\n",
    "\n",
    "a.remove(10+20j)\n",
    "print(a, id(a))\n",
    "\n",
    "# print()"
   ]
  },
  {
   "cell_type": "code",
   "execution_count": 35,
   "metadata": {},
   "outputs": [
    {
     "name": "stdout",
     "output_type": "stream",
     "text": [
      "(10, 20, 30) <class 'tuple'>\n",
      "(10, 20, 30) <class 'tuple'>\n",
      "4479244184 4479244040\n",
      "10 <class 'int'>\n",
      "(10000,) <class 'tuple'>\n",
      "[10, 20, 30] <class 'list'>\n",
      "(10, 20, 30)\n",
      "10\n"
     ]
    }
   ],
   "source": [
    "# Tuple - same like list - immutable - () - optional - faster than list\n",
    "# Tuple - duplicates are allowed, Heterogeneous elements, Indexing, slicing, Ordered collection of elements,\n",
    "a = (10,20,30)\n",
    "print(a,type(a))\n",
    "\n",
    "b = 10,20,30\n",
    "print(b, type(b))\n",
    "\n",
    "print(id(a), id(b))\n",
    "\n",
    "c = (10)\n",
    "print(c, type(c))\n",
    "\n",
    "d = (10000,)\n",
    "print(d, type(d))\n",
    "\n",
    "lst = list(a)\n",
    "print(lst, type(lst))\n",
    "print(tuple(lst))\n",
    "\n",
    "# Indexing nd slicing is possible\n",
    "print(a[0])\n",
    "\n"
   ]
  },
  {
   "cell_type": "code",
   "execution_count": 32,
   "metadata": {},
   "outputs": [
    {
     "data": {
      "text/plain": [
       "(4421400536, 4421400536)"
      ]
     },
     "execution_count": 32,
     "metadata": {},
     "output_type": "execute_result"
    }
   ],
   "source": [
    "a = 'Python'\n",
    "b = 'Python'\n",
    "id(a), id(b)"
   ]
  },
  {
   "cell_type": "code",
   "execution_count": 51,
   "metadata": {},
   "outputs": [
    {
     "ename": "TypeError",
     "evalue": "string argument without an encoding",
     "output_type": "error",
     "traceback": [
      "\u001b[0;31m---------------------------------------------------------------------------\u001b[0m",
      "\u001b[0;31mTypeError\u001b[0m                                 Traceback (most recent call last)",
      "\u001b[0;32m<ipython-input-51-be2e9ca92c36>\u001b[0m in \u001b[0;36m<module>\u001b[0;34m\u001b[0m\n\u001b[1;32m      1\u001b[0m \u001b[0;31m# Bytes - Immutable - 0-256 & Bytearrays - Mutable - 0-256 - used to store Images\u001b[0m\u001b[0;34m\u001b[0m\u001b[0;34m\u001b[0m\u001b[0;34m\u001b[0m\u001b[0m\n\u001b[1;32m      2\u001b[0m \u001b[0mx\u001b[0m \u001b[0;34m=\u001b[0m \u001b[0;34m'10'\u001b[0m\u001b[0;34m\u001b[0m\u001b[0;34m\u001b[0m\u001b[0m\n\u001b[0;32m----> 3\u001b[0;31m \u001b[0mb\u001b[0m \u001b[0;34m=\u001b[0m \u001b[0mbytes\u001b[0m\u001b[0;34m(\u001b[0m\u001b[0mx\u001b[0m\u001b[0;34m)\u001b[0m\u001b[0;34m\u001b[0m\u001b[0;34m\u001b[0m\u001b[0m\n\u001b[0m\u001b[1;32m      4\u001b[0m \u001b[0mprint\u001b[0m\u001b[0;34m(\u001b[0m\u001b[0mb\u001b[0m\u001b[0;34m)\u001b[0m\u001b[0;34m\u001b[0m\u001b[0;34m\u001b[0m\u001b[0m\n\u001b[1;32m      5\u001b[0m \u001b[0;31m# # b[0] = 100\u001b[0m\u001b[0;34m\u001b[0m\u001b[0;34m\u001b[0m\u001b[0;34m\u001b[0m\u001b[0m\n",
      "\u001b[0;31mTypeError\u001b[0m: string argument without an encoding"
     ]
    }
   ],
   "source": [
    "# Bytes - Immutable - 0-256 & Bytearrays - Mutable - 0-256 - used to store Images\n",
    "# x = range(10)\n",
    "# b = bytes(x)\n",
    "# print(b)\n",
    "# # b[0] = 100\n",
    "\n",
    "# ba = bytearray(x)\n",
    "# print(ba[0])\n",
    "# ba[0] = 100\n",
    "# print(ba[0])\n",
    "# print(ba)"
   ]
  },
  {
   "cell_type": "code",
   "execution_count": 102,
   "metadata": {},
   "outputs": [
    {
     "data": {
      "text/plain": [
       "[0, -1, -2, -3, -4, -5, -6, -7, -8, -9, -10]"
      ]
     },
     "execution_count": 102,
     "metadata": {},
     "output_type": "execute_result"
    }
   ],
   "source": [
    "# range(start, stop, step) Default value of step is always +1\n",
    "# Step - +ve - left to right\n",
    "# Step - -ve - right to left\n",
    "\n",
    "# Generate a sequence of numbers from 0 - 10\n",
    "# print(list(range(0,11)))\n",
    "# print(xrange(1,11))   # is not there in python3\n",
    "\n",
    "# Generate a sequence of even numbers from 0 - 20\n",
    "# print(range(0, 20, 2))\n",
    "\n",
    "# a = range(10)\n",
    "# a[0] = 100\n",
    "\n",
    "# a = [0,2,4,6,8,10,12,14,16,18,20]      # List object - list - all values are occupying the memory\n",
    "# b = range(0,21,2)                      # Range object - Generator - they are not created yet\n",
    "# c= list(b)\n",
    "# for i in b:\n",
    "#     print(i)\n",
    "    \n",
    "# print(c)\n",
    "# c[0] = 100\n",
    "# print(c)\n",
    "\n",
    "# print(list(range(101)))  # start -> 0, step -> 1, stop -> 100\n",
    "\n",
    "# Generate a sequence of even numbers from 10 - 20\n",
    "# print(list(range(10,21)))\n",
    "\n",
    "\n",
    "\n",
    "#-10------------0-----------+10\n",
    "# Generate a sequence of even numbers from +10 - -10\n",
    "# print(set((range(0, -11, -1))))\n",
    "\n",
    "# for i in range(10,-10,-1):\n",
    "#     print(i, end = '\\t')\n",
    "\n",
    "# lst = [10,20,30]+ range(10)\n",
    "\n",
    "\n",
    "# print(list(range(0,-11,-1)))\n",
    "# print(set(range(0,-11,-1)))   # Not a sequnce it is mapping\n",
    "\n",
    "# list(range(0, -11, -1))"
   ]
  },
  {
   "cell_type": "code",
   "execution_count": 64,
   "metadata": {},
   "outputs": [],
   "source": [
    "# for i in range(1000000000000000000000000000000000000000000000000000000000000000000):\n",
    "#     print(i)"
   ]
  },
  {
   "cell_type": "code",
   "execution_count": 63,
   "metadata": {},
   "outputs": [],
   "source": [
    "# for i in list(range(1000000000000000000000000000000000000000000000000000000000000000000)):\n",
    "#     print(i)"
   ]
  },
  {
   "cell_type": "code",
   "execution_count": 106,
   "metadata": {},
   "outputs": [
    {
     "name": "stdout",
     "output_type": "stream",
     "text": [
      "P\n",
      "y\n",
      "t\n",
      "h\n",
      "o\n",
      "n\n"
     ]
    }
   ],
   "source": [
    "# a = 'Python'\n",
    "# for i in range(len(a)):\n",
    "#     print(a[i])"
   ]
  },
  {
   "cell_type": "code",
   "execution_count": 105,
   "metadata": {},
   "outputs": [
    {
     "data": {
      "text/plain": [
       "8"
      ]
     },
     "execution_count": 105,
     "metadata": {},
     "output_type": "execute_result"
    }
   ],
   "source": [
    "# range(10)[8]"
   ]
  },
  {
   "cell_type": "code",
   "execution_count": 127,
   "metadata": {},
   "outputs": [
    {
     "name": "stdout",
     "output_type": "stream",
     "text": [
      "frozenset({100, 10, 'Python', 20, (10, 20, 30), 30})\n"
     ]
    },
    {
     "ename": "AttributeError",
     "evalue": "'frozenset' object has no attribute 'add'",
     "output_type": "error",
     "traceback": [
      "\u001b[0;31m---------------------------------------------------------------------------\u001b[0m",
      "\u001b[0;31mAttributeError\u001b[0m                            Traceback (most recent call last)",
      "\u001b[0;32m<ipython-input-127-903c2f69f9b3>\u001b[0m in \u001b[0;36m<module>\u001b[0;34m\u001b[0m\n\u001b[1;32m     23\u001b[0m \u001b[0ms\u001b[0m \u001b[0;34m=\u001b[0m \u001b[0mfrozenset\u001b[0m\u001b[0;34m(\u001b[0m\u001b[0;34m[\u001b[0m\u001b[0;36m10\u001b[0m\u001b[0;34m,\u001b[0m\u001b[0;36m20\u001b[0m\u001b[0;34m,\u001b[0m\u001b[0;36m30\u001b[0m\u001b[0;34m,\u001b[0m \u001b[0;34m'Python'\u001b[0m\u001b[0;34m,\u001b[0m \u001b[0;34m(\u001b[0m\u001b[0;36m10\u001b[0m\u001b[0;34m,\u001b[0m\u001b[0;36m20\u001b[0m\u001b[0;34m,\u001b[0m\u001b[0;36m30\u001b[0m\u001b[0;34m)\u001b[0m\u001b[0;34m,\u001b[0m  \u001b[0;36m10\u001b[0m\u001b[0;34m,\u001b[0m \u001b[0;36m100\u001b[0m\u001b[0;34m,\u001b[0m\u001b[0;36m100\u001b[0m\u001b[0;34m]\u001b[0m\u001b[0;34m)\u001b[0m\u001b[0;34m\u001b[0m\u001b[0;34m\u001b[0m\u001b[0m\n\u001b[1;32m     24\u001b[0m \u001b[0mprint\u001b[0m\u001b[0;34m(\u001b[0m\u001b[0ms\u001b[0m\u001b[0;34m)\u001b[0m\u001b[0;34m\u001b[0m\u001b[0;34m\u001b[0m\u001b[0m\n\u001b[0;32m---> 25\u001b[0;31m \u001b[0ms\u001b[0m\u001b[0;34m.\u001b[0m\u001b[0madd\u001b[0m\u001b[0;34m(\u001b[0m\u001b[0;36m300\u001b[0m\u001b[0;34m)\u001b[0m\u001b[0;34m\u001b[0m\u001b[0;34m\u001b[0m\u001b[0m\n\u001b[0m",
      "\u001b[0;31mAttributeError\u001b[0m: 'frozenset' object has no attribute 'add'"
     ]
    }
   ],
   "source": [
    "# Set & Frozen set - collection of unique elements - duplicates are not allowed - {}\n",
    "# not sequence - mapping - indexing and slicingis not allowed and are not ordered collection of elements\n",
    "# Set is mutable and it's immutable form is frozen set  - Mutable data structute is not allowed inside a mapping\n",
    "# a = {10,20,30, 100,  'Python', (10,20,30)}\n",
    "# print(a, type(a))\n",
    "# # print(a[0])\n",
    "# a.add(100)\n",
    "# print(id(a))\n",
    "# print(a)\n",
    "# a.add(100)\n",
    "# print(id(a))\n",
    "# print(a)\n",
    "\n",
    "# a.remove(100)\n",
    "# print(a)\n",
    "\n",
    "# {[10,20,30], 100}\n",
    "# {10,20,30, {540,70,90}}\n",
    "\n",
    "# b = a.pop()\n",
    "# print(b)\n",
    "\n",
    "# s = frozenset([10,20,30, 'Python', (10,20,30),  10, 100,100])\n",
    "# print(s)\n",
    "# s.add(300)"
   ]
  },
  {
   "cell_type": "code",
   "execution_count": 157,
   "metadata": {},
   "outputs": [
    {
     "name": "stdout",
     "output_type": "stream",
     "text": [
      "101\n",
      "dict_keys(['st1', 'st2'])\n",
      "<class 'str'>\n",
      "dict_items([('name', 'ABC'), ('roll_no', 101), ('marks', 200)])\n"
     ]
    }
   ],
   "source": [
    "# Dictionary - mapping - collection of key value pair - key-value pair is item, Mutable\n",
    "# Key can not be duplicated but value can be duplicated\n",
    "# key can not be mutable type\n",
    "# Not a sequence\n",
    "# d = {1:100, 2:200, 3:300, 'a':'Python', 'b':[10,20,30], 1:200}\n",
    "# print(d)\n",
    "# print(d['a'])\n",
    "# print(d[1])\n",
    "# d[1] = 300\n",
    "# print(d)\n",
    "\n",
    "# name = 'ABC'\n",
    "# roll_no = 101\n",
    "# marks = 200\n",
    "# # lst = [name, roll_no, marks]\n",
    "# # print(lst)\n",
    "# st1 = {'name':name, 'roll_no':roll_no, 'marks':marks}\n",
    "# st2 = {'name':'XYZ', 'roll_no':201, 'marks':150}\n",
    "# d = {'st1':st1, 'st2':st2}\n",
    "# print(d['st1']['roll_no'])\n",
    "# print(d.keys())\n",
    "\n",
    "# print(type(d['st1']['name']))\n",
    "\n",
    "# print(d['st1'].items())"
   ]
  },
  {
   "cell_type": "code",
   "execution_count": 158,
   "metadata": {},
   "outputs": [
    {
     "name": "stdout",
     "output_type": "stream",
     "text": [
      "Enter the no of students for which you want to enter the details: 2\n",
      "Enter name: ABC\n",
      "Enter Roll No: 101\n",
      "Enter Marks: 100\n",
      "Enter name: XYZ\n",
      "Enter Roll No: 102\n",
      "Enter Marks: 200\n",
      "{'name1': 'ABC', 'roll_no1': '101', 'marks1': '100', 'name2': 'XYZ', 'roll_no2': '102', 'marks2': '200'}\n"
     ]
    }
   ],
   "source": [
    "# student_details = {}\n",
    "# no_of_st = int(input('Enter the no of students for which you want to enter the details: '))\n",
    "# for i in range(1, no_of_st+1):\n",
    "#     student_details['name' + str(i)] = input('Enter name: ')\n",
    "#     student_details['roll_no'+ str(i)] = input('Enter Roll No: ')\n",
    "#     student_details['marks'+ str(i)] = input('Enter Marks: ')\n",
    "#     #student_details['s' + str(i)] = st\n",
    "# print(student_details)"
   ]
  },
  {
   "cell_type": "code",
   "execution_count": 169,
   "metadata": {},
   "outputs": [],
   "source": [
    "# Operator\n",
    "\n",
    "# Arithmatic Operator:- +, -, *, / - Float Division, // - Floor Division, % - MOdulo Operator - remainder, ** - exponent\n",
    "# print(10 + 20)\n",
    "# print(20-10)\n",
    "# print(10*20)\n",
    "# print(10/3)  #- Float division - float type - 3.3333333333335, \n",
    "# print(3//10) # Floor Division - Floor value - Quotient - 3\n",
    "# print(11%10)  # Modulo - remainder\n",
    "# print(10**3)   # --> 10 to the power 3\n",
    "# print(pow(10,3))\n",
    "# print(abs(-20+20j))\n",
    "# print(abs(-10))\n",
    "\n",
    "# BODMAS\n",
    "\n",
    "# Floor value - lowest nearest whole integer\n",
    "# ceil value - Highest nearest whole integer"
   ]
  },
  {
   "cell_type": "code",
   "execution_count": 178,
   "metadata": {},
   "outputs": [],
   "source": [
    "# import math\n",
    "# print(math.floor(1.9999999999999))\n",
    "# math.floor(1.01)\n",
    "# math.ceil(1.9)\n",
    "# math.ceil(1.000000001)\n",
    "# math.ceil(10/3)\n",
    "# math.floor(10/3)"
   ]
  },
  {
   "cell_type": "code",
   "execution_count": 199,
   "metadata": {},
   "outputs": [
    {
     "name": "stdout",
     "output_type": "stream",
     "text": [
      "True\n"
     ]
    }
   ],
   "source": [
    "# Special Operators - identity operator and membership operators\n",
    "# Identity operator - is and is not, - checks whether the id's are similar or not and returns boolena value\n",
    "# Membership operators - in and not in - whether subelemnet is avaivle in the data or not an dreturns boolean value\n",
    "\n",
    "# Identity operator 0 - 256\n",
    "# a = 10\n",
    "# b = 10\n",
    "# print(a is b)\n",
    "# print(a is not b) \n",
    "\n",
    "# a = 1000\n",
    "# b = 1000\n",
    "# print(a is b)\n",
    "# print(a is not b) \n",
    "\n",
    "\n",
    "# Membership operator\n",
    "# a = 'This is Python class'\n",
    "# print('T' in a)\n",
    "# print('T' not in a)\n",
    "\n",
    "# print('This' in a)\n",
    "# print('This' not in a)\n",
    "\n",
    "# print('Ts' in a)\n",
    "# print('Ts' not in a)\n",
    "\n",
    "# a = [10,20,30,[100,200], 'Python']\n",
    "# print(10 in a)\n",
    "# print(100 in a)\n",
    "# print(100 in a[3])\n",
    "# print([100,200] in a)\n",
    "# print(100 in a in [100,200])\n",
    "# print(1000 and 20 in a)\n",
    "\n",
    "# d = {1:100, 2:200, 'a': 'Python'}\n",
    "# 1 in d\n",
    "# 'Python' in d\n",
    "\n"
   ]
  },
  {
   "cell_type": "code",
   "execution_count": null,
   "metadata": {},
   "outputs": [],
   "source": [
    "# Bitwise &\n",
    "# 1 & 1  -> 1\n",
    "# 1 & 0  -> 0\n",
    "# 0 & 1  -> 0\n",
    "# 0 & 0  -> 0\n",
    "\n",
    "# Bitwise |\n",
    "# 1 & 1  -> 1\n",
    "# 1 & 0  -> 1\n",
    "# 0 & 1  -> 1\n",
    "# 0 & 0  -> 0\n",
    "\n",
    "# Bitwise ^\n",
    "# 1 & 1  -> 0\n",
    "# 1 & 0  -> 1\n",
    "# 0 & 1  -> 1\n",
    "# 0 & 0  -> 0"
   ]
  },
  {
   "cell_type": "code",
   "execution_count": 222,
   "metadata": {},
   "outputs": [
    {
     "name": "stdout",
     "output_type": "stream",
     "text": [
      "0\n",
      "25\n"
     ]
    }
   ],
   "source": [
    "# Bitwise Operator - Works on bits - on integers ans boolean value not on any other data type- &, |, ^, ~, <<, >>\n",
    "# print(10 & 20)\n",
    "# print(10.20 & 10.20)\n",
    "\n",
    "# print(24 & 25)\n",
    "# print(bin(24))\n",
    "# print(bin(25))\n",
    "# 24  -> 11000\n",
    "# 25  -> 11001\n",
    "# ------------\n",
    "# &      11000\n",
    "\n",
    "# print(10 & 80)\n",
    "# print(bin(10))\n",
    "# print(bin(80))\n",
    "# 10 -> 0001010\n",
    "# 80 -> 1010000\n",
    "# --------------\n",
    "# &.   \n",
    "\n",
    "\n",
    "# print(10 ^ 80)\n",
    "# 10 -> 0001010\n",
    "# 80 -> 1010000\n",
    "# ----------------\n",
    "# a = 0b1011010\n",
    "# print(a)\n",
    "\n",
    "\n",
    "\n",
    "# ~n -> -(n+1)\n",
    "# print(~1)\n",
    "# print(~True)\n",
    "# print(~-9)\n",
    "\n",
    "# print(~10.20)\n",
    "\n",
    "# << -> Left shift and >> -> Right shift\n",
    "# print(100 << 2)\n",
    "# # print(bin(100))\n",
    "# # 0010000\n",
    "# # 100 -> 01000000000000000000000110010000\n",
    "# print(0b110010000)\n",
    "\n",
    "# 0b0010000\n",
    "\n",
    "\n",
    "# print(100>>69)\n",
    "# 00000000000000000000000000011001\n",
    "# print(0b11001)"
   ]
  },
  {
   "cell_type": "code",
   "execution_count": 237,
   "metadata": {},
   "outputs": [
    {
     "name": "stdout",
     "output_type": "stream",
     "text": [
      "False\n"
     ]
    }
   ],
   "source": [
    "# Conparison Operator >, <, >=, <= -> Boolean value, Comparison between different data tupes is not possible\n",
    "# Possible between int and float only\n",
    "\n",
    "# print(10<20)\n",
    "# print(10>20)\n",
    "# print(10<10.20)\n",
    "# print(10>10.20)\n",
    "# print(10<10+20j)\n",
    "\n",
    "# print('A' <= 'A')\n",
    "# print('Ab' <= 'AB')\n",
    "# print(ord('b'))\n",
    "# print(ord('B'))\n",
    "\n",
    "# # print('A' <= 65)# Error\n",
    "\n",
    "# print('Python' < 'python')\n",
    "\n",
    "# print(10<20>5<100>100)"
   ]
  },
  {
   "cell_type": "code",
   "execution_count": 242,
   "metadata": {},
   "outputs": [
    {
     "name": "stdout",
     "output_type": "stream",
     "text": [
      "False\n"
     ]
    }
   ],
   "source": [
    "# Equality Operator:- == and != - used to compare the content\n",
    "# print('Python' == 'Python')\n",
    "# # print('Python' is 'Python')\n",
    "# print('A' == 65)\n",
    "\n",
    "# print(10 ==10 != 20 != 20)\n"
   ]
  },
  {
   "cell_type": "code",
   "execution_count": 254,
   "metadata": {},
   "outputs": [
    {
     "name": "stdout",
     "output_type": "stream",
     "text": [
      "False\n"
     ]
    }
   ],
   "source": [
    "# Logical Operator - and , or , not - operates on the logic - boolean\n",
    "# and \n",
    "# True and True   -> True\n",
    "# True and False  -> False\n",
    "# False and True  -> False\n",
    "# False and False -> False\n",
    "\n",
    "# or \n",
    "# True or True   -> True\n",
    "# True or False  -> True\n",
    "# False or True  -> True\n",
    "# False or False -> False\n",
    "\n",
    "# not\n",
    "# not True -> False\n",
    "# not False -> True\n",
    "\n",
    "# print((10<20) and (10!=20))\n",
    "# print((10>20) and (10!=20))\n",
    "\n",
    "# print(10 and 20)\n",
    "# print(10 and 0)\n",
    "# print(0 and 20)\n",
    "# print(0.0 and 0)\n",
    "\n",
    "\n",
    "# print(10 or 20)\n",
    "# print(10 or 0)\n",
    "# print(0 or 10)\n",
    "# print(0 or 0.0)\n",
    "\n",
    "# print(not True)"
   ]
  },
  {
   "cell_type": "code",
   "execution_count": 255,
   "metadata": {},
   "outputs": [
    {
     "name": "stdout",
     "output_type": "stream",
     "text": [
      "110\n"
     ]
    }
   ],
   "source": [
    "# Assignment Operator\n",
    "# a = 10\n",
    "# Compound assignment operator\n",
    "a = 10\n",
    "# a = a+100\n",
    "print(a)\n",
    "a += 100\n",
    "# -=\n",
    "# *=\n",
    "# /=\n",
    "# //=\n",
    "# %=\n",
    "# **=\n",
    "# &=\n",
    "# |=\n",
    "# ^=\n",
    "# <<=\n",
    "# >>="
   ]
  },
  {
   "cell_type": "code",
   "execution_count": null,
   "metadata": {},
   "outputs": [],
   "source": [
    "# Operator Precedence\n",
    "# ()\n",
    "# **\n",
    "# ~,- Bitwise complement and unary Minus\n",
    "# *,/,%,//\n",
    "# +,-\n",
    "# <<,>>\n",
    "# &\n",
    "# ^\n",
    "# |\n",
    "# >,>=,<,<=,==,!=\n",
    "# =,+=,-=...\n",
    "# is, is not\n",
    "# in, not in\n",
    "# not\n",
    "# and\n",
    "# or"
   ]
  },
  {
   "cell_type": "code",
   "execution_count": 256,
   "metadata": {},
   "outputs": [
    {
     "name": "stdout",
     "output_type": "stream",
     "text": [
      "111\n"
     ]
    }
   ],
   "source": [
    "a=10\n",
    "a += 101\n",
    "print(a)"
   ]
  },
  {
   "cell_type": "code",
   "execution_count": 262,
   "metadata": {},
   "outputs": [
    {
     "name": "stdout",
     "output_type": "stream",
     "text": [
      "<class 'str'>\n",
      "str\n"
     ]
    }
   ],
   "source": [
    "print(type(a))\n",
    "a = str(type(a))\n",
    "print(a[8:11])"
   ]
  },
  {
   "cell_type": "code",
   "execution_count": 263,
   "metadata": {},
   "outputs": [
    {
     "data": {
      "text/plain": [
       "2"
      ]
     },
     "execution_count": 263,
     "metadata": {},
     "output_type": "execute_result"
    }
   ],
   "source": [
    "True + True"
   ]
  }
 ],
 "metadata": {
  "kernelspec": {
   "display_name": "Python 3",
   "language": "python",
   "name": "python3"
  },
  "language_info": {
   "codemirror_mode": {
    "name": "ipython",
    "version": 3
   },
   "file_extension": ".py",
   "mimetype": "text/x-python",
   "name": "python",
   "nbconvert_exporter": "python",
   "pygments_lexer": "ipython3",
   "version": "3.7.3"
  }
 },
 "nbformat": 4,
 "nbformat_minor": 2
}

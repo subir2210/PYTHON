{
 "cells": [
  {
   "cell_type": "markdown",
   "metadata": {},
   "source": [
    "# Loop and string"
   ]
  },
  {
   "cell_type": "code",
   "execution_count": null,
   "metadata": {},
   "outputs": [],
   "source": [
    "# Conditional statement - make decision\n",
    "a = int(input('Enetr First Value: '))\n",
    "b = int(input('Enetr Second Value: '))\n",
    "if a>b:\n",
    "    print('Result is ', a-b)\n",
    "if b>a:\n",
    "    print('Result is ', b-a)\n"
   ]
  },
  {
   "cell_type": "code",
   "execution_count": null,
   "metadata": {},
   "outputs": [],
   "source": [
    "# Conditional statement - make decision\n",
    "a = int(input('Enetr First Value: '))\n",
    "b = int(input('Enetr Second Value: '))\n",
    "if a>b:\n",
    "    print('Result is ', a-b)\n",
    "else:\n",
    "    print('Result is ', b-a)"
   ]
  },
  {
   "cell_type": "code",
   "execution_count": 12,
   "metadata": {},
   "outputs": [
    {
     "name": "stdout",
     "output_type": "stream",
     "text": [
      "Enetr First Value: 10\n",
      "Enetr Second Value: 20\n",
      "Enter the number(1 or 2) for the operation\n",
      "\t1. Addition\n",
      "\t2. Subtraction\n",
      "\t3. Division1\n",
      "30\n",
      "Total Time:  2.37894606590271\n"
     ]
    }
   ],
   "source": [
    "# Conditional statement - make decision\n",
    "import time\n",
    "st_time = time.time()\n",
    "a = int(input('Enetr First Value: '))\n",
    "b = int(input('Enetr Second Value: '))\n",
    "op = int(input(\n",
    "    'Enter the number(1 or 2) for the operation\\n\\t'\n",
    "    '1. Addition\\n\\t'\n",
    "    '2. Subtraction\\n\\t'\n",
    "    '3. Division'\n",
    "))\n",
    "if op == 1:\n",
    "    print(a+b)\n",
    "    \n",
    "elif op == 2:\n",
    "    print(a-b)\n",
    "elif op == 3:\n",
    "    print(a//b)\n",
    "else:\n",
    "    print('Re-run the application.')\n",
    "en_time = time.time()\n",
    "print('Total Time: ', en_time - st_time)"
   ]
  },
  {
   "cell_type": "code",
   "execution_count": 14,
   "metadata": {},
   "outputs": [
    {
     "name": "stdout",
     "output_type": "stream",
     "text": [
      "Enetr First Value: 10\n",
      "Enetr Second Value: 20\n",
      "Enter the number(1 or 2) for the operation\n",
      "\t1. Addition\n",
      "\t2. Subtraction\n",
      "\t3. Multiplication1\n",
      "30\n",
      "Re-run the application.\n",
      "Total Time:  2.3380751609802246\n"
     ]
    }
   ],
   "source": [
    "# Conditional statement - make decision\n",
    "import time \n",
    "st_time = time.time()\n",
    "a = int(input('Enetr First Value: '))\n",
    "b = int(input('Enetr Second Value: '))\n",
    "op = int(input(\n",
    "    'Enter the number(1 or 2) for the operation\\n\\t'\n",
    "    '1. Addition\\n\\t'\n",
    "    '2. Subtraction\\n\\t'\n",
    "    '3. Multiplication'\n",
    "))\n",
    "if op == 1:\n",
    "    print(a+b) \n",
    "# else:\n",
    "if op == 2:\n",
    "    print(a-b)\n",
    "# else:\n",
    "    \n",
    "if op == 3:\n",
    "    print(a*b)\n",
    "else:\n",
    "    print('Re-run the application.')\n",
    "en_time = time.time()\n",
    "print('Total Time: ', en_time - st_time)"
   ]
  },
  {
   "cell_type": "code",
   "execution_count": null,
   "metadata": {},
   "outputs": [],
   "source": [
    "#leap year:- 2012, 1968, 2004, 1200, 1600,2400\n",
    "    #Non-lear year:- 1971, 2006, 1700,1800,1900\n",
    "    \n",
    "#     4, 100, 400\n",
    "a=int(input(\"Enter a year: \"))\n",
    "\n",
    "if a%4==0:\n",
    "    if a%400 == 0:\n",
    "        print(\"Leap Year\")\n",
    "    else:\n",
    "        print(\"Not leap year\")\n",
    "\n",
    "    \n",
    "# if cond:\n",
    "#     stat\n",
    "\n",
    "# if cond:\n",
    "#     stat\n",
    "# if cond:\n",
    "#     stat\n",
    "# else:\n",
    "#     stat\n",
    "# else:\n",
    "#     stat\n",
    "# else:\n",
    "#     stat"
   ]
  },
  {
   "cell_type": "code",
   "execution_count": null,
   "metadata": {},
   "outputs": [],
   "source": [
    "# Loop For loop and while loop\n",
    "# Syntax \n",
    "# for var in seq:\n",
    "#     stat1\n",
    "#     stat2\n",
    "#     stat3"
   ]
  },
  {
   "cell_type": "code",
   "execution_count": 17,
   "metadata": {},
   "outputs": [
    {
     "name": "stdout",
     "output_type": "stream",
     "text": [
      "10\n",
      "<class 'int'>\n",
      "4540180160\n",
      "\n",
      "20\n",
      "<class 'int'>\n",
      "4540180480\n",
      "\n",
      "30\n",
      "<class 'int'>\n",
      "4540180800\n",
      "\n"
     ]
    }
   ],
   "source": [
    "lst = [10,20,30]\n",
    "for i in lst:\n",
    "    print(i)\n",
    "    print(type(i))\n",
    "    print(id(i))\n",
    "    print()\n",
    "    \n",
    "# Iter(), next()"
   ]
  },
  {
   "cell_type": "code",
   "execution_count": 28,
   "metadata": {},
   "outputs": [
    {
     "name": "stdout",
     "output_type": "stream",
     "text": [
      "10\n",
      "<class 'int'>\n",
      "4540180160\n",
      "\n",
      "30\n",
      "<class 'int'>\n",
      "4540180800\n",
      "\n",
      "50\n",
      "<class 'int'>\n",
      "4540181440\n",
      "\n",
      "70\n",
      "<class 'int'>\n",
      "4540182080\n",
      "\n",
      "90\n",
      "<class 'int'>\n",
      "4540182720\n",
      "\n"
     ]
    }
   ],
   "source": [
    "lst = [10,20,30, 40, 50,60, 70,80,90]\n",
    "for i in range(0,len(lst), 2):\n",
    "    print(lst[i])\n",
    "    print(type(lst[i]))\n",
    "    print(id(lst[i]))\n",
    "    print()"
   ]
  },
  {
   "cell_type": "code",
   "execution_count": 29,
   "metadata": {},
   "outputs": [
    {
     "name": "stdout",
     "output_type": "stream",
     "text": [
      "70\n",
      "<class 'int'>\n",
      "4540182080\n",
      "\n",
      "40\n",
      "<class 'int'>\n",
      "4540181120\n",
      "\n",
      "10\n",
      "<class 'int'>\n",
      "4540180160\n",
      "\n",
      "80\n",
      "<class 'int'>\n",
      "4540182400\n",
      "\n",
      "50\n",
      "<class 'int'>\n",
      "4540181440\n",
      "\n",
      "20\n",
      "<class 'int'>\n",
      "4540180480\n",
      "\n",
      "90\n",
      "<class 'int'>\n",
      "4540182720\n",
      "\n",
      "60\n",
      "<class 'int'>\n",
      "4540181760\n",
      "\n",
      "30\n",
      "<class 'int'>\n",
      "4540180800\n",
      "\n"
     ]
    }
   ],
   "source": [
    "set = {10,20,30, 40, 50,60, 70,80,90}\n",
    "for i in set:\n",
    "    print(i)\n",
    "    print(type(i))\n",
    "    print(id(i))\n",
    "    print()"
   ]
  },
  {
   "cell_type": "code",
   "execution_count": 31,
   "metadata": {},
   "outputs": [
    {
     "name": "stdout",
     "output_type": "stream",
     "text": [
      "10\n",
      "<class 'int'>\n",
      "4540180160\n",
      "\n",
      "20\n",
      "<class 'int'>\n",
      "4540180480\n",
      "\n",
      "30\n",
      "<class 'int'>\n",
      "4540180800\n",
      "\n",
      "40\n",
      "<class 'int'>\n",
      "4540181120\n",
      "\n"
     ]
    }
   ],
   "source": [
    "tpl = (10,20,30, 40, 100,50,60, 70,80,90)\n",
    "for i in range(0,len(tpl)):\n",
    "    if tpl[i] == 100:\n",
    "        break                        # Come out of the loop by not executing the further code\n",
    "    else:\n",
    "        print(tpl[i])\n",
    "        print(type(tpl[i]))\n",
    "        print(id(tpl[i]))\n",
    "        print()"
   ]
  },
  {
   "cell_type": "code",
   "execution_count": 36,
   "metadata": {},
   "outputs": [
    {
     "name": "stdout",
     "output_type": "stream",
     "text": [
      "1\n",
      "100\n",
      "\n",
      "2\n",
      "200\n",
      "\n",
      "a\n",
      "Python\n",
      "\n",
      "t\n",
      "(10, 20, 30)\n",
      "\n",
      "l\n",
      "[100, 200, 300]\n",
      "\n"
     ]
    }
   ],
   "source": [
    "d = {1:100, 2:200, 'a':'Python', 't':(10,20,30), 'l': [100,200,300]}\n",
    "for i in d:\n",
    "    print(i)\n",
    "    print(d[i])\n",
    "    print()"
   ]
  },
  {
   "cell_type": "code",
   "execution_count": 37,
   "metadata": {},
   "outputs": [
    {
     "name": "stdout",
     "output_type": "stream",
     "text": [
      "10\n",
      "20\n",
      "30\n"
     ]
    }
   ],
   "source": [
    "for i in [10,20,30]:\n",
    "    print(i)"
   ]
  },
  {
   "cell_type": "code",
   "execution_count": 38,
   "metadata": {},
   "outputs": [
    {
     "name": "stdout",
     "output_type": "stream",
     "text": [
      "P\n",
      "y\n",
      "t\n",
      "h\n",
      "o\n",
      "n\n"
     ]
    }
   ],
   "source": [
    "for i in 'Python':\n",
    "    print(i)"
   ]
  },
  {
   "cell_type": "code",
   "execution_count": 39,
   "metadata": {},
   "outputs": [
    {
     "ename": "TypeError",
     "evalue": "'int' object is not iterable",
     "output_type": "error",
     "traceback": [
      "\u001b[0;31m---------------------------------------------------------------------------\u001b[0m",
      "\u001b[0;31mTypeError\u001b[0m                                 Traceback (most recent call last)",
      "\u001b[0;32m<ipython-input-39-665a8c31cf25>\u001b[0m in \u001b[0;36m<module>\u001b[0;34m\u001b[0m\n\u001b[0;32m----> 1\u001b[0;31m \u001b[0;32mfor\u001b[0m \u001b[0mi\u001b[0m \u001b[0;32min\u001b[0m \u001b[0;36m10\u001b[0m\u001b[0;34m:\u001b[0m\u001b[0;34m\u001b[0m\u001b[0;34m\u001b[0m\u001b[0m\n\u001b[0m\u001b[1;32m      2\u001b[0m     \u001b[0mprint\u001b[0m\u001b[0;34m(\u001b[0m\u001b[0mi\u001b[0m\u001b[0;34m)\u001b[0m\u001b[0;34m\u001b[0m\u001b[0;34m\u001b[0m\u001b[0m\n",
      "\u001b[0;31mTypeError\u001b[0m: 'int' object is not iterable"
     ]
    }
   ],
   "source": [
    "for i in 10:\n",
    "    print(i)"
   ]
  },
  {
   "cell_type": "code",
   "execution_count": 27,
   "metadata": {},
   "outputs": [
    {
     "name": "stdout",
     "output_type": "stream",
     "text": [
      "['__class__', '__delattr__', '__dir__', '__doc__', '__eq__', '__format__', '__ge__', '__getattribute__', '__gt__', '__hash__', '__init__', '__init_subclass__', '__iter__', '__le__', '__length_hint__', '__lt__', '__ne__', '__new__', '__next__', '__reduce__', '__reduce_ex__', '__repr__', '__setattr__', '__setstate__', '__sizeof__', '__str__', '__subclasshook__']\n",
      "<class 'list_iterator'>\n",
      "10\n",
      "20\n",
      "30\n"
     ]
    },
    {
     "ename": "StopIteration",
     "evalue": "",
     "output_type": "error",
     "traceback": [
      "\u001b[0;31m---------------------------------------------------------------------------\u001b[0m",
      "\u001b[0;31mStopIteration\u001b[0m                             Traceback (most recent call last)",
      "\u001b[0;32m<ipython-input-27-0c2c2c7e632b>\u001b[0m in \u001b[0;36m<module>\u001b[0;34m\u001b[0m\n\u001b[1;32m      6\u001b[0m \u001b[0mprint\u001b[0m\u001b[0;34m(\u001b[0m\u001b[0mnext\u001b[0m\u001b[0;34m(\u001b[0m\u001b[0ma\u001b[0m\u001b[0;34m)\u001b[0m\u001b[0;34m)\u001b[0m\u001b[0;34m\u001b[0m\u001b[0;34m\u001b[0m\u001b[0m\n\u001b[1;32m      7\u001b[0m \u001b[0mprint\u001b[0m\u001b[0;34m(\u001b[0m\u001b[0mnext\u001b[0m\u001b[0;34m(\u001b[0m\u001b[0ma\u001b[0m\u001b[0;34m)\u001b[0m\u001b[0;34m)\u001b[0m\u001b[0;34m\u001b[0m\u001b[0;34m\u001b[0m\u001b[0m\n\u001b[0;32m----> 8\u001b[0;31m \u001b[0mprint\u001b[0m\u001b[0;34m(\u001b[0m\u001b[0mnext\u001b[0m\u001b[0;34m(\u001b[0m\u001b[0ma\u001b[0m\u001b[0;34m)\u001b[0m\u001b[0;34m)\u001b[0m\u001b[0;34m\u001b[0m\u001b[0;34m\u001b[0m\u001b[0m\n\u001b[0m",
      "\u001b[0;31mStopIteration\u001b[0m: "
     ]
    }
   ],
   "source": [
    "# print(lst)\n",
    "a = lst.__iter__()\n",
    "# print(dir(a))\n",
    "# print(type(a))\n",
    "print(next(a))\n",
    "print(next(a))\n",
    "print(next(a))\n",
    "print(next(a))"
   ]
  },
  {
   "cell_type": "code",
   "execution_count": 43,
   "metadata": {},
   "outputs": [
    {
     "name": "stdout",
     "output_type": "stream",
     "text": [
      "10\n",
      "<class 'int'>\n",
      "4540180160\n",
      "\n",
      "20\n",
      "<class 'int'>\n",
      "4540180480\n",
      "\n",
      "30\n",
      "<class 'int'>\n",
      "4540180800\n",
      "\n",
      "40\n",
      "<class 'int'>\n",
      "4540181120\n",
      "\n",
      "50\n",
      "<class 'int'>\n",
      "4540181440\n",
      "\n",
      "60\n",
      "<class 'int'>\n",
      "4540181760\n",
      "\n",
      "70\n",
      "<class 'int'>\n",
      "4540182080\n",
      "\n",
      "80\n",
      "<class 'int'>\n",
      "4540182400\n",
      "\n",
      "90\n",
      "<class 'int'>\n",
      "4540182720\n",
      "\n"
     ]
    }
   ],
   "source": [
    "tpl = (10,20,30, 40, 100,50,60, 100,70,80,90)\n",
    "for i in range(0,len(tpl)):\n",
    "    if tpl[i] == 100:\n",
    "        continue                                     # used to skip the current execution\n",
    "        \n",
    "    else:\n",
    "        print(tpl[i])\n",
    "        print(type(tpl[i]))\n",
    "        print(id(tpl[i]))\n",
    "        print()"
   ]
  },
  {
   "cell_type": "code",
   "execution_count": 48,
   "metadata": {},
   "outputs": [
    {
     "ename": "TypeError",
     "evalue": "object of type 'int' has no len()",
     "output_type": "error",
     "traceback": [
      "\u001b[0;31m---------------------------------------------------------------------------\u001b[0m",
      "\u001b[0;31mTypeError\u001b[0m                                 Traceback (most recent call last)",
      "\u001b[0;32m<ipython-input-48-14a1fd68dde5>\u001b[0m in \u001b[0;36m<module>\u001b[0;34m\u001b[0m\n\u001b[1;32m      6\u001b[0m \u001b[0mlst\u001b[0m \u001b[0;34m=\u001b[0m \u001b[0;36m10\u001b[0m\u001b[0;34m\u001b[0m\u001b[0;34m\u001b[0m\u001b[0m\n\u001b[1;32m      7\u001b[0m \u001b[0mind\u001b[0m \u001b[0;34m=\u001b[0m \u001b[0;36m0\u001b[0m\u001b[0;34m\u001b[0m\u001b[0;34m\u001b[0m\u001b[0m\n\u001b[0;32m----> 8\u001b[0;31m \u001b[0;32mwhile\u001b[0m \u001b[0mind\u001b[0m \u001b[0;34m<\u001b[0m \u001b[0mlen\u001b[0m\u001b[0;34m(\u001b[0m\u001b[0mlst\u001b[0m\u001b[0;34m)\u001b[0m\u001b[0;34m:\u001b[0m\u001b[0;34m\u001b[0m\u001b[0;34m\u001b[0m\u001b[0m\n\u001b[0m\u001b[1;32m      9\u001b[0m     \u001b[0mprint\u001b[0m\u001b[0;34m(\u001b[0m\u001b[0mlst\u001b[0m\u001b[0;34m[\u001b[0m\u001b[0mind\u001b[0m\u001b[0;34m]\u001b[0m\u001b[0;34m)\u001b[0m\u001b[0;34m\u001b[0m\u001b[0;34m\u001b[0m\u001b[0m\n\u001b[1;32m     10\u001b[0m     \u001b[0mind\u001b[0m \u001b[0;34m+=\u001b[0m\u001b[0;36m1\u001b[0m\u001b[0;34m\u001b[0m\u001b[0;34m\u001b[0m\u001b[0m\n",
      "\u001b[0;31mTypeError\u001b[0m: object of type 'int' has no len()"
     ]
    }
   ],
   "source": [
    "# syntax while - till a condition si satisfied\n",
    "# initilization\n",
    "# condition checking\n",
    "# incerement or decerement\n",
    "\n",
    "lst = 10\n",
    "ind = 0\n",
    "while ind < len(lst):\n",
    "    print(lst[ind])\n",
    "    ind +=1"
   ]
  },
  {
   "cell_type": "code",
   "execution_count": 54,
   "metadata": {},
   "outputs": [
    {
     "name": "stdout",
     "output_type": "stream",
     "text": [
      "6\n"
     ]
    }
   ],
   "source": [
    "# eval('[10,20,30]')\n",
    "# print(10+20)\n",
    "\n",
    "a = 'python'\n",
    "b = eval('a')\n",
    "print(len(b))"
   ]
  },
  {
   "cell_type": "code",
   "execution_count": 62,
   "metadata": {},
   "outputs": [
    {
     "name": "stdout",
     "output_type": "stream",
     "text": [
      "Enter some expresssion: 10\n",
      "10 <class 'int'>\n"
     ]
    }
   ],
   "source": [
    "a= eval(input('Enter some expresssion: '))\n",
    "print(a, type(a))"
   ]
  },
  {
   "cell_type": "code",
   "execution_count": 65,
   "metadata": {},
   "outputs": [
    {
     "name": "stdout",
     "output_type": "stream",
     "text": [
      "Enter a list[10,20,30,40,50,60,70]\n",
      "20\n",
      "40\n",
      "60\n"
     ]
    }
   ],
   "source": [
    "lst = eval(input(\"Enter a list\"))\n",
    "# print(type(lst))\n",
    "# print(lst)\n",
    "for i in range(1,len(lst),2):\n",
    "    print(lst[i])\n",
    "    #print(lst)"
   ]
  },
  {
   "cell_type": "code",
   "execution_count": 66,
   "metadata": {},
   "outputs": [
    {
     "name": "stdout",
     "output_type": "stream",
     "text": [
      "55\n"
     ]
    }
   ],
   "source": [
    "str = 'Write a Python program to find the length of the my_str'\n",
    "l = 0\n",
    "for i in str:\n",
    "    l = l + 1\n",
    "print(l)"
   ]
  },
  {
   "cell_type": "code",
   "execution_count": 70,
   "metadata": {},
   "outputs": [
    {
     "name": "stdout",
     "output_type": "stream",
     "text": [
      "p\n",
      "p\n",
      "p\n",
      "p\n",
      "p\n",
      "p\n",
      "p\n",
      "p\n"
     ]
    }
   ],
   "source": [
    "my_str='peter piper picked a peck of pickled peppers.'\n",
    "\n",
    "for i in range(0,len(my_str)):\n",
    "    if my_str[i]==\"p\":\n",
    "        print(i)"
   ]
  },
  {
   "cell_type": "code",
   "execution_count": 84,
   "metadata": {},
   "outputs": [
    {
     "name": "stdout",
     "output_type": "stream",
     "text": [
      "['peter', 'piper', 'picked', 'a', 'peck', 'of', 'pickled', 'peppers']\n",
      "peppers pickled of peck a picked piper peter \n"
     ]
    }
   ],
   "source": [
    "#Write a python program to find below output using loop:-\n",
    "\n",
    "#Input:- 'peter piper picked a peck of pickled peppers.'\n",
    "#Output:- 'peppers pickled of peck a picked piper peter'\n",
    "\n",
    "my_str = 'peter piper picked a peck of pickled peppers.'\n",
    "out_lst = []\n",
    "out_str = ''\n",
    "for i in my_str:\n",
    "    if i == ' ' or i == '.':\n",
    "        out_lst.append(out_str)\n",
    "        out_str = ''\n",
    "    else:\n",
    "        out_str += i\n",
    "print(out_lst)\n",
    "# rev_lst = []\n",
    "final_str = ''\n",
    "for i in range(-1, -(len(out_lst)+1), -1):\n",
    "#     rev_lst.append(out_lst[i])\n",
    "    if i == -len(my_str):\n",
    "        final_str = final_str + out_lst[i]\n",
    "    else:\n",
    "        final_str = final_str  + out_lst[i] + \" \"\n",
    "\n",
    "# final_str = ''\n",
    "# for i in rev_lst:\n",
    "#     final_str = final_str + ' ' + i\n",
    "print(final_str)"
   ]
  },
  {
   "cell_type": "code",
   "execution_count": 73,
   "metadata": {},
   "outputs": [
    {
     "name": "stdout",
     "output_type": "stream",
     "text": [
      "['peter', 'piper', 'picked', 'a', 'peck', 'of', 'pickled', 'peppers']\n"
     ]
    }
   ],
   "source": [
    "#Write a python program to find below output using loop:-\n",
    "\n",
    "#Input:- 'peter piper picked a peck of pickled peppers.'\n",
    "#Output:- ['peter', 'piper', 'picked', 'a', 'peck', 'of', 'pickled', 'peppers']\n",
    "\n",
    "my_str = 'peter piper picked a peck of pickled peppers.'\n",
    "out_lst = []\n",
    "out_str = ''\n",
    "for i in my_str:\n",
    "    if i == ' ' or i == '.':\n",
    "        out_lst.append(out_str)\n",
    "        out_str = ''\n",
    "    else:\n",
    "        out_str += i\n",
    "print(out_lst)"
   ]
  },
  {
   "cell_type": "markdown",
   "metadata": {},
   "source": [
    "# String methods"
   ]
  },
  {
   "cell_type": "code",
   "execution_count": 140,
   "metadata": {},
   "outputs": [
    {
     "name": "stdout",
     "output_type": "stream",
     "text": [
      "PETER PIPER PICKED A PECK OF PICKLED PEPPERS.\n",
      "peter piper picked a peck of pickled peppers.\n",
      "True\n",
      "False\n"
     ]
    }
   ],
   "source": [
    "# print(dir(str))\n",
    "# 'center',  'encode',  'expandtabs',  'format', 'format_map', \n",
    "#  'ljust',  'maketrans', 'partition', \n",
    "#  'rjust', 'rpartition',  'splitlines', \n",
    "#  'translate', 'zfill'\n",
    "\n",
    "# \n",
    "\n",
    "# str = 'Pythonisgo'\n",
    "# str.center(20, '*')\n",
    "\n",
    "# import keyword\n",
    "# print(keyword.kwlist)\n",
    "\n",
    "\n",
    "# my_str = 'peter piper picked a peck of pickled peppers.'\n",
    "# print(my_str.upper().lower())\n",
    "# print(my_str.upper().casefold())\n",
    "# print(my_str.capitalize())\n",
    "# print(my_str.title().istitle())\n",
    "# print(my_str.upper().lower().islower())\n",
    "# print(my_str.upper().isupper())\n",
    "\n",
    "# 'isalnum', 'isalpha', 'isascii', 'isdecimal', 'isdigit', 'isnumeric', \n",
    "# 'isprintable', 'isspace',\n",
    "\n",
    "# print('python378'.isalnum())\n",
    "# print('python'.isalpha())\n",
    "# print('This is Python'.isascii())\n",
    "\n",
    "# print('0b1010'.isdecimal())\n",
    "# print('10'.isdecimal())\n",
    "# print('0b1010'.isdigit())\n",
    "# print('10'.isdigit())\n",
    "# print('0b1010'.isnumeric())\n",
    "# print('10'.isnumeric())\n",
    "\n",
    "# a = '0b1010'\n",
    "# isnumeric()\n",
    "\n",
    "# my_str = \"der Fluß\"\n",
    "# print(my_str.lower())\n",
    "# print(my_str.casefold())\n",
    "\n",
    "# a = 'This is \\n python class'\n",
    "# print(a)\n",
    "# print(a.isprintable())\n",
    "# b = r'This is \\n python class'\n",
    "# print(b)\n",
    "# print(b.isprintable())\n",
    "\n",
    "# print('\\tn'.isspace())\n",
    "\n",
    "# print('var1'. isidentifier())\n",
    "# print('12var1'. isidentifier())\n",
    "\n",
    "\n",
    "\n",
    "# swapcase, startswith, endswith\n",
    "# print(my_str.swapcase())\n",
    "# print(my_str)\n",
    "# print(my_str.startswith('peter'))\n",
    "# print(my_str.endswith('eers.'))"
   ]
  },
  {
   "cell_type": "code",
   "execution_count": 144,
   "metadata": {
    "scrolled": true
   },
   "outputs": [
    {
     "name": "stdout",
     "output_type": "stream",
     "text": [
      "This is Python     class\n",
      "This is Python     class            \n",
      "      This is Python     class\n"
     ]
    }
   ],
   "source": [
    "\n",
    "\n",
    "\n",
    "my_str = '      This is Python     class            '\n",
    "# print(my_str.strip())\n",
    "# print(my_str.lstrip())\n",
    "# print(my_str.rstrip())"
   ]
  },
  {
   "cell_type": "code",
   "execution_count": 148,
   "metadata": {},
   "outputs": [
    {
     "name": "stdout",
     "output_type": "stream",
     "text": [
      "46\n"
     ]
    }
   ],
   "source": [
    "my_str = 'peter piper picked a peck of pickled peppers.'\n",
    "print(my_str.count(''))"
   ]
  },
  {
   "cell_type": "code",
   "execution_count": 158,
   "metadata": {},
   "outputs": [
    {
     "name": "stdout",
     "output_type": "stream",
     "text": [
      "40\n",
      "40\n"
     ]
    }
   ],
   "source": [
    "# find', 'index', 'rfind', 'rindex',\n",
    "my_str = 'peter piper picked a peck of pickled peppers.'\n",
    "# print(my_str.find('pe', 5, 7))\n",
    "# print(my_str.index('pe', 9))\n",
    "\n",
    "# print(my_str.find('pez', 5))\n",
    "# print(my_str.index('pez', 9))\n",
    "\n",
    "print(my_str.rfind('pe'))\n",
    "print(my_str.rindex('pe'))"
   ]
  },
  {
   "cell_type": "code",
   "execution_count": 165,
   "metadata": {},
   "outputs": [
    {
     "name": "stdout",
     "output_type": "stream",
     "text": [
      "peter piper picked a peck of pickled peppers.\n",
      "qeter qiqer qicked a qeck of pickled peppers.\n",
      "peter piper picked a peck of pickled peppers.\n"
     ]
    }
   ],
   "source": [
    "# 'replace', \n",
    "# print(my_str)\n",
    "# print(my_str.replace('p', 'q', 5))\n",
    "# print(my_str)"
   ]
  },
  {
   "cell_type": "code",
   "execution_count": 177,
   "metadata": {},
   "outputs": [
    {
     "name": "stdout",
     "output_type": "stream",
     "text": [
      "['peter', 'piper', 'picked', 'a', 'peck', 'of', 'pickled', 'peppers.']\n",
      "peppers.+pickled+of+peck+a+picked+piper+peter\n"
     ]
    }
   ],
   "source": [
    "#  'join', \n",
    "# 'rsplit', 'split', \n",
    "\n",
    "print(my_str.split())\n",
    "print('+'.join(my_str.split()[::-1]))\n"
   ]
  },
  {
   "cell_type": "code",
   "execution_count": 178,
   "metadata": {},
   "outputs": [
    {
     "name": "stdout",
     "output_type": "stream",
     "text": [
      "20\n"
     ]
    }
   ],
   "source": [
    "# print(10+(10*32)//2**5&20+(~(-10))<<2)\n",
    "# 10+320//2**5&20+9<<2\n",
    "# 10+10&20+9<<2\n",
    "# 20&29<<2"
   ]
  },
  {
   "cell_type": "code",
   "execution_count": 180,
   "metadata": {},
   "outputs": [
    {
     "name": "stdout",
     "output_type": "stream",
     "text": [
      "40.300000000000004\n"
     ]
    }
   ],
   "source": [
    "a=37.2\n",
    "b=3.1\n",
    "print(a+b)\n",
    "\n"
   ]
  },
  {
   "cell_type": "code",
   "execution_count": 186,
   "metadata": {},
   "outputs": [
    {
     "name": "stdout",
     "output_type": "stream",
     "text": [
      "True\n",
      "['peterpiperpickedapeckofpickledpeppers']\n",
      "peterpiperpickedapeckofpickledpeppers\n"
     ]
    }
   ],
   "source": [
    "a = 'peterpiperpickedapeckofpickledpeppers'\n",
    "b = 'peterpiperpickedapeckofpickledpeppers'\n",
    "print(a is b)\n",
    "\n",
    "print(a.split())\n",
    "b = a.split()\n",
    "print('+'.join(b[::-1]))\n"
   ]
  },
  {
   "cell_type": "code",
   "execution_count": null,
   "metadata": {},
   "outputs": [],
   "source": [
    "# mapping - set, dictioanry\n",
    "None, intgeres"
   ]
  }
 ],
 "metadata": {
  "kernelspec": {
   "display_name": "Python 3",
   "language": "python",
   "name": "python3"
  },
  "language_info": {
   "codemirror_mode": {
    "name": "ipython",
    "version": 3
   },
   "file_extension": ".py",
   "mimetype": "text/x-python",
   "name": "python",
   "nbconvert_exporter": "python",
   "pygments_lexer": "ipython3",
   "version": "3.7.3"
  }
 },
 "nbformat": 4,
 "nbformat_minor": 2
}

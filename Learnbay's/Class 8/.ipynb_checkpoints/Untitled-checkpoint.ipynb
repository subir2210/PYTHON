{
 "cells": [
  {
   "cell_type": "code",
   "execution_count": null,
   "metadata": {},
   "outputs": [],
   "source": [
    "# lst = []\n",
    "# lst = list()\n",
    "# print(id(lst))\n",
    "# print(type(lst))"
   ]
  },
  {
   "cell_type": "code",
   "execution_count": null,
   "metadata": {},
   "outputs": [],
   "source": [
    "# lst = []\n",
    "# lst1 = []\n",
    "# print(id(lst))\n",
    "# print(id(lst1))"
   ]
  },
  {
   "cell_type": "code",
   "execution_count": null,
   "metadata": {},
   "outputs": [],
   "source": [
    "# lst = [10,20]\n",
    "# print(type(lst))\n",
    "# print(lst.count(20))"
   ]
  },
  {
   "cell_type": "code",
   "execution_count": null,
   "metadata": {
    "scrolled": true
   },
   "outputs": [],
   "source": [
    "# lst = [10,20,30,10.20, 10+20j, 'Python', [1000,2000,30,40, [5000,6000,[0,1,2]]], (10,20,30), {10,20,30}]\n",
    "# # print( 20 in lst)\n",
    "# # print('Python' in lst)\n",
    "# print(6000 in lst[6][4])\n",
    "# print(1 in lst[6][4][2][0:2:])\n",
    "# print(lst[6:])\n",
    "# print(1 in lst[6][-1][-1])\n",
    "# print(lst[6][1])\n",
    "# lst[6][2:4]\n",
    "# # slice(lst)"
   ]
  },
  {
   "cell_type": "code",
   "execution_count": 3,
   "metadata": {},
   "outputs": [],
   "source": [
    "# lst = list(range(10))\n",
    "# lst\n",
    "# lst = list((0,0.0))\n",
    "# lst\n",
    "# lst = list({10,20,30,40, 50})\n",
    "# lst\n",
    "# lst = list(\"('Python','class')\")\n",
    "# lst\n",
    "# lst = list('[10,20,30,40]')\n",
    "# lst\n",
    "# Using eval() function\n",
    "# lst = eval(input('Enter a list: '))\n",
    "# type(lst)\n",
    "\n",
    "# a = int(input('Enetr a number: '))\n",
    "# print(a, type(a))\n",
    "\n",
    "# lst = list(input('Enter a list: '))\n",
    "# print(lst, type(lst))"
   ]
  },
  {
   "cell_type": "code",
   "execution_count": 6,
   "metadata": {},
   "outputs": [
    {
     "name": "stdout",
     "output_type": "stream",
     "text": [
      "['This', 'is', 'Python', 'class', 'at', 'Learnbay']\n",
      "<class 'list'>\n"
     ]
    }
   ],
   "source": [
    "s = 'This is Python class at Learnbay'\n",
    "print(s.split())\n",
    "print(type(s.split()))"
   ]
  },
  {
   "cell_type": "code",
   "execution_count": 2,
   "metadata": {},
   "outputs": [
    {
     "name": "stdout",
     "output_type": "stream",
     "text": [
      "['In', 'Out', '_', '__', '___', '__builtin__', '__builtins__', '__doc__', '__loader__', '__name__', '__package__', '__spec__', '_dh', '_i', '_i1', '_i2', '_ih', '_ii', '_iii', '_oh', 'exit', 'get_ipython', 'quit']\n"
     ]
    }
   ],
   "source": [
    "print(dir())"
   ]
  },
  {
   "cell_type": "code",
   "execution_count": 11,
   "metadata": {
    "scrolled": true
   },
   "outputs": [
    {
     "name": "stdout",
     "output_type": "stream",
     "text": [
      "102631784\n",
      "85894608\n",
      "[10, 20, 30, 10.2, (10+20j), 'Python', [10, 20, 30, 40], (10, 20, 30), {10, 20, 30}, '10']\n",
      "85894608\n",
      "None\n",
      "[10, 20, 30, 10.2, (10+20j), 'Python', {1: 100, 2: 200, 'a': 'Python'}, [10, 20, 30, 40], (10, 20, 30), {10, 20, 30}, '10']\n",
      "85894608\n"
     ]
    }
   ],
   "source": [
    "lst = [10,20,30,10.20, 10+20j, 'Python', [10,20,30,40], (10,20,30), {10,20,30}]\n",
    "print(id(lst))\n",
    "lst = [10,10.20, 10+20j, 'Python', [10,20,30,40], (10,20,30), {10,20,30},{1: 100, 2: 200, 'a': 'Python'}]\n",
    "print(id(lst))\n",
    "# if you want to add something at the end of the list asan element\n",
    "lst.append('10')  # Returns None\n",
    "print(lst)\n",
    "print(id(lst))\n",
    "print(lst.insert(6, {1:100, 2:200, 'a':'Python'}))\n",
    "print(lst)\n",
    "print(id(lst))"
   ]
  },
  {
   "cell_type": "code",
   "execution_count": 35,
   "metadata": {},
   "outputs": [
    {
     "name": "stdout",
     "output_type": "stream",
     "text": [
      "22571728\n",
      "[1, 'a']\n"
     ]
    }
   ],
   "source": [
    "lst = [10,10.20,10+20j, 'Python', [10,20,30,40], (10,20,30), {10,20,30},{1: 100,'a': 'Python'}]\n",
    "print(id(lst))\n",
    "# lst1 = [1000, 2000,3000,4000]\n",
    "# lst2 = lst+lst1\n",
    "# # print(lst)\n",
    "# # print(lst1)\n",
    "# print(lst2)\n",
    "# print(lst.extend(lst1[2:]))\n",
    "# print(id(lst))\n",
    "# print(lst)\n",
    "# print(lst1)\n",
    "\n",
    "\n",
    "# print([10,20,30] < [10,20,31])\n",
    "\n",
    "\n",
    "# Remove an element from alist\n",
    "# 'pop', 'remove', clear()\n",
    "# print(lst.pop())\n",
    "# print(id(lst))\n",
    "# print(lst.pop(2))\n",
    "# print(lst)\n",
    "# print(id(lst))\n",
    "\n",
    "# print(lst.remove(10+20j))\n",
    "# print(lst)\n",
    "\n",
    "# print(lst.clear())\n",
    "# print(lst)\n",
    "# print(id(lst))\n",
    "\n",
    "# del lst\n",
    "# print(lst)\n",
    "\n",
    "#pop is like extracting a specific list element out into a new variable? with out modifying the original list value.\n",
    "a = lst.pop()\n",
    "print(list(a))\n",
    "\n",
    "# count(), index()\n",
    "a = [10,20,100,10,200,10,30,10,100,20,10]\n",
    "# print(a.count(10))\n",
    "# print(a.index(100,-4))\n",
    "\n",
    "# 'reverse', 'sort'\n",
    "# lst.reverse()\n",
    "# print(lst)\n",
    "\n",
    "# a.sort(reverse = True)   # Default soring is ascending order\n",
    "# print(a)\n",
    "\n",
    "# lst = [10,20,30,10.20, 10+20j, 'Python', [10,20,30,40], (10,20,30), {10,20,30}]\n",
    "# print(lst.sort())\n",
    "\n",
    "# b = list('Python Class')\n",
    "# print(b)\n",
    "# print(b.sort())\n",
    "# print(b)\n",
    "\n",
    "\n",
    "# Shallow copy and aliasing\n",
    "# lst = [10,20,30,40]\n",
    "# lst1 = lst        # Aliasing\n",
    "# print(id(lst), id(lst1))\n",
    "# # lst1[0] = 100\n",
    "# # print(lst, lst1)\n",
    "# a=[10,20,30]\n",
    "# b=a\n",
    "# a.append(10)\n",
    "# print(a,b)\n",
    "\n",
    "# # Create a shallow copy - using slicing or copy\n",
    "# lst2 = lst[:]\n",
    "# print(id(lst), id(lst2))\n",
    "# print(lst is lst2)\n",
    "# lst2[0] = 100\n",
    "# print(lst, lst2)\n",
    "\n",
    "# lst3 = lst.copy()\n",
    "# print(id(lst), id(lst3))\n",
    "# print(lst is lst3)\n",
    "\n",
    "\n",
    "# print(id(lst))"
   ]
  },
  {
   "cell_type": "code",
   "execution_count": null,
   "metadata": {},
   "outputs": [],
   "source": []
  }
 ],
 "metadata": {
  "kernelspec": {
   "display_name": "Python 3",
   "language": "python",
   "name": "python3"
  },
  "language_info": {
   "codemirror_mode": {
    "name": "ipython",
    "version": 3
   },
   "file_extension": ".py",
   "mimetype": "text/x-python",
   "name": "python",
   "nbconvert_exporter": "python",
   "pygments_lexer": "ipython3",
   "version": "3.7.6"
  }
 },
 "nbformat": 4,
 "nbformat_minor": 4
}

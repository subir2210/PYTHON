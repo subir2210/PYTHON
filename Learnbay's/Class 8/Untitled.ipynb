{
 "cells": [
  {
   "cell_type": "code",
   "execution_count": null,
   "metadata": {},
   "outputs": [],
   "source": [
    "# lst = []\n",
    "# lst = list()\n",
    "# print(id(lst))\n",
    "# print(type(lst))"
   ]
  },
  {
   "cell_type": "code",
   "execution_count": null,
   "metadata": {},
   "outputs": [],
   "source": [
    "# lst = []\n",
    "# lst1 = []\n",
    "# print(id(lst))\n",
    "# print(id(lst1))"
   ]
  },
  {
   "cell_type": "code",
   "execution_count": null,
   "metadata": {},
   "outputs": [],
   "source": [
    "# lst = [10,20]\n",
    "# print(type(lst))\n",
    "# print(lst.count(20))"
   ]
  },
  {
   "cell_type": "code",
   "execution_count": null,
   "metadata": {
    "scrolled": true
   },
   "outputs": [],
   "source": [
    "# lst = [10,20,30,10.20, 10+20j, 'Python', [1000,2000,30,40, [5000,6000,[0,1,2]]], (10,20,30), {10,20,30}]\n",
    "# # print( 20 in lst)\n",
    "# # print('Python' in lst)\n",
    "# print(6000 in lst[6][4])\n",
    "# print(1 in lst[6][4][2][0:2:])\n",
    "# print(lst[6:])\n",
    "# print(1 in lst[6][-1][-1])\n",
    "# print(lst[6][1])\n",
    "# lst[6][2:4]\n",
    "# # slice(lst)"
   ]
  },
  {
   "cell_type": "code",
   "execution_count": 3,
   "metadata": {},
   "outputs": [],
   "source": [
    "# lst = list(range(10))\n",
    "# lst\n",
    "# lst = list((0,0.0))\n",
    "# lst\n",
    "# lst = list({10,20,30,40, 50})\n",
    "# lst\n",
    "# lst = list(\"('Python','class')\")\n",
    "# lst\n",
    "# lst = list('[10,20,30,40]')\n",
    "# lst\n",
    "# Using eval() function\n",
    "# lst = eval(input('Enter a list: '))\n",
    "# type(lst)\n",
    "\n",
    "# a = int(input('Enetr a number: '))\n",
    "# print(a, type(a))\n",
    "\n",
    "# lst = list(input('Enter a list: '))\n",
    "# print(lst, type(lst))"
   ]
  },
  {
   "cell_type": "code",
   "execution_count": 6,
   "metadata": {},
   "outputs": [
    {
     "name": "stdout",
     "output_type": "stream",
     "text": [
      "['This', 'is', 'Python', 'class', 'at', 'Learnbay']\n",
      "<class 'list'>\n"
     ]
    }
   ],
   "source": [
    "s = 'This is Python class at Learnbay'\n",
    "print(s.split())\n",
    "print(type(s.split()))"
   ]
  },
  {
   "cell_type": "code",
   "execution_count": 2,
   "metadata": {},
   "outputs": [
    {
     "name": "stdout",
     "output_type": "stream",
     "text": [
      "['In', 'Out', '_', '__', '___', '__builtin__', '__builtins__', '__doc__', '__loader__', '__name__', '__package__', '__spec__', '_dh', '_i', '_i1', '_i2', '_ih', '_ii', '_iii', '_oh', 'exit', 'get_ipython', 'quit']\n"
     ]
    }
   ],
   "source": [
    "print(dir())"
   ]
  },
  {
   "cell_type": "code",
   "execution_count": 11,
   "metadata": {
    "scrolled": true
   },
   "outputs": [
    {
     "name": "stdout",
     "output_type": "stream",
     "text": [
      "102631784\n",
      "85894608\n",
      "[10, 20, 30, 10.2, (10+20j), 'Python', [10, 20, 30, 40], (10, 20, 30), {10, 20, 30}, '10']\n",
      "85894608\n",
      "None\n",
      "[10, 20, 30, 10.2, (10+20j), 'Python', {1: 100, 2: 200, 'a': 'Python'}, [10, 20, 30, 40], (10, 20, 30), {10, 20, 30}, '10']\n",
      "85894608\n"
     ]
    }
   ],
   "source": [
    "lst = [10,20,30,10.20, 10+20j, 'Python', [10,20,30,40], (10,20,30), {10,20,30}]\n",
    "print(id(lst))\n",
    "lst = [10,10.20, 10+20j, 'Python', [10,20,30,40], (10,20,30), {10,20,30},{1: 100, 2: 200, 'a': 'Python'}]\n",
    "print(id(lst))\n",
    "# if you want to add something at the end of the list asan element\n",
    "lst.append('10')  # Returns None\n",
    "print(lst)\n",
    "print(id(lst))\n",
    "print(lst.insert(6, {1:100, 2:200, 'a':'Python'}))\n",
    "print(lst)\n",
    "print(id(lst))"
   ]
  },
  {
   "cell_type": "code",
   "execution_count": 74,
   "metadata": {},
   "outputs": [
    {
     "name": "stdout",
     "output_type": "stream",
     "text": [
      "22360112 22360112\n"
     ]
    }
   ],
   "source": [
    "lst = [10,10.20,10+20j, 'Python', [10,20,30,40], (10,20,30), {10,20,30},{1: 100,'a': 'Python'}]\n",
    "# print(id(lst))\n",
    "# lst1 = [1000, 2000,3000,4000]\n",
    "# lst2 = lst+lst1\n",
    "# # print(lst)\n",
    "# # print(lst1)\n",
    "# print(lst2)\n",
    "# print(lst.extend(lst1[2:]))\n",
    "# print(id(lst))\n",
    "# print(lst)\n",
    "# print(lst1)\n",
    "\n",
    "\n",
    "# print([10,20,30] < [10,20,31])\n",
    "\n",
    "\n",
    "# Remove an element from alist\n",
    "# 'pop', 'remove', clear()\n",
    "# print(lst.pop())\n",
    "# print(id(lst))\n",
    "# print(lst.pop(2))\n",
    "# print(lst)\n",
    "# print(id(lst))\n",
    "\n",
    "# print(lst.remove(10+20j))\n",
    "# print(lst)\n",
    "\n",
    "# print(lst.clear())\n",
    "# print(lst)\n",
    "# print(id(lst))\n",
    "\n",
    "# del lst\n",
    "# print(lst)\n",
    "\n",
    "#pop is like extracting a specific list element out into a new variable? with out modifying the original list value.\n",
    "# a = lst.pop(7)\n",
    "# print(list(a))\n",
    "\n",
    "# count(), index()\n",
    "# a = [10,20,100,10,200,10,30,10,100,20,10]\n",
    "# print(a.count(10))\n",
    "# print(a.index(10,2))\n",
    "\n",
    "# 'reverse', 'sort'\n",
    "# lst.reverse()\n",
    "# print(lst)\n",
    "\n",
    "# a.sort(reverse=False)   # Default soring is ascending order\n",
    "# print(a)\n",
    "\n",
    "# lst = [10,20,30,10.20, 10+20j, 'Python', [10,20,30,40], (10,20,30), {10,20,30}]\n",
    "# print(lst.sort())\n",
    "\n",
    "# b = list('Python Class b')\n",
    "# print(b)\n",
    "# print(id(b))\n",
    "# print(b.sort())\n",
    "# print(b)\n",
    "# print(id(b))\n",
    "\n",
    "\n",
    "\n",
    "# Shallow copy and aliasing\n",
    "lst = [10,20,30,40]\n",
    "lst1 = lst        # Aliasing\n",
    "print(id(lst), id(lst1))\n",
    "# lst1[0] = 100\n",
    "# print(lst, lst1)\n",
    "# a=[10,20,30]\n",
    "# b=a\n",
    "# a.append(10)\n",
    "# b.append(10)\n",
    "# print(a,b)\n",
    "# print(id(a),id(b))\n",
    "# print(set(b))\n",
    "# print(lst is lst1)\n",
    "\n",
    "# # Create a shallow copy - using slicing or copy\n",
    "# lst2 = lst[:]\n",
    "# print(id(lst), id(lst2))\n",
    "# print(lst is lst2)\n",
    "# lst2[0] = 100\n",
    "# print(lst)\n",
    "# print(lst2)\n",
    "\n",
    "# lst3 = lst.copy()\n",
    "# print(id(lst), id(lst3))\n",
    "# print(lst is lst3)\n",
    "\n",
    "\n",
    "# print(id(lst))"
   ]
  },
  {
   "cell_type": "code",
   "execution_count": 2,
   "metadata": {},
   "outputs": [
    {
     "name": "stdout",
     "output_type": "stream",
     "text": [
      "8\n",
      "['In', 'Out', '_', '__', '___', '__builtin__', '__builtins__', '__doc__', '__loader__', '__name__', '__package__', '__spec__', '_dh', '_i', '_i1', '_i2', '_ih', '_ii', '_iii', '_oh', 'exit', 'get_ipython', 'quit']\n"
     ]
    }
   ],
   "source": [
    "print(pow(2,3))\n",
    "print(dir())"
   ]
  },
  {
   "cell_type": "code",
   "execution_count": 3,
   "metadata": {},
   "outputs": [
    {
     "ename": "NameError",
     "evalue": "name 'math' is not defined",
     "output_type": "error",
     "traceback": [
      "\u001b[1;31m---------------------------------------------------------------------------\u001b[0m",
      "\u001b[1;31mNameError\u001b[0m                                 Traceback (most recent call last)",
      "\u001b[1;32m<ipython-input-3-3f094b019263>\u001b[0m in \u001b[0;36m<module>\u001b[1;34m\u001b[0m\n\u001b[0;32m      1\u001b[0m \u001b[1;32mimport\u001b[0m \u001b[0mmath\u001b[0m \u001b[1;32mas\u001b[0m \u001b[0mm\u001b[0m\u001b[1;33m\u001b[0m\u001b[1;33m\u001b[0m\u001b[0m\n\u001b[1;32m----> 2\u001b[1;33m \u001b[0mprint\u001b[0m\u001b[1;33m(\u001b[0m\u001b[0mdir\u001b[0m\u001b[1;33m(\u001b[0m\u001b[0mmath\u001b[0m\u001b[1;33m)\u001b[0m\u001b[1;33m)\u001b[0m\u001b[1;33m\u001b[0m\u001b[1;33m\u001b[0m\u001b[0m\n\u001b[0m",
      "\u001b[1;31mNameError\u001b[0m: name 'math' is not defined"
     ]
    }
   ],
   "source": [
    "import math as m\n",
    "print(dir(math))"
   ]
  },
  {
   "cell_type": "code",
   "execution_count": 6,
   "metadata": {},
   "outputs": [
    {
     "name": "stdout",
     "output_type": "stream",
     "text": [
      "True\n"
     ]
    }
   ],
   "source": [
    "# a = 10\n",
    "# b = 10\n",
    "# print(a is b)\n",
    "# a = 1000\n",
    "# b = 1000\n",
    "# print(a is b)\n",
    "\n",
    "# lst = [10,20,30,40]\n",
    "# lst1 = [10,20,30,40]\n",
    "# print(lst is lst1)\n",
    "\n",
    "a = 'subir'\n",
    "b = 'subir'\n",
    "print( a is b)"
   ]
  },
  {
   "cell_type": "code",
   "execution_count": 8,
   "metadata": {},
   "outputs": [
    {
     "name": "stdout",
     "output_type": "stream",
     "text": [
      "() <class 'tuple'>\n",
      "() <class 'tuple'>\n"
     ]
    }
   ],
   "source": [
    "# Creating an empty tuple\n",
    "a = ()\n",
    "print(a, type(a))\n",
    "b = tuple()\n",
    "print(b, type(b))"
   ]
  },
  {
   "cell_type": "code",
   "execution_count": 15,
   "metadata": {},
   "outputs": [
    {
     "name": "stdout",
     "output_type": "stream",
     "text": [
      "(10, 20, 30j) <class 'tuple'>\n",
      "10 <class 'int'>\n",
      "10 <class 'int'>\n",
      "(10,) <class 'tuple'>\n"
     ]
    }
   ],
   "source": [
    "a = 10,20,30.j\n",
    "print(a, type(a))\n",
    "\n",
    "# Create a tuple with single element\n",
    "b = 10\n",
    "print(b, type(b))\n",
    "\n",
    "c = (10)\n",
    "print(c, type(c))\n",
    "\n",
    "d = 10,\n",
    "print(d, type(d))"
   ]
  },
  {
   "cell_type": "code",
   "execution_count": 1,
   "metadata": {},
   "outputs": [
    {
     "name": "stdout",
     "output_type": "stream",
     "text": [
      "[10, 20, 30] <class 'list'>\n"
     ]
    }
   ],
   "source": [
    "a = 10,10.20,10+20j,'Python', [10,20,30], (10,20,30), {10,20,30},10\n",
    "# print(a, type(a))\n",
    "# print(id(a))\n",
    "# # a[4][0] = 100\n",
    "# print(a)\n",
    "# print(id(a))\n",
    "# # a[0] = 100\n",
    "\n",
    "# a = tuple(range(10))\n",
    "# print(a, type(a))\n",
    "\n",
    "# a = list((10,20,30))\n",
    "# print(a, type(a))\n",
    "\n",
    "# b = eval(input('Enter a tuple: '))\n",
    "# print(b, type(b))"
   ]
  },
  {
   "cell_type": "code",
   "execution_count": 3,
   "metadata": {},
   "outputs": [
    {
     "ename": "TypeError",
     "evalue": "can only concatenate tuple (not \"int\") to tuple",
     "output_type": "error",
     "traceback": [
      "\u001b[1;31m---------------------------------------------------------------------------\u001b[0m",
      "\u001b[1;31mTypeError\u001b[0m                                 Traceback (most recent call last)",
      "\u001b[1;32m<ipython-input-3-093f7a6414ae>\u001b[0m in \u001b[0;36m<module>\u001b[1;34m\u001b[0m\n\u001b[0;32m      1\u001b[0m \u001b[1;31m# 'count', 'index'\u001b[0m\u001b[1;33m\u001b[0m\u001b[1;33m\u001b[0m\u001b[1;33m\u001b[0m\u001b[0m\n\u001b[0;32m      2\u001b[0m \u001b[0ma\u001b[0m \u001b[1;33m=\u001b[0m \u001b[1;36m10\u001b[0m\u001b[1;33m,\u001b[0m\u001b[1;36m20\u001b[0m\u001b[1;33m,\u001b[0m\u001b[1;36m30\u001b[0m\u001b[1;33m\u001b[0m\u001b[1;33m\u001b[0m\u001b[0m\n\u001b[1;32m----> 3\u001b[1;33m \u001b[0ma\u001b[0m\u001b[1;33m.\u001b[0m\u001b[0m__add__\u001b[0m\u001b[1;33m(\u001b[0m\u001b[1;36m20\u001b[0m\u001b[1;33m)\u001b[0m\u001b[1;33m\u001b[0m\u001b[1;33m\u001b[0m\u001b[0m\n\u001b[0m",
      "\u001b[1;31mTypeError\u001b[0m: can only concatenate tuple (not \"int\") to tuple"
     ]
    }
   ],
   "source": [
    "# 'count', 'index'\n",
    "# a = 10,20,30\n",
    "# a.__add__(20)"
   ]
  },
  {
   "cell_type": "code",
   "execution_count": 5,
   "metadata": {},
   "outputs": [
    {
     "name": "stdout",
     "output_type": "stream",
     "text": [
      "50\n",
      "10\n",
      "20\n",
      "30\n",
      "40\n"
     ]
    }
   ],
   "source": [
    "# Tuple packing and unpacking\n",
    "# a = 10\n",
    "# b = 20\n",
    "# c = 30\n",
    "# d = 40\n",
    "# tpl = a,b,c,d    # Tuple packing\n",
    "# print(tpl, type(tpl))\n",
    "\n",
    "# # Tuple unpacking\n",
    "# tpl = 10,20,30,40,50\n",
    "# a,b,c,d,f = tpl\n",
    "# print(f)\n",
    "# print(a)\n",
    "# print(b)\n",
    "# print(c)\n",
    "# print(d)\n",
    "# # print(e)"
   ]
  },
  {
   "cell_type": "code",
   "execution_count": 6,
   "metadata": {},
   "outputs": [
    {
     "name": "stdout",
     "output_type": "stream",
     "text": [
      "92320080 87602352\n",
      "(10, 20, 30, 40, {1: 1000, 2: 200, 3: 300})\n",
      "(10, 20, 30, 40, {1: 1000, 2: 200, 3: 300})\n",
      "1770969616 1770969616\n",
      "92549696 92549696\n"
     ]
    }
   ],
   "source": [
    "tpl = 10,20,30,40,{1:100, 2:200, 3:300}\n",
    "a,b,c,d,e = tpl\n",
    "# print(e[3])\n",
    "\n",
    "tpl1 = a,b,c,d,e\n",
    "print(id(tpl), id(tpl1))\n",
    "# print(tpl == tpl2)\n",
    "tpl1[-1][1] = 1000\n",
    "print(tpl)\n",
    "print(tpl1)\n",
    "print(id(tpl[1]),id(tpl1[1]))\n",
    "print(id(tpl[-1]),id(tpl1[-1]))      # Deepcopy\n",
    "\n",
    "# print(id(tpl[-1]))\n",
    "# print(id(e))\n",
    "\n",
    "# e[1] = 1000\n",
    "# print(tpl\n"
   ]
  },
  {
   "cell_type": "code",
   "execution_count": 10,
   "metadata": {},
   "outputs": [
    {
     "name": "stdout",
     "output_type": "stream",
     "text": [
      "{1, 2, 3}\n"
     ]
    }
   ],
   "source": [
    "# lst = [10,10.20,10+20j, 'Python', [10,20,30,40], (10,20,30), {10,20,30},{1: 100,'a': 'Python'}]\n",
    "lst = [1,2,3,2]\n",
    "print(set(lst))"
   ]
  },
  {
   "cell_type": "code",
   "execution_count": 11,
   "metadata": {},
   "outputs": [
    {
     "name": "stdout",
     "output_type": "stream",
     "text": [
      "<class 'dict'>\n"
     ]
    }
   ],
   "source": [
    "# d = {1:100, 2:200, 3:300}\n",
    "d = {1:100, 2:1000, '1':1000}\n",
    "print(type(d))"
   ]
  },
  {
   "cell_type": "code",
   "execution_count": 12,
   "metadata": {},
   "outputs": [
    {
     "name": "stdout",
     "output_type": "stream",
     "text": [
      "{} <class 'dict'>\n",
      "{} <class 'dict'>\n"
     ]
    }
   ],
   "source": [
    "# Creating an empty\n",
    "d = {}\n",
    "print(d, type(d))\n",
    "d = dict()\n",
    "print(d, type(d))"
   ]
  },
  {
   "cell_type": "code",
   "execution_count": 13,
   "metadata": {},
   "outputs": [
    {
     "name": "stdout",
     "output_type": "stream",
     "text": [
      "<class 'tuple'>\n",
      "<class 'tuple'>\n"
     ]
    }
   ],
   "source": [
    "a = ()\n",
    "b = tuple()\n",
    "print(type(a))\n",
    "print(type(b))\n"
   ]
  },
  {
   "cell_type": "code",
   "execution_count": 17,
   "metadata": {},
   "outputs": [
    {
     "name": "stdout",
     "output_type": "stream",
     "text": [
      "92852416\n",
      "200\n",
      "{1: 2000, 'abc': 200, 3: 300}\n",
      "{1: 2000, 'abc': 200, 3: 300, 'xyz': 1000}\n",
      "92852416\n"
     ]
    }
   ],
   "source": [
    "s = set()\n",
    "# Creating a dictionary with multiple key value pair\n",
    "d = {1:100, 'abc':200, 3:300}\n",
    "print(id(d))\n",
    "print(d['abc'])\n",
    "d[1] = 2000\n",
    "print(d)\n",
    "d['xyz'] = 1000\n",
    "print(d)\n",
    "print(id(d))"
   ]
  },
  {
   "cell_type": "code",
   "execution_count": 3,
   "metadata": {},
   "outputs": [
    {
     "name": "stdout",
     "output_type": "stream",
     "text": [
      "{1: 1000, 2: 2000, 10: 3000}\n",
      "{1: 1000, 2: 2000, 3: 3000}\n"
     ]
    },
    {
     "data": {
      "text/plain": [
       "[(1, 100), (2, 200), (3, 300), (4, 123), (5, 456)]"
      ]
     },
     "execution_count": 3,
     "metadata": {},
     "output_type": "execute_result"
    }
   ],
   "source": [
    "# d = dict([[1,1000],[2,2000],[10,3000]])\n",
    "# print(d)\n",
    "\n",
    "# d = dict(([1,1000],[2,2000],[3,3000]))\n",
    "# print(d)\n",
    "\n",
    "# l1=[1,2,3,4,5,6,7]\n",
    "# l2=[100,200,300,123,456]\n",
    "# list(zip(l1,l2))\n"
   ]
  },
  {
   "cell_type": "code",
   "execution_count": 5,
   "metadata": {},
   "outputs": [
    {
     "name": "stdout",
     "output_type": "stream",
     "text": [
      "None\n",
      "{1: 100, 2: 200}\n"
     ]
    }
   ],
   "source": [
    "# d1 = {1:100, 2:200}\n",
    "# d2 = {3:300, 4:400}\n",
    "# print(d2.update(d2))\n",
    "# print(d1)"
   ]
  },
  {
   "cell_type": "code",
   "execution_count": 6,
   "metadata": {},
   "outputs": [
    {
     "name": "stdout",
     "output_type": "stream",
     "text": [
      "['__class__', '__contains__', '__delattr__', '__delitem__', '__dir__', '__doc__', '__eq__', '__format__', '__ge__', '__getattribute__', '__getitem__', '__gt__', '__hash__', '__init__', '__init_subclass__', '__iter__', '__le__', '__len__', '__lt__', '__ne__', '__new__', '__reduce__', '__reduce_ex__', '__repr__', '__setattr__', '__setitem__', '__sizeof__', '__str__', '__subclasshook__', 'clear', 'copy', 'fromkeys', 'get', 'items', 'keys', 'pop', 'popitem', 'setdefault', 'update', 'values']\n"
     ]
    }
   ],
   "source": [
    "print(dir(dict))"
   ]
  },
  {
   "cell_type": "code",
   "execution_count": 14,
   "metadata": {},
   "outputs": [
    {
     "name": "stdout",
     "output_type": "stream",
     "text": [
      "400\n",
      "{0: 100, 2: 200, 3: 300, 4: 400, 5: 500}\n",
      "{0: 100, 2: 200, 3: 300, 4: 400, 5: 500, 7: 3000}\n"
     ]
    }
   ],
   "source": [
    "d = {-0:100, 2:200, 3:300, 4:400}\n",
    "print(d[4])\n",
    "d[5] = 500\n",
    "print(d)\n",
    "d[7] = 3000\n",
    "print(d)\n"
   ]
  },
  {
   "cell_type": "code",
   "execution_count": 19,
   "metadata": {},
   "outputs": [
    {
     "name": "stdout",
     "output_type": "stream",
     "text": [
      "None\n",
      "{0: 100, 2: 200, 3: 300, 4: 400, 5: 500, 7: 3000, 8: 'None1', 9: 'This key is not present in the dictionary', 10: 1000, 20: 2000, 30: 3000}\n"
     ]
    }
   ],
   "source": [
    "# # get(). setdefault()\n",
    "# print(d.get(8, 'None1'))\n",
    "# print(d.get(0, 'This key is not present in the dictionary'))\n",
    "# print(d)\n",
    "\n",
    "# print(d.setdefault(8, 'None1'))\n",
    "# print(d.setdefault(9, 'This key is not present in the dictionary'))\n",
    "# print(d)\n",
    "\n",
    "\n",
    "# d1 = {10:1000, 20:2000, 30:3000}\n",
    "# print(d.update(d1))\n",
    "# print(d)"
   ]
  },
  {
   "cell_type": "code",
   "execution_count": 27,
   "metadata": {},
   "outputs": [
    {
     "name": "stdout",
     "output_type": "stream",
     "text": [
      "dict_values([100, 200, 300, 400, 500, 'None1', 'This key is not present in the dictionary', 1000, 2000])\n",
      "dict_items([(0, 100), (2, 200), (3, 300), (4, 400), (5, 500), (8, 'None1'), (9, 'This key is not present in the dictionary'), (10, 1000), (20, 2000)])\n",
      "None\n",
      "{}\n"
     ]
    }
   ],
   "source": [
    "# 'pop', 'popitem'\n",
    "# print(d.pop(7,'This is key is not present'))\n",
    "# print(d)\n",
    "\n",
    "# print(d.popitem())\n",
    "# print(d)\n",
    "\n",
    "#  'items', 'keys', values'\n",
    "# print(d.values())\n",
    "# for i in d.keys():\n",
    "#     print(i)\n",
    "\n",
    "print(d.values())\n",
    "print(d.items())\n",
    "\n",
    "# # 'clear', 'copy', \n",
    "# print(d.clear())\n",
    "# print(d)\n"
   ]
  },
  {
   "cell_type": "code",
   "execution_count": 37,
   "metadata": {},
   "outputs": [
    {
     "name": "stdout",
     "output_type": "stream",
     "text": [
      "[10, 20, 30, [100, 200, 300]]\n",
      "[10, 20, 30, [100, 200, 300]]\n",
      "False\n",
      "False\n",
      "[10, 20, 30, [100, 200, 300]]\n",
      "[10, 20, 30, [1000, 200, 300]]\n"
     ]
    }
   ],
   "source": [
    "# d = {1:100, 2:200, 3:300}\n",
    "# d1 = d.copy()   # Shallow copy\n",
    "# print(d1)\n",
    "# print(d is d1)\n",
    "\n",
    "# fromkeys\n",
    "\n",
    "# print(d5.fromkeys([1,'2','3','4'], None))\n",
    "\n",
    "# deepcopy - nested object\n",
    "lst = [10,20,30, [100,200,300]]\n",
    "lst1 = lst[:]\n",
    "# print(lst is lst1)\n",
    "# print(lst[-1] is lst1[-1])\n",
    "# lst1[-1][0] = 1000\n",
    "print(lst)\n",
    "print(lst1)\n",
    "from copy import deepcopy\n",
    "lst1 = deepcopy(lst)\n",
    "print(lst is lst1)\n",
    "print(lst[-1] is lst1[-1])\n",
    "lst1[-1][0] = 1000\n",
    "print(lst)\n",
    "print(lst1)"
   ]
  },
  {
   "cell_type": "code",
   "execution_count": 40,
   "metadata": {},
   "outputs": [
    {
     "name": "stdout",
     "output_type": "stream",
     "text": [
      "{1: None, 2: None, 3: None, 4: None}\n"
     ]
    }
   ],
   "source": [
    "d5 = {}\n",
    "d5 = d5.fromkeys([1,2,3,4])\n",
    "print(d5)"
   ]
  },
  {
   "cell_type": "code",
   "execution_count": null,
   "metadata": {},
   "outputs": [],
   "source": []
  }
 ],
 "metadata": {
  "kernelspec": {
   "display_name": "Python 3",
   "language": "python",
   "name": "python3"
  },
  "language_info": {
   "codemirror_mode": {
    "name": "ipython",
    "version": 3
   },
   "file_extension": ".py",
   "mimetype": "text/x-python",
   "name": "python",
   "nbconvert_exporter": "python",
   "pygments_lexer": "ipython3",
   "version": "3.7.6"
  }
 },
 "nbformat": 4,
 "nbformat_minor": 4
}

{
 "cells": [
  {
   "cell_type": "code",
   "execution_count": 3,
   "metadata": {},
   "outputs": [
    {
     "name": "stdout",
     "output_type": "stream",
     "text": [
      "c is greater than a and b\n"
     ]
    }
   ],
   "source": [
    "# a = 10\n",
    "# b = 2\n",
    "# c = 30\n",
    "# # print('a is greater than b and c' if a>b and a>c else 'b is greater than a and c' if b>c else 'c is greater than a and b')\n",
    "# if a>b and a>c:\n",
    "#     print('a is greater than a and b')\n",
    "# elif b>c:\n",
    "#     print('b is greater than a and b')\n",
    "# else:\n",
    "#     print('c is greater than a and b')\n",
    "\n",
    "\n",
    "# list, tuple, dictionary comprehension"
   ]
  },
  {
   "cell_type": "markdown",
   "metadata": {},
   "source": [
    "# Function\n",
    "    - Reusability"
   ]
  },
  {
   "cell_type": "code",
   "execution_count": 139,
   "metadata": {},
   "outputs": [
    {
     "name": "stdout",
     "output_type": "stream",
     "text": [
      "[100, 200, 300]\n"
     ]
    }
   ],
   "source": [
    "# Builtin function - dir(), help(), id(), type(), print()\n",
    "# User defined function\n",
    "# Function definition - def function_name(param_list):\n",
    "#                             stat1\n",
    "#                             stat2\n",
    "#                             return stat     - Optional\n",
    "# If you do not write the return stat the the default return type will be none\n",
    "# Return statment is called the output of the function\n",
    "# Input ot the functin are parameter/argument\n",
    "\n",
    "def add():\n",
    "    a = 10\n",
    "    b = 20\n",
    "    c = a+b\n",
    "    print(c)\n",
    "#     return a,b,c\n"
   ]
  },
  {
   "cell_type": "code",
   "execution_count": 33,
   "metadata": {},
   "outputs": [
    {
     "name": "stdout",
     "output_type": "stream",
     "text": [
      "30\n",
      "None\n"
     ]
    }
   ],
   "source": [
    "# Function call\n",
    "x = add()\n",
    "# print(x+30)\n",
    "print(x)\n",
    "\n"
   ]
  },
  {
   "cell_type": "code",
   "execution_count": 35,
   "metadata": {},
   "outputs": [],
   "source": [
    "def info():\n",
    "    name = input('Enter name: ')\n",
    "    roll_no = input('Enter Roll No: ')\n",
    "    marks = input('Enter marks:  ')\n",
    "    return f'Student name is {name}, roll No is {roll_no} and marks is {marks}'\n"
   ]
  },
  {
   "cell_type": "code",
   "execution_count": 37,
   "metadata": {},
   "outputs": [
    {
     "name": "stdout",
     "output_type": "stream",
     "text": [
      "Enter name: abc\n",
      "Enter Roll No: 101\n",
      "Enter marks:  100\n"
     ]
    },
    {
     "data": {
      "text/plain": [
       "str"
      ]
     },
     "execution_count": 37,
     "metadata": {},
     "output_type": "execute_result"
    }
   ],
   "source": [
    "type(info())"
   ]
  },
  {
   "cell_type": "code",
   "execution_count": 38,
   "metadata": {},
   "outputs": [],
   "source": [
    "def add(a,b):     # Parameter\n",
    "    return a+b"
   ]
  },
  {
   "cell_type": "code",
   "execution_count": 39,
   "metadata": {},
   "outputs": [
    {
     "name": "stdout",
     "output_type": "stream",
     "text": [
      "30\n"
     ]
    }
   ],
   "source": [
    "print(add(10,20))   # Argument"
   ]
  },
  {
   "cell_type": "code",
   "execution_count": 49,
   "metadata": {},
   "outputs": [],
   "source": [
    "# Type of arguments or parameters\n",
    "# 1. Positional par/arg: Order is very important - No of parameters and no of arguments should match\n",
    "# def add(a,b,c,d):\n",
    "#     print(a)\n",
    "#     print(b)\n",
    "#     print(c)\n",
    "#     print(d)\n",
    "#     return a+b+c+d"
   ]
  },
  {
   "cell_type": "code",
   "execution_count": 50,
   "metadata": {},
   "outputs": [],
   "source": [
    "# add(10,20,30,40)"
   ]
  },
  {
   "cell_type": "code",
   "execution_count": 64,
   "metadata": {},
   "outputs": [],
   "source": [
    "# # 2. Default argument\n",
    "# # 1. Positional par/arg: Order is very important - No of parameters and no of arguments should match\n",
    "# def add(a,b,c=100,d=1):\n",
    "#     return a*b*c*d"
   ]
  },
  {
   "cell_type": "code",
   "execution_count": 65,
   "metadata": {},
   "outputs": [
    {
     "data": {
      "text/plain": [
       "20000"
      ]
     },
     "execution_count": 65,
     "metadata": {},
     "output_type": "execute_result"
    }
   ],
   "source": [
    "# add(10,20)"
   ]
  },
  {
   "cell_type": "code",
   "execution_count": 76,
   "metadata": {},
   "outputs": [],
   "source": [
    "# 3. Keyworded argument\n",
    "\n",
    "# def add(b=0,a=0,c= 0,d=0):\n",
    "#     print(a)\n",
    "#     print(b)\n",
    "#     print(c)\n",
    "#     print(d)\n",
    "#     return a+b+c+d, a*b*c*d"
   ]
  },
  {
   "cell_type": "code",
   "execution_count": 78,
   "metadata": {},
   "outputs": [],
   "source": [
    "# add(20,a= 10, d = 100)\n",
    "# add(d = 100, b = 20,  c= 200, a = 400)\n",
    "# add(10,20, 30,40)\n",
    "# add(10, c= 100, d = 200, b = 1000)\n",
    "# add(a=10,b = 20, c = 30, d = 40)"
   ]
  },
  {
   "cell_type": "code",
   "execution_count": 79,
   "metadata": {},
   "outputs": [],
   "source": [
    "# def add(c= 0,d=0,b,a):\n",
    "#     print(a)\n",
    "#     print(b)\n",
    "#     print(c)\n",
    "#     print(d)\n",
    "#     return a+b+c+d"
   ]
  },
  {
   "cell_type": "code",
   "execution_count": 83,
   "metadata": {},
   "outputs": [
    {
     "name": "stdout",
     "output_type": "stream",
     "text": [
      "10 20 20 150\n"
     ]
    },
    {
     "data": {
      "text/plain": [
       "200"
      ]
     },
     "execution_count": 83,
     "metadata": {},
     "output_type": "execute_result"
    }
   ],
   "source": [
    "# def add1(b,a,c=0,d=0):\n",
    "#     print(a,b,c,d)\n",
    "#     return(a+b+c+d)\n",
    "# add1(b = 20,a=10,d=150,c=20)"
   ]
  },
  {
   "cell_type": "code",
   "execution_count": 90,
   "metadata": {},
   "outputs": [],
   "source": [
    "# Varible length argument - *args - tuple, **kwargs - Dictionary\n",
    "# def add(*args):\n",
    "#     print(args, type(args))\n",
    "#     total = 0\n",
    "#     for i in args:\n",
    "#         total += i\n",
    "#     print(total)\n",
    "    "
   ]
  },
  {
   "cell_type": "code",
   "execution_count": 91,
   "metadata": {},
   "outputs": [
    {
     "name": "stdout",
     "output_type": "stream",
     "text": [
      "([10, 20, 30, 40, 50, 60, 70, 80, 90, 100, 200],) <class 'tuple'>\n",
      "750\n"
     ]
    }
   ],
   "source": [
    "# add(10,20,30,40,50,60,70,80,90,100,200)"
   ]
  },
  {
   "cell_type": "code",
   "execution_count": 109,
   "metadata": {},
   "outputs": [],
   "source": [
    "def add(**kwargs):\n",
    "        #if type(kwargs) == dict:\n",
    "        print(kwargs, type(kwargs))\n",
    "        total = 0\n",
    "        for i in kwargs:\n",
    "            total = total + kwargs[i]\n",
    "        print(total)"
   ]
  },
  {
   "cell_type": "code",
   "execution_count": 110,
   "metadata": {},
   "outputs": [
    {
     "name": "stdout",
     "output_type": "stream",
     "text": [
      "{'a': 10, 'b': 20, 'c': 30, 'd': 40, 'e': 50, 'f': 60, 'g': 70, 'h': 80} <class 'dict'>\n",
      "360\n"
     ]
    }
   ],
   "source": [
    "add(a=10,b =20,c=30, d = 40, e = 50, f = 60, g=70, h=80)\n"
   ]
  },
  {
   "cell_type": "code",
   "execution_count": 116,
   "metadata": {},
   "outputs": [],
   "source": [
    "def add(kwargs):\n",
    "    if type(kwargs) == dict:\n",
    "        print(kwargs, type(kwargs))\n",
    "        total = 0\n",
    "        for i in kwargs:\n",
    "            total = total + kwargs[i]\n",
    "        print(total)\n",
    "a = [100,200,300]\n",
    "add(a)"
   ]
  },
  {
   "cell_type": "code",
   "execution_count": 121,
   "metadata": {},
   "outputs": [],
   "source": [
    "def contact(name, phone):\n",
    "    print(name)\n",
    "    print(phone)\n",
    "    \n",
    "def address_holder(street, city, state, pin, **kwargs):\n",
    "    contact(kwargs['name1'] ,kwargs['phone1'])\n",
    "    print(state)\n",
    "    print(city)\n",
    "    print(street)\n",
    "    print(pin)\n",
    "    \n",
    "def email(email, **kwargs1):\n",
    "    print(kwargs1)\n",
    "    address_holder(kwargs1['street'],kwargs1['city'],kwargs1['state'],kwargs1['pin'],name1 = kwargs1['name'],phone1 = kwargs1['phone'])\n",
    "    print(email)"
   ]
  },
  {
   "cell_type": "code",
   "execution_count": 122,
   "metadata": {},
   "outputs": [
    {
     "name": "stdout",
     "output_type": "stream",
     "text": [
      "{'street': 'Sty', 'city': 'Blr', 'state': 'Kar', 'pin': 543210, 'name': 'ABC', 'phone': 9876543210}\n",
      "ABC\n",
      "9876543210\n",
      "Kar\n",
      "Blr\n",
      "Sty\n",
      "543210\n",
      "abc@gmail.com\n"
     ]
    }
   ],
   "source": [
    "\n",
    "email('abc@gmail.com', street = 'Sty', city = 'Blr', state='Kar', pin= 543210, name = 'ABC', phone = 9876543210)"
   ]
  },
  {
   "cell_type": "code",
   "execution_count": 136,
   "metadata": {},
   "outputs": [],
   "source": [
    "def contact(name, phone):\n",
    "    print(name)\n",
    "    print(phone)\n",
    "    \n",
    "def address_holder(street, city, state, pin, **kwargs):\n",
    "    contact(kwargs['name1'] ,kwargs['phone1'])\n",
    "    print(state)\n",
    "    print(city)\n",
    "    print(street)\n",
    "    print(pin)\n",
    "    \n",
    "def email(email, **kwargs1):\n",
    "    street,city,state,pin,name,phone = kwargs1.values()\n",
    "    #print(street,city,state,pin,name,phone)\n",
    "    \n",
    "    address_holder(street,city,state,pin,name1 = name,phone1 = phone)\n",
    "    print(email)"
   ]
  },
  {
   "cell_type": "code",
   "execution_count": 137,
   "metadata": {},
   "outputs": [
    {
     "name": "stdout",
     "output_type": "stream",
     "text": [
      "ABC\n",
      "9876543210\n",
      "Kar\n",
      "Blr\n",
      "Sty\n",
      "543210\n",
      "abc@gmail.com\n"
     ]
    }
   ],
   "source": [
    "email('abc@gmail.com', street = 'Sty', city = 'Blr', state='Kar', pin= 543210, name = 'ABC', phone = 9876543210)"
   ]
  },
  {
   "cell_type": "code",
   "execution_count": null,
   "metadata": {},
   "outputs": [],
   "source": [
    "# Scope - rule - in which order you should look for the variable - LEGB rule - Local -> Extended -> Global -> Builtin\n"
   ]
  },
  {
   "cell_type": "code",
   "execution_count": 149,
   "metadata": {},
   "outputs": [
    {
     "ename": "AttributeError",
     "evalue": "'function' object has no attribute 'f2'",
     "output_type": "error",
     "traceback": [
      "\u001b[0;31m---------------------------------------------------------------------------\u001b[0m",
      "\u001b[0;31mAttributeError\u001b[0m                            Traceback (most recent call last)",
      "\u001b[0;32m<ipython-input-149-f7065e5ef779>\u001b[0m in \u001b[0;36m<module>\u001b[0;34m\u001b[0m\n\u001b[1;32m     14\u001b[0m     \u001b[0mf2\u001b[0m\u001b[0;34m(\u001b[0m\u001b[0;34m)\u001b[0m\u001b[0;34m\u001b[0m\u001b[0;34m\u001b[0m\u001b[0m\n\u001b[1;32m     15\u001b[0m \u001b[0;34m\u001b[0m\u001b[0m\n\u001b[0;32m---> 16\u001b[0;31m \u001b[0mf1\u001b[0m\u001b[0;34m.\u001b[0m\u001b[0mf2\u001b[0m\u001b[0;34m(\u001b[0m\u001b[0;34m)\u001b[0m\u001b[0;34m\u001b[0m\u001b[0;34m\u001b[0m\u001b[0m\n\u001b[0m",
      "\u001b[0;31mAttributeError\u001b[0m: 'function' object has no attribute 'f2'"
     ]
    }
   ],
   "source": [
    "from math import pi\n",
    "# Nested Function\n",
    "x = 1000\n",
    "def f1():\n",
    "    a = 100\n",
    "    print(a)\n",
    "    def f2():\n",
    "        b = 200\n",
    "        print(b)\n",
    "        print(a)\n",
    "        print(x)\n",
    "        print(pi)\n",
    "        print(m)\n",
    "    f2()\n",
    "    \n"
   ]
  },
  {
   "cell_type": "code",
   "execution_count": 148,
   "metadata": {},
   "outputs": [
    {
     "name": "stdout",
     "output_type": "stream",
     "text": [
      "100\n",
      "200\n",
      "100\n",
      "1000\n",
      "3.141592653589793\n"
     ]
    },
    {
     "ename": "NameError",
     "evalue": "name 'm' is not defined",
     "output_type": "error",
     "traceback": [
      "\u001b[0;31m---------------------------------------------------------------------------\u001b[0m",
      "\u001b[0;31mNameError\u001b[0m                                 Traceback (most recent call last)",
      "\u001b[0;32m<ipython-input-148-b27bf7c7aafe>\u001b[0m in \u001b[0;36m<module>\u001b[0;34m\u001b[0m\n\u001b[0;32m----> 1\u001b[0;31m \u001b[0mf1\u001b[0m\u001b[0;34m(\u001b[0m\u001b[0;34m)\u001b[0m\u001b[0;34m\u001b[0m\u001b[0;34m\u001b[0m\u001b[0m\n\u001b[0m",
      "\u001b[0;32m<ipython-input-147-3fc8b234fb44>\u001b[0m in \u001b[0;36mf1\u001b[0;34m()\u001b[0m\n\u001b[1;32m     12\u001b[0m         \u001b[0mprint\u001b[0m\u001b[0;34m(\u001b[0m\u001b[0mpi\u001b[0m\u001b[0;34m)\u001b[0m\u001b[0;34m\u001b[0m\u001b[0;34m\u001b[0m\u001b[0m\n\u001b[1;32m     13\u001b[0m         \u001b[0mprint\u001b[0m\u001b[0;34m(\u001b[0m\u001b[0mm\u001b[0m\u001b[0;34m)\u001b[0m\u001b[0;34m\u001b[0m\u001b[0;34m\u001b[0m\u001b[0m\n\u001b[0;32m---> 14\u001b[0;31m     \u001b[0mf2\u001b[0m\u001b[0;34m(\u001b[0m\u001b[0;34m)\u001b[0m\u001b[0;34m\u001b[0m\u001b[0;34m\u001b[0m\u001b[0m\n\u001b[0m\u001b[1;32m     15\u001b[0m \u001b[0;34m\u001b[0m\u001b[0m\n",
      "\u001b[0;32m<ipython-input-147-3fc8b234fb44>\u001b[0m in \u001b[0;36mf2\u001b[0;34m()\u001b[0m\n\u001b[1;32m     11\u001b[0m         \u001b[0mprint\u001b[0m\u001b[0;34m(\u001b[0m\u001b[0mx\u001b[0m\u001b[0;34m)\u001b[0m\u001b[0;34m\u001b[0m\u001b[0;34m\u001b[0m\u001b[0m\n\u001b[1;32m     12\u001b[0m         \u001b[0mprint\u001b[0m\u001b[0;34m(\u001b[0m\u001b[0mpi\u001b[0m\u001b[0;34m)\u001b[0m\u001b[0;34m\u001b[0m\u001b[0;34m\u001b[0m\u001b[0m\n\u001b[0;32m---> 13\u001b[0;31m         \u001b[0mprint\u001b[0m\u001b[0;34m(\u001b[0m\u001b[0mm\u001b[0m\u001b[0;34m)\u001b[0m\u001b[0;34m\u001b[0m\u001b[0;34m\u001b[0m\u001b[0m\n\u001b[0m\u001b[1;32m     14\u001b[0m     \u001b[0mf2\u001b[0m\u001b[0;34m(\u001b[0m\u001b[0;34m)\u001b[0m\u001b[0;34m\u001b[0m\u001b[0;34m\u001b[0m\u001b[0m\n\u001b[1;32m     15\u001b[0m \u001b[0;34m\u001b[0m\u001b[0m\n",
      "\u001b[0;31mNameError\u001b[0m: name 'm' is not defined"
     ]
    }
   ],
   "source": [
    "f1()\n",
    "\n",
    "will resume at 3:30"
   ]
  },
  {
   "cell_type": "code",
   "execution_count": 169,
   "metadata": {},
   "outputs": [
    {
     "name": "stdout",
     "output_type": "stream",
     "text": [
      "Before function call 100\n",
      "200\n",
      "After Function call 100\n"
     ]
    }
   ],
   "source": [
    "# Global and nonlocal\n",
    "a = 100\n",
    "def f1():\n",
    "#     print(a)\n",
    "    a = 100\n",
    "    a=a+100\n",
    "    print(a)\n",
    "print('Before function call',a)\n",
    "f1()\n",
    "print('After Function call',a)"
   ]
  },
  {
   "cell_type": "code",
   "execution_count": null,
   "metadata": {},
   "outputs": [],
   "source": [
    "#Namespace"
   ]
  }
 ],
 "metadata": {
  "kernelspec": {
   "display_name": "Python 3",
   "language": "python",
   "name": "python3"
  },
  "language_info": {
   "codemirror_mode": {
    "name": "ipython",
    "version": 3
   },
   "file_extension": ".py",
   "mimetype": "text/x-python",
   "name": "python",
   "nbconvert_exporter": "python",
   "pygments_lexer": "ipython3",
   "version": "3.7.6"
  }
 },
 "nbformat": 4,
 "nbformat_minor": 2
}
